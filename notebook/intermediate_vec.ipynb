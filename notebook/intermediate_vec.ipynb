{
 "cells": [
  {
   "cell_type": "code",
   "execution_count": 1,
   "id": "eec5fd3d",
   "metadata": {
    "papermill": {
     "duration": 0.112207,
     "end_time": "2021-09-27T02:54:59.505937",
     "exception": false,
     "start_time": "2021-09-27T02:54:59.393730",
     "status": "completed"
    },
    "tags": []
   },
   "outputs": [
    {
     "name": "stdout",
     "output_type": "stream",
     "text": [
      "DESKTOP-M3SEAIN_exp0100_embeding\n"
     ]
    },
    {
     "data": {
      "text/plain": [
       "('exp0100_embeding', 'DESKTOP-M3SEAIN')"
      ]
     },
     "execution_count": 1,
     "metadata": {},
     "output_type": "execute_result"
    }
   ],
   "source": [
    "import socket\n",
    "import sys\n",
    "\n",
    "is_kaggle = False\n",
    "if not is_kaggle:\n",
    "    from my_utils import get_notebook_path\n",
    "    get_notebook_path().split('/')[-1].split('.')[0]\n",
    "    NB = get_notebook_path().split('/')[-1].split('.')[0]\n",
    "    HOST = socket.gethostname()\n",
    "    import mlflow\n",
    "    from logzero import logger\n",
    "    DELIMITER = '\\\\'\n",
    "\n",
    "else:\n",
    "    NB = 'exp0001'\n",
    "    HOST = 'DESKTOP-M3SEAIN'\n",
    "    sys.path.append('../input/pytorch-image-models/pytorch-image-models-master')\n",
    "    DELIMITER = '/'\n",
    "description = '256'\n",
    "\n",
    "print(f'{HOST}_{NB}')\n",
    "\n",
    "NB, HOST"
   ]
  },
  {
   "cell_type": "code",
   "execution_count": null,
   "id": "9bcb89f0",
   "metadata": {
    "papermill": {
     "duration": 0.021702,
     "end_time": "2021-09-27T02:54:59.551604",
     "exception": false,
     "start_time": "2021-09-27T02:54:59.529902",
     "status": "completed"
    },
    "tags": []
   },
   "outputs": [],
   "source": []
  },
  {
   "cell_type": "code",
   "execution_count": 2,
   "id": "78e2c2cc",
   "metadata": {
    "papermill": {
     "duration": 6.891314,
     "end_time": "2021-09-27T02:55:06.464626",
     "exception": false,
     "start_time": "2021-09-27T02:54:59.573312",
     "status": "completed"
    },
    "tags": []
   },
   "outputs": [
    {
     "name": "stderr",
     "output_type": "stream",
     "text": [
      "C:\\Users\\owner\\.conda\\envs\\kaggle\\lib\\site-packages\\ipykernel\\ipkernel.py:287: DeprecationWarning: `should_run_async` will not call `transform_cell` automatically in the future. Please pass the result to `transformed_cell` argument and any exception that happen during thetransform in `preprocessing_exc_tuple` in IPython 7.17 and above.\n",
      "  and should_run_async(code)\n"
     ]
    }
   ],
   "source": [
    "#from cosine_annealing_warmup import CosineAnnealingWarmupRestarts\n",
    "import pandas as pd\n",
    "import numpy as np\n",
    "import matplotlib.pyplot as plt\n",
    "import cv2\n",
    "import glob\n",
    "from sklearn.model_selection import StratifiedKFold, KFold\n",
    "if not is_kaggle:\n",
    "    from sklearn.model_selection import StratifiedGroupKFold\n",
    "from sklearn.metrics import roc_auc_score, accuracy_score, mean_squared_error, f1_score\n",
    "from pathlib import Path\n",
    "from tqdm import tqdm\n",
    "from collections import OrderedDict\n",
    "import random\n",
    "import os\n",
    "import gc\n",
    "import shutil\n",
    "import timm\n",
    "\n",
    "\n",
    "import torch.optim as optim\n",
    "import torch\n",
    "from torch import nn\n",
    "from torch.utils.data import Dataset, DataLoader\n",
    "\n",
    "import albumentations as albu\n",
    "\n",
    "import pickle\n",
    "\n",
    "import warnings\n",
    "warnings.simplefilter('ignore')\n",
    "\n",
    "if is_kaggle:\n",
    "    DATA_DIR = Path('../input/petfinder-pawpularity-score')\n",
    "    OUTPUT_DIR = Path('./')\n",
    "    CP_DIR = Path('../input') / Path('DESKTOP-M3SEAIN_exp0001'.lower().replace('-', '').replace('_', '-'))\n",
    "else:\n",
    "    ROOT_DIR = Path('../')\n",
    "    DATA_DIR = ROOT_DIR / 'data'\n",
    "    OUTPUT_DIR = Path('../') / 'output'\n",
    "    CP_DIR = OUTPUT_DIR / 'checkpoint'\n",
    "\n",
    "def to_pickle(filename, obj):\n",
    "    with open(filename, mode='wb') as f:\n",
    "        pickle.dump(obj, f)\n",
    "        \n",
    "def unpickle(filename):\n",
    "    with open(filename, mode='rb') as fo:\n",
    "        p = pickle.load(fo)\n",
    "    return p "
   ]
  },
  {
   "cell_type": "code",
   "execution_count": 3,
   "id": "a910b3a4",
   "metadata": {
    "papermill": {
     "duration": 0.038449,
     "end_time": "2021-09-27T02:55:06.632933",
     "exception": false,
     "start_time": "2021-09-27T02:55:06.594484",
     "status": "completed"
    },
    "tags": []
   },
   "outputs": [],
   "source": [
    "class Config:\n",
    "    N_LABEL = 4\n",
    "    N_FOLD = 5\n",
    "    RANDOM_SATE = 42\n",
    "    LR = 1.0e-05\n",
    "    MAX_LR = 8.0e-4\n",
    "    PATIENCE = 18\n",
    "    EPOCH = 50\n",
    "    BATCH_SIZE = 4\n",
    "    SKIP_EVALUATE_NUM = 0\n",
    "    BACK_BONE = 'tf_efficientnet_b0_ns'\n",
    "    RUN_FOLD_COUNT = 10\n",
    "    IMG_SIZE=256\n",
    "    T_MAX=20\n",
    "    ETA_MIN=3.0e-7\n",
    "    SCHEDULER_GAMMA=1.0\n",
    "    ACCUMULATION_STEMP=2\n",
    "    \n",
    "if is_kaggle:\n",
    "    Config.BATCH_SIZE = 6\n",
    "    \n",
    "def seed_everything(seed=1234):\n",
    "    random.seed(seed)\n",
    "    os.environ['PYTHONHASHSEED'] = str(seed)\n",
    "    np.random.seed(seed)\n",
    "    torch.manual_seed(seed)\n",
    "    torch.cuda.manual_seed(seed)\n",
    "    torch.backends.cudnn.deterministic = True\n",
    "    torch.backends.cudnn.benchmark = False\n",
    "\n",
    "seed_everything(seed=Config.RANDOM_SATE)"
   ]
  },
  {
   "cell_type": "code",
   "execution_count": 4,
   "id": "e04cf711",
   "metadata": {
    "papermill": {
     "duration": 0.028675,
     "end_time": "2021-09-27T02:55:06.728350",
     "exception": false,
     "start_time": "2021-09-27T02:55:06.699675",
     "status": "completed"
    },
    "tags": []
   },
   "outputs": [],
   "source": [
    "#print(timm.list_models(pretrained=True))"
   ]
  },
  {
   "cell_type": "code",
   "execution_count": 5,
   "id": "5dca3a06",
   "metadata": {},
   "outputs": [],
   "source": [
    "train_labels = np.load('../data/train_data.npz')['arr_1']\n",
    "train_imgs = np.load('../data/train_data.npz')['arr_0']\n",
    "test_imgs = np.load('../data/test_data.npz')['arr_0']"
   ]
  },
  {
   "cell_type": "code",
   "execution_count": 6,
   "id": "32ef8b2b",
   "metadata": {},
   "outputs": [],
   "source": [
    "train_labels_df = pd.get_dummies(pd.DataFrame(train_labels)[0])"
   ]
  },
  {
   "cell_type": "code",
   "execution_count": 7,
   "id": "7955ce81",
   "metadata": {
    "papermill": {
     "duration": 0.033222,
     "end_time": "2021-09-27T02:55:08.979344",
     "exception": false,
     "start_time": "2021-09-27T02:55:08.946122",
     "status": "completed"
    },
    "tags": []
   },
   "outputs": [],
   "source": [
    "def get_augmentation():\n",
    "    train_transform = [\n",
    "        albu.Resize(height=Config.IMG_SIZE, width=Config.IMG_SIZE),\n",
    "        albu.Normalize(),\n",
    "    ]\n",
    "    return albu.Compose(train_transform)"
   ]
  },
  {
   "cell_type": "code",
   "execution_count": null,
   "id": "e788c391",
   "metadata": {},
   "outputs": [],
   "source": []
  },
  {
   "cell_type": "code",
   "execution_count": 8,
   "id": "e9ea36ca",
   "metadata": {
    "papermill": {
     "duration": 0.035303,
     "end_time": "2021-09-27T02:55:09.041468",
     "exception": false,
     "start_time": "2021-09-27T02:55:09.006165",
     "status": "completed"
    },
    "tags": []
   },
   "outputs": [],
   "source": [
    "class EmbDataSet(Dataset):\n",
    "    def __init__(self, images, transforms, data_type=None):\n",
    "        self.images = images\n",
    "        self.data_type = data_type\n",
    "        self.transforms = transforms\n",
    "\n",
    "    def __len__(self):\n",
    "        return len(self.images)\n",
    "\n",
    "    def __getitem__(self, idx):\n",
    "        img = self.images[idx]\n",
    "        \n",
    "        augmented = self.transforms(image=img)\n",
    "        img = augmented['image']\n",
    "        img = np.moveaxis(img, 2, 0)\n",
    "        \n",
    "        return img\n"
   ]
  },
  {
   "cell_type": "code",
   "execution_count": 9,
   "id": "a55ee988",
   "metadata": {
    "papermill": {
     "duration": 0.034874,
     "end_time": "2021-09-27T02:55:09.102696",
     "exception": false,
     "start_time": "2021-09-27T02:55:09.067822",
     "status": "completed"
    },
    "tags": []
   },
   "outputs": [],
   "source": [
    "class EmbNet(nn.Module):\n",
    "    def __init__(self):\n",
    "        super(EmbNet, self).__init__()\n",
    "\n",
    "        self.base_model = timm.create_model(Config.BACK_BONE, num_classes=0, pretrained=True, in_chans=3)\n",
    "        num_features = self.base_model.num_features\n",
    "\n",
    "        self.cls = nn.Sequential(\n",
    "            nn.Linear(num_features, int(num_features / 2)),\n",
    "            nn.ReLU(),\n",
    "            nn.Dropout(p=0.5),\n",
    "            nn.Linear(int(num_features / 2), int(num_features / 4)),\n",
    "            nn.ReLU(),\n",
    "            nn.Dropout(p=0.5),\n",
    "            nn.Linear(int(num_features / 4), Config.N_LABEL)\n",
    "        )\n",
    "\n",
    "    def forward(self, x):\n",
    "        x = self.base_model(x)\n",
    "        x = self.cls(x)\n",
    "        return x"
   ]
  },
  {
   "cell_type": "code",
   "execution_count": 10,
   "id": "05f2dd6a",
   "metadata": {
    "papermill": {
     "duration": 0.084495,
     "end_time": "2021-09-27T02:55:09.277010",
     "exception": false,
     "start_time": "2021-09-27T02:55:09.192515",
     "status": "completed"
    },
    "tags": []
   },
   "outputs": [
    {
     "data": {
      "text/plain": [
       "device(type='cuda')"
      ]
     },
     "execution_count": 10,
     "metadata": {},
     "output_type": "execute_result"
    }
   ],
   "source": [
    "device = torch.device(\"cuda\" if torch.cuda.is_available() else \"cpu\")\n",
    "device"
   ]
  },
  {
   "cell_type": "code",
   "execution_count": null,
   "id": "c6fbd598",
   "metadata": {},
   "outputs": [],
   "source": []
  },
  {
   "cell_type": "code",
   "execution_count": 11,
   "id": "e9b98513",
   "metadata": {},
   "outputs": [
    {
     "name": "stderr",
     "output_type": "stream",
     "text": [
      "100%|██████████████████████████████████████████████████████████████████████████████| 1611/1611 [00:49<00:00, 32.82it/s]\n",
      "100%|████████████████████████████████████████████████████████████████████████████████| 500/500 [00:14<00:00, 34.61it/s]\n"
     ]
    },
    {
     "name": "stdout",
     "output_type": "stream",
     "text": [
      "Wall time: 1min 6s\n"
     ]
    }
   ],
   "source": [
    "%%time\n",
    "\n",
    "net = EmbNet().base_model\n",
    "net.to(device)\n",
    "\n",
    "train_outputs = []\n",
    "test_outputs = []\n",
    "train_dataset = EmbDataSet(train_imgs, get_augmentation(), data_type='train')\n",
    "test_dataset = EmbDataSet(test_imgs, get_augmentation(), data_type='test')\n",
    "\n",
    "trainloader = DataLoader(train_dataset, batch_size=Config.BATCH_SIZE, shuffle=False, drop_last=False)\n",
    "testloader = DataLoader(test_dataset, batch_size=Config.BATCH_SIZE, shuffle=False, drop_last=False)\n",
    "\n",
    "for img in tqdm(trainloader, total=len(trainloader)):\n",
    "    net.eval()\n",
    "\n",
    "    with torch.no_grad():\n",
    "        img = img.to(device).float()\n",
    "        output = net(img)\n",
    "        output = output.to('cpu').detach().numpy().copy()\n",
    "        train_outputs.append(output)\n",
    "        \n",
    "for img in tqdm(testloader, total=len(testloader)):\n",
    "    net.eval()\n",
    "\n",
    "    with torch.no_grad():\n",
    "        img = img.to(device).float()\n",
    "        output = net(img)\n",
    "        output = output.to('cpu').detach().numpy().copy()\n",
    "        test_outputs.append(output)"
   ]
  },
  {
   "cell_type": "code",
   "execution_count": 14,
   "id": "5850d752",
   "metadata": {},
   "outputs": [
    {
     "data": {
      "text/plain": [
       "array([[ 0.05335956,  0.04720343,  0.30871895, ...,  0.36370742,\n",
       "         0.75598   ,  0.5224472 ],\n",
       "       [-0.00957962, -0.11519627, -0.19632664, ...,  0.26870325,\n",
       "        -0.19640139, -0.14268734],\n",
       "       [ 0.02004881,  0.46732742,  0.09173357, ...,  0.34954405,\n",
       "        -0.00622322,  0.38592005],\n",
       "       ...,\n",
       "       [-0.09880641,  0.1422289 ,  0.3452528 , ...,  0.04504676,\n",
       "         0.26873484,  0.03510376],\n",
       "       [ 0.00991592, -0.12312946, -0.15985121, ...,  0.5627369 ,\n",
       "         0.8107333 , -0.08827448],\n",
       "       [-0.08532782,  0.22903477,  0.35048908, ...,  0.61091995,\n",
       "        -0.0555803 , -0.01716992]], dtype=float32)"
      ]
     },
     "execution_count": 14,
     "metadata": {},
     "output_type": "execute_result"
    }
   ],
   "source": [
    "train_emb = np.vstack(train_outputs)\n",
    "test_emb = np.vstack(test_outputs)\n",
    "train_emb"
   ]
  },
  {
   "cell_type": "code",
   "execution_count": null,
   "id": "55a3b4a8",
   "metadata": {},
   "outputs": [],
   "source": []
  }
 ],
 "metadata": {
  "kernelspec": {
   "display_name": "Python 3 (ipykernel)",
   "language": "python",
   "name": "python3"
  },
  "language_info": {
   "codemirror_mode": {
    "name": "ipython",
    "version": 3
   },
   "file_extension": ".py",
   "mimetype": "text/x-python",
   "name": "python",
   "nbconvert_exporter": "python",
   "pygments_lexer": "ipython3",
   "version": "3.10.5"
  },
  "papermill": {
   "default_parameters": {},
   "duration": 26.648251,
   "end_time": "2021-09-27T02:55:19.607961",
   "environment_variables": {},
   "exception": null,
   "input_path": "__notebook__.ipynb",
   "output_path": "__notebook__.ipynb",
   "parameters": {},
   "start_time": "2021-09-27T02:54:52.959710",
   "version": "2.3.3"
  }
 },
 "nbformat": 4,
 "nbformat_minor": 5
}
