{
 "cells": [
  {
   "cell_type": "code",
   "execution_count": 1,
   "metadata": {
    "papermill": {
     "duration": 0.112207,
     "end_time": "2021-09-27T02:54:59.505937",
     "exception": false,
     "start_time": "2021-09-27T02:54:59.393730",
     "status": "completed"
    },
    "tags": []
   },
   "outputs": [
    {
     "data": {
      "text/plain": [
       "('exp0001', 'DESKTOP-M3SEAIN')"
      ]
     },
     "execution_count": 1,
     "metadata": {},
     "output_type": "execute_result"
    }
   ],
   "source": [
    "import socket\n",
    "import sys\n",
    "\n",
    "\"\"\"from my_utils import get_notebook_path\n",
    "NB = get_notebook_path().split('/')[-1].split('.')[0]\n",
    "HOST = socket.gethostname()\n",
    "\n",
    "'\"\"\"\n",
    "\n",
    "NB = 'exp0001'\n",
    "HOST = 'DESKTOP-M3SEAIN'\n",
    "\n",
    "NB, HOST"
   ]
  },
  {
   "cell_type": "code",
   "execution_count": null,
   "metadata": {
    "papermill": {
     "duration": 0.021702,
     "end_time": "2021-09-27T02:54:59.551604",
     "exception": false,
     "start_time": "2021-09-27T02:54:59.529902",
     "status": "completed"
    },
    "tags": []
   },
   "outputs": [],
   "source": []
  },
  {
   "cell_type": "code",
   "execution_count": 2,
   "metadata": {
    "papermill": {
     "duration": 6.891314,
     "end_time": "2021-09-27T02:55:06.464626",
     "exception": false,
     "start_time": "2021-09-27T02:54:59.573312",
     "status": "completed"
    },
    "tags": []
   },
   "outputs": [],
   "source": [
    "#from cosine_annealing_warmup import CosineAnnealingWarmupRestarts\n",
    "import pandas as pd\n",
    "import numpy as np\n",
    "import matplotlib.pyplot as plt\n",
    "import cv2\n",
    "import glob\n",
    "from sklearn.model_selection import StratifiedGroupKFold, StratifiedKFold, KFold\n",
    "from sklearn.metrics import roc_auc_score, accuracy_score, mean_squared_error\n",
    "from pathlib import Path\n",
    "from logzero import logger\n",
    "from tqdm import tqdm\n",
    "from collections import OrderedDict\n",
    "import random\n",
    "import os\n",
    "import gc\n",
    "import shutil\n",
    "import timm\n",
    "\n",
    "import mlflow\n",
    "\n",
    "\n",
    "import torch.optim as optim\n",
    "import torch\n",
    "from torch import nn\n",
    "from torch.utils.data import Dataset, DataLoader\n",
    "\n",
    "import albumentations as albu\n",
    "\n",
    "import pickle\n",
    "\n",
    "import warnings\n",
    "warnings.simplefilter('ignore')\n",
    "\n",
    "\n",
    "ROOT_DIR = Path('../')\n",
    "DATA_DIR = ROOT_DIR / 'data'\n",
    "OUTPUT_DIR = ROOT_DIR / 'output'\n",
    "CP_DIR = OUTPUT_DIR / 'checkpoint'\n",
    "\n",
    "def to_pickle(filename, obj):\n",
    "    with open(filename, mode='wb') as f:\n",
    "        pickle.dump(obj, f)\n",
    "        \n",
    "def unpickle(filename):\n",
    "    with open(filename, mode='rb') as fo:\n",
    "        p = pickle.load(fo)\n",
    "    return p "
   ]
  },
  {
   "cell_type": "code",
   "execution_count": null,
   "metadata": {
    "papermill": {
     "duration": 0.030687,
     "end_time": "2021-09-27T02:55:06.518944",
     "exception": false,
     "start_time": "2021-09-27T02:55:06.488257",
     "status": "completed"
    },
    "tags": []
   },
   "outputs": [],
   "source": []
  },
  {
   "cell_type": "code",
   "execution_count": null,
   "metadata": {
    "papermill": {
     "duration": 0.029823,
     "end_time": "2021-09-27T02:55:06.571004",
     "exception": false,
     "start_time": "2021-09-27T02:55:06.541181",
     "status": "completed"
    },
    "tags": []
   },
   "outputs": [],
   "source": []
  },
  {
   "cell_type": "code",
   "execution_count": 3,
   "metadata": {
    "papermill": {
     "duration": 0.038449,
     "end_time": "2021-09-27T02:55:06.632933",
     "exception": false,
     "start_time": "2021-09-27T02:55:06.594484",
     "status": "completed"
    },
    "tags": []
   },
   "outputs": [],
   "source": [
    "\n",
    "class Config:\n",
    "    N_LABEL = 10\n",
    "    N_FOLD = 5\n",
    "    RANDOM_SATE = 42\n",
    "    LR = 1.0e-05\n",
    "    MAX_LR = 3.0e-5\n",
    "    PATIENCE = 15\n",
    "    EPOCH = 25\n",
    "    BATCH_SIZE = 16\n",
    "    SKIP_EVALUATE_NUM = 0\n",
    "    BACK_BONE = 'tf_efficientnet_b0_ns'\n",
    "    RUN_FOLD_COUNT = 10\n",
    "    IMG_SIZE=64\n",
    "    T_MAX=20\n",
    "    ETA_MIN=3.0e-7\n",
    "    SCHEDULER_GAMMA=1.0\n",
    "    ACCUMULATION_STEMP=2\n",
    "\n",
    "def seed_everything(seed=1234):\n",
    "    random.seed(seed)\n",
    "    os.environ['PYTHONHASHSEED'] = str(seed)\n",
    "    np.random.seed(seed)\n",
    "    torch.manual_seed(seed)\n",
    "    torch.cuda.manual_seed(seed)\n",
    "    torch.backends.cudnn.deterministic = True\n",
    "    torch.backends.cudnn.benchmark = False\n",
    "\n",
    "seed_everything(seed=Config.RANDOM_SATE)"
   ]
  },
  {
   "cell_type": "code",
   "execution_count": 4,
   "metadata": {
    "papermill": {
     "duration": 0.028675,
     "end_time": "2021-09-27T02:55:06.728350",
     "exception": false,
     "start_time": "2021-09-27T02:55:06.699675",
     "status": "completed"
    },
    "tags": []
   },
   "outputs": [],
   "source": [
    "#timm.list_models(pretrained=True)"
   ]
  },
  {
   "cell_type": "code",
   "execution_count": 5,
   "metadata": {
    "papermill": {
     "duration": 0.030289,
     "end_time": "2021-09-27T02:55:06.780933",
     "exception": false,
     "start_time": "2021-09-27T02:55:06.750644",
     "status": "completed"
    },
    "tags": []
   },
   "outputs": [
    {
     "data": {
      "text/plain": [
       "['..\\\\data\\\\house_price_test.csv',\n",
       " '..\\\\data\\\\house_price_train.csv',\n",
       " '..\\\\data\\\\mnist',\n",
       " '..\\\\data\\\\mnist_test.csv',\n",
       " '..\\\\data\\\\mnist_train.csv',\n",
       " '..\\\\data\\\\titanic_test.csv',\n",
       " '..\\\\data\\\\titanic_train.csv',\n",
       " '..\\\\data\\\\tweet_test.csv',\n",
       " '..\\\\data\\\\tweet_train.csv']"
      ]
     },
     "execution_count": 5,
     "metadata": {},
     "output_type": "execute_result"
    }
   ],
   "source": [
    "glob.glob(str(DATA_DIR / '*'))"
   ]
  },
  {
   "cell_type": "code",
   "execution_count": 6,
   "metadata": {},
   "outputs": [],
   "source": [
    "train_df = pd.read_csv(DATA_DIR / 'mnist_train.csv')\n",
    "test_df = pd.read_csv(DATA_DIR / 'mnist_test.csv')\n",
    "\n",
    "train_labels = pd.get_dummies(train_df['target'])[:len(train_df)]"
   ]
  },
  {
   "cell_type": "code",
   "execution_count": null,
   "metadata": {},
   "outputs": [],
   "source": []
  },
  {
   "cell_type": "code",
   "execution_count": 7,
   "metadata": {
    "papermill": {
     "duration": 0.057802,
     "end_time": "2021-09-27T02:55:06.861433",
     "exception": false,
     "start_time": "2021-09-27T02:55:06.803631",
     "status": "completed"
    },
    "tags": []
   },
   "outputs": [],
   "source": [
    "img_map = {}\n",
    "for idx, row in train_df.iterrows():\n",
    "    img_map[row['file_name']] = cv2.imread(str(DATA_DIR / Path('mnist') / Path(row['file_name'])))\n",
    "    \n",
    "for idx, row in test_df.iterrows():\n",
    "    img_map[row['file_name']] = cv2.imread(str(DATA_DIR / Path('mnist') / Path(row['file_name'])))"
   ]
  },
  {
   "cell_type": "code",
   "execution_count": null,
   "metadata": {},
   "outputs": [],
   "source": []
  },
  {
   "cell_type": "code",
   "execution_count": null,
   "metadata": {},
   "outputs": [],
   "source": []
  },
  {
   "cell_type": "code",
   "execution_count": 8,
   "metadata": {
    "papermill": {
     "duration": 0.033222,
     "end_time": "2021-09-27T02:55:08.979344",
     "exception": false,
     "start_time": "2021-09-27T02:55:08.946122",
     "status": "completed"
    },
    "tags": []
   },
   "outputs": [],
   "source": [
    "def get_augmentation():\n",
    "    train_transform = [\n",
    "        #albu.HorizontalFlip(p=0.2),\n",
    "        #albu.VerticalFlip(p=0.5),\n",
    "        #albu.ColorJitter(brightness=0.2, contrast=0.2, saturation=0.3, p=0.5),\n",
    "        #albu.LongestMaxSize(max_size=Config.IMG_SIZE, always_apply=False),\n",
    "        albu.RandomResizedCrop(p=0.5, scale=[0.9, 1.0], height=Config.IMG_SIZE, width=Config.IMG_SIZE),\n",
    "        albu.ShiftScaleRotate(p=0.5, shift_limit=0.1, scale_limit=0.1, rotate_limit=1, border_mode=0, value=0, mask_value=0),\n",
    "        \n",
    "        #albu.Cutout(num_holes=3, max_h_size=20, max_w_size=20, fill_value=0, p=0.5),\n",
    "        \n",
    "        albu.Resize(height=Config.IMG_SIZE, width=Config.IMG_SIZE),\n",
    "        #albu.PadIfNeeded(always_apply=True, min_height=Config.IMG_SIZE, min_width=Config.IMG_SIZE, border_mode=2),\n",
    "        albu.Normalize(),\n",
    "        #albu.VerticalFlip(p=0.3),\n",
    "        #albu.ShiftScaleRotate(p=0.3, shift_limit=0.2, scale_limit=0.2, rotate_limit=1, border_mode=0, value=0, mask_value=0),\n",
    "        #albu.RandomResizedCrop(p=0.5, scale=[0.9, 1.0], height=Config.IMG_SIZE, width=Config.IMG_SIZE),\n",
    "        #albu.ToSepia(p=0.3),\n",
    "        #albu.ToGray(p=1)\n",
    "    ]\n",
    "    return albu.Compose(train_transform)\n",
    "\n",
    "def get_test_augmentation():\n",
    "    train_transform = [\n",
    "        #albu.HorizontalFlip (p=0.5),\n",
    "        #albu.VerticalFlip(p=0.3),\n",
    "        #albu.ColorJitter(brightness=0.1, contrast=0.1, saturation=0.1, p=0.5),\n",
    "        #albu.LongestMaxSize(max_size=Config.IMG_SIZE, always_apply=False),\n",
    "        albu.Resize(height=Config.IMG_SIZE, width=Config.IMG_SIZE),\n",
    "        #albu.PadIfNeeded(always_apply=True, min_height=Config.IMG_SIZE, min_width=Config.IMG_SIZE, border_mode=2),\n",
    "        #albu.HorizontalFlip(p=0.4),\n",
    "        albu.Normalize(),\n",
    "        #albu.VerticalFlip(p=0.3),\n",
    "        #albu.ShiftScaleRotate(p=0.3, shift_limit=0.2, scale_limit=0.2, rotate_limit=1, border_mode=0, value=0, mask_value=0),\n",
    "        #albu.RandomResizedCrop(p=0.5, scale=[0.9, 1.0], height=Config.IMG_SIZE, width=Config.IMG_SIZE),\n",
    "        #albu.ToSepia(p=0.3),\n",
    "        #albu.ToGray(p=1)\n",
    "    ]\n",
    "    return albu.Compose(train_transform)"
   ]
  },
  {
   "cell_type": "code",
   "execution_count": 9,
   "metadata": {
    "papermill": {
     "duration": 0.035303,
     "end_time": "2021-09-27T02:55:09.041468",
     "exception": false,
     "start_time": "2021-09-27T02:55:09.006165",
     "status": "completed"
    },
    "tags": []
   },
   "outputs": [],
   "source": [
    "class CVDataSet(Dataset):\n",
    "    def __init__(self, df, transforms, labels=None, data_type=None):\n",
    "        self.df = df\n",
    "        self.transforms = transforms\n",
    "        self.labels = labels.to_numpy()\n",
    "        self.data_type = data_type\n",
    "\n",
    "    def __len__(self):\n",
    "        return len(self.df)\n",
    "\n",
    "    def __getitem__(self, idx):\n",
    "        if self.data_type in ['train', 'valid']:\n",
    "            target = self.labels[idx]\n",
    "        else:\n",
    "            target = -1\n",
    "            \n",
    "        img = img_map[self.df.iloc[idx]['file_name']]\n",
    "        \n",
    "        augmented = self.transforms(image=img)\n",
    "        img = augmented['image']\n",
    "        img = np.moveaxis(img, 2, 0)\n",
    "\n",
    "        return img, target"
   ]
  },
  {
   "cell_type": "code",
   "execution_count": 10,
   "metadata": {
    "papermill": {
     "duration": 0.034874,
     "end_time": "2021-09-27T02:55:09.102696",
     "exception": false,
     "start_time": "2021-09-27T02:55:09.067822",
     "status": "completed"
    },
    "tags": []
   },
   "outputs": [],
   "source": [
    "class CVNet(nn.Module):\n",
    "    def __init__(self):\n",
    "        super(CVNet, self).__init__()\n",
    "\n",
    "        self.base_model = timm.create_model(Config.BACK_BONE, num_classes=0, pretrained=True, in_chans=3)\n",
    "        num_features = self.base_model.num_features\n",
    "\n",
    "        self.cls = nn.Sequential(\n",
    "            nn.Linear(num_features, int(num_features / 2)),\n",
    "            nn.ReLU(),\n",
    "            nn.Dropout(p=0.5),\n",
    "            nn.Linear(int(num_features / 2), int(num_features / 4)),\n",
    "            nn.ReLU(),\n",
    "            nn.Dropout(p=0.5),\n",
    "            nn.Linear(int(num_features / 4), Config.N_LABEL)\n",
    "        )\n",
    "\n",
    "    def forward(self, x):\n",
    "        x = self.base_model(x)\n",
    "        x = self.cls(x)\n",
    "        return x"
   ]
  },
  {
   "cell_type": "code",
   "execution_count": 11,
   "metadata": {
    "papermill": {
     "duration": 0.03708,
     "end_time": "2021-09-27T02:55:09.166253",
     "exception": false,
     "start_time": "2021-09-27T02:55:09.129173",
     "status": "completed"
    },
    "tags": []
   },
   "outputs": [],
   "source": [
    "class EarlyStopping:\n",
    "    def __init__(self, patience=7, verbose=False, delta=0, fold=''):\n",
    "        self.patience = patience\n",
    "        self.verbose = verbose\n",
    "        self.counter = 0\n",
    "        self.best_score = None\n",
    "        self.early_stop = False\n",
    "        self.val_loss_min = np.Inf\n",
    "        self.delta = delta\n",
    "\n",
    "    def __call__(self, val_loss, model):\n",
    "\n",
    "        score = -val_loss\n",
    "\n",
    "        if self.best_score is None:\n",
    "            self.best_score = score\n",
    "            self.save_checkpoint(val_loss, model)\n",
    "        elif score < self.best_score + self.delta:\n",
    "            self.counter += 1\n",
    "            logger.info(f'EarlyStopping counter: {self.counter} out of {self.patience}')\n",
    "            if self.counter >= self.patience:\n",
    "                self.early_stop = True\n",
    "        else:\n",
    "            self.best_score = score\n",
    "            self.save_checkpoint(val_loss, model)\n",
    "            self.counter = 0\n",
    "\n",
    "    def save_checkpoint(self, val_loss, model):\n",
    "        '''Saves model when validation loss decrease.'''\n",
    "        if self.verbose:\n",
    "            logger.info(f'Validation loss decreased ({self.val_loss_min:.6f} --> {val_loss:.6f}).  Saving model ...')\n",
    "            \n",
    "        #if os.path.exists(CP_DIR / f'checkpoint_{NB}_{fold}.pt'):\n",
    "        #    shutil.move(CP_DIR / f'checkpoint_{NB}_{fold}.pt', CP_DIR / f'checkpoint_{NB}_{fold}-2.pt')\n",
    "        torch.save(model.state_dict(), CP_DIR / f'checkpoint_{HOST}_{NB}_{fold}.pt')\n",
    "        self.val_loss_min = val_loss"
   ]
  },
  {
   "cell_type": "code",
   "execution_count": 12,
   "metadata": {
    "papermill": {
     "duration": 0.084495,
     "end_time": "2021-09-27T02:55:09.277010",
     "exception": false,
     "start_time": "2021-09-27T02:55:09.192515",
     "status": "completed"
    },
    "tags": []
   },
   "outputs": [
    {
     "data": {
      "text/plain": [
       "device(type='cuda')"
      ]
     },
     "execution_count": 12,
     "metadata": {},
     "output_type": "execute_result"
    }
   ],
   "source": [
    "device = torch.device(\"cuda\" if torch.cuda.is_available() else \"cpu\")\n",
    "device"
   ]
  },
  {
   "cell_type": "code",
   "execution_count": 13,
   "metadata": {
    "papermill": {
     "duration": 0.049482,
     "end_time": "2021-09-27T02:55:09.353427",
     "exception": false,
     "start_time": "2021-09-27T02:55:09.303945",
     "status": "completed"
    },
    "tags": []
   },
   "outputs": [
    {
     "name": "stdout",
     "output_type": "stream",
     "text": [
      "====== 0 ======\n"
     ]
    },
    {
     "name": "stderr",
     "output_type": "stream",
     "text": [
      "100%|████████████████████████████████████████████████████████████| 50/50 [00:05<00:00,  8.80it/s, epoch=0, loss=0.6973]\n",
      "100%|██████████████████████████████████████████████████████████████████████████████████| 13/13 [00:00<00:00, 57.06it/s]\n",
      "[I 220918 18:38:37 <ipython-input-13-eba0bd8ad1bb>:74] acc:0.1050\n",
      "[I 220918 18:38:37 <ipython-input-11-69ff1a595f6e>:31] Validation loss decreased (inf --> -0.105000).  Saving model ...\n",
      "100%|████████████████████████████████████████████████████████████| 50/50 [00:04<00:00, 10.91it/s, epoch=1, loss=0.6630]\n",
      "100%|██████████████████████████████████████████████████████████████████████████████████| 13/13 [00:00<00:00, 57.46it/s]\n",
      "[I 220918 18:38:43 <ipython-input-13-eba0bd8ad1bb>:74] acc:0.1250\n",
      "[I 220918 18:38:43 <ipython-input-11-69ff1a595f6e>:31] Validation loss decreased (-0.105000 --> -0.125000).  Saving model ...\n",
      "100%|████████████████████████████████████████████████████████████| 50/50 [00:04<00:00, 10.97it/s, epoch=2, loss=0.5859]\n",
      "100%|██████████████████████████████████████████████████████████████████████████████████| 13/13 [00:00<00:00, 57.86it/s]\n",
      "[I 220918 18:38:48 <ipython-input-13-eba0bd8ad1bb>:74] acc:0.1350\n",
      "[I 220918 18:38:48 <ipython-input-11-69ff1a595f6e>:31] Validation loss decreased (-0.125000 --> -0.135000).  Saving model ...\n",
      "100%|████████████████████████████████████████████████████████████| 50/50 [00:04<00:00, 10.96it/s, epoch=3, loss=0.4244]\n",
      "100%|██████████████████████████████████████████████████████████████████████████████████| 13/13 [00:00<00:00, 58.39it/s]\n",
      "[I 220918 18:38:52 <ipython-input-13-eba0bd8ad1bb>:74] acc:0.1200\n",
      "[I 220918 18:38:52 <ipython-input-11-69ff1a595f6e>:20] EarlyStopping counter: 1 out of 15\n",
      "100%|████████████████████████████████████████████████████████████| 50/50 [00:04<00:00, 10.93it/s, epoch=4, loss=0.3738]\n",
      "100%|██████████████████████████████████████████████████████████████████████████████████| 13/13 [00:00<00:00, 58.28it/s]\n",
      "[I 220918 18:38:57 <ipython-input-13-eba0bd8ad1bb>:74] acc:0.1150\n",
      "[I 220918 18:38:57 <ipython-input-11-69ff1a595f6e>:20] EarlyStopping counter: 2 out of 15\n",
      "100%|████████████████████████████████████████████████████████████| 50/50 [00:04<00:00, 10.93it/s, epoch=5, loss=0.3307]\n",
      "100%|██████████████████████████████████████████████████████████████████████████████████| 13/13 [00:00<00:00, 59.09it/s]\n",
      "[I 220918 18:39:02 <ipython-input-13-eba0bd8ad1bb>:74] acc:0.1950\n",
      "[I 220918 18:39:02 <ipython-input-11-69ff1a595f6e>:31] Validation loss decreased (-0.135000 --> -0.195000).  Saving model ...\n",
      "100%|████████████████████████████████████████████████████████████| 50/50 [00:04<00:00, 10.92it/s, epoch=6, loss=0.3502]\n",
      "100%|██████████████████████████████████████████████████████████████████████████████████| 13/13 [00:00<00:00, 58.05it/s]\n",
      "[I 220918 18:39:07 <ipython-input-13-eba0bd8ad1bb>:74] acc:0.3850\n",
      "[I 220918 18:39:07 <ipython-input-11-69ff1a595f6e>:31] Validation loss decreased (-0.195000 --> -0.385000).  Saving model ...\n",
      "100%|████████████████████████████████████████████████████████████| 50/50 [00:04<00:00, 10.93it/s, epoch=7, loss=0.3335]\n",
      "100%|██████████████████████████████████████████████████████████████████████████████████| 13/13 [00:00<00:00, 56.81it/s]\n",
      "[I 220918 18:39:12 <ipython-input-13-eba0bd8ad1bb>:74] acc:0.4400\n",
      "[I 220918 18:39:12 <ipython-input-11-69ff1a595f6e>:31] Validation loss decreased (-0.385000 --> -0.440000).  Saving model ...\n",
      "100%|████████████████████████████████████████████████████████████| 50/50 [00:04<00:00, 10.93it/s, epoch=8, loss=0.3241]\n",
      "100%|██████████████████████████████████████████████████████████████████████████████████| 13/13 [00:00<00:00, 57.23it/s]\n",
      "[I 220918 18:39:17 <ipython-input-13-eba0bd8ad1bb>:74] acc:0.5250\n",
      "[I 220918 18:39:17 <ipython-input-11-69ff1a595f6e>:31] Validation loss decreased (-0.440000 --> -0.525000).  Saving model ...\n",
      "100%|████████████████████████████████████████████████████████████| 50/50 [00:04<00:00, 10.92it/s, epoch=9, loss=0.3152]\n",
      "100%|██████████████████████████████████████████████████████████████████████████████████| 13/13 [00:00<00:00, 57.48it/s]\n",
      "[I 220918 18:39:21 <ipython-input-13-eba0bd8ad1bb>:74] acc:0.5650\n",
      "[I 220918 18:39:21 <ipython-input-11-69ff1a595f6e>:31] Validation loss decreased (-0.525000 --> -0.565000).  Saving model ...\n",
      "100%|███████████████████████████████████████████████████████████| 50/50 [00:04<00:00, 10.92it/s, epoch=10, loss=0.3113]\n",
      "100%|██████████████████████████████████████████████████████████████████████████████████| 13/13 [00:00<00:00, 58.21it/s]\n",
      "[I 220918 18:39:26 <ipython-input-13-eba0bd8ad1bb>:74] acc:0.5850\n",
      "[I 220918 18:39:26 <ipython-input-11-69ff1a595f6e>:31] Validation loss decreased (-0.565000 --> -0.585000).  Saving model ...\n",
      "100%|███████████████████████████████████████████████████████████| 50/50 [00:04<00:00, 10.91it/s, epoch=11, loss=0.3273]\n",
      "100%|██████████████████████████████████████████████████████████████████████████████████| 13/13 [00:00<00:00, 58.63it/s]\n",
      "[I 220918 18:39:31 <ipython-input-13-eba0bd8ad1bb>:74] acc:0.6550\n",
      "[I 220918 18:39:31 <ipython-input-11-69ff1a595f6e>:31] Validation loss decreased (-0.585000 --> -0.655000).  Saving model ...\n",
      "100%|███████████████████████████████████████████████████████████| 50/50 [00:04<00:00, 10.91it/s, epoch=12, loss=0.3115]\n",
      "100%|██████████████████████████████████████████████████████████████████████████████████| 13/13 [00:00<00:00, 58.56it/s]\n",
      "[I 220918 18:39:36 <ipython-input-13-eba0bd8ad1bb>:74] acc:0.6650\n",
      "[I 220918 18:39:36 <ipython-input-11-69ff1a595f6e>:31] Validation loss decreased (-0.655000 --> -0.665000).  Saving model ...\n",
      "100%|███████████████████████████████████████████████████████████| 50/50 [00:04<00:00, 10.91it/s, epoch=13, loss=0.2992]\n",
      "100%|██████████████████████████████████████████████████████████████████████████████████| 13/13 [00:00<00:00, 58.84it/s]\n",
      "[I 220918 18:39:41 <ipython-input-13-eba0bd8ad1bb>:74] acc:0.6550\n",
      "[I 220918 18:39:41 <ipython-input-11-69ff1a595f6e>:20] EarlyStopping counter: 1 out of 15\n",
      "100%|███████████████████████████████████████████████████████████| 50/50 [00:04<00:00, 10.92it/s, epoch=14, loss=0.2791]\n",
      "100%|██████████████████████████████████████████████████████████████████████████████████| 13/13 [00:00<00:00, 58.32it/s]\n",
      "[I 220918 18:39:46 <ipython-input-13-eba0bd8ad1bb>:74] acc:0.6950\n",
      "[I 220918 18:39:46 <ipython-input-11-69ff1a595f6e>:31] Validation loss decreased (-0.665000 --> -0.695000).  Saving model ...\n",
      "100%|███████████████████████████████████████████████████████████| 50/50 [00:04<00:00, 10.89it/s, epoch=15, loss=0.2757]\n",
      "100%|██████████████████████████████████████████████████████████████████████████████████| 13/13 [00:00<00:00, 58.16it/s]\n",
      "[I 220918 18:39:50 <ipython-input-13-eba0bd8ad1bb>:74] acc:0.6900\n",
      "[I 220918 18:39:50 <ipython-input-11-69ff1a595f6e>:20] EarlyStopping counter: 1 out of 15\n",
      "100%|███████████████████████████████████████████████████████████| 50/50 [00:04<00:00, 10.90it/s, epoch=16, loss=0.2990]\n",
      "100%|██████████████████████████████████████████████████████████████████████████████████| 13/13 [00:00<00:00, 57.97it/s]\n",
      "[I 220918 18:39:55 <ipython-input-13-eba0bd8ad1bb>:74] acc:0.6950\n",
      "[I 220918 18:39:55 <ipython-input-11-69ff1a595f6e>:31] Validation loss decreased (-0.695000 --> -0.695000).  Saving model ...\n",
      "100%|███████████████████████████████████████████████████████████| 50/50 [00:04<00:00, 10.90it/s, epoch=17, loss=0.2817]\n",
      "100%|██████████████████████████████████████████████████████████████████████████████████| 13/13 [00:00<00:00, 59.35it/s]\n",
      "[I 220918 18:40:00 <ipython-input-13-eba0bd8ad1bb>:74] acc:0.7150\n",
      "[I 220918 18:40:00 <ipython-input-11-69ff1a595f6e>:31] Validation loss decreased (-0.695000 --> -0.715000).  Saving model ...\n",
      "100%|███████████████████████████████████████████████████████████| 50/50 [00:04<00:00, 10.88it/s, epoch=18, loss=0.3170]\n",
      "100%|██████████████████████████████████████████████████████████████████████████████████| 13/13 [00:00<00:00, 57.36it/s]\n",
      "[I 220918 18:40:05 <ipython-input-13-eba0bd8ad1bb>:74] acc:0.7150\n",
      "[I 220918 18:40:05 <ipython-input-11-69ff1a595f6e>:31] Validation loss decreased (-0.715000 --> -0.715000).  Saving model ...\n",
      "100%|███████████████████████████████████████████████████████████| 50/50 [00:04<00:00, 10.92it/s, epoch=19, loss=0.2637]\n",
      "100%|██████████████████████████████████████████████████████████████████████████████████| 13/13 [00:00<00:00, 58.29it/s]\n",
      "[I 220918 18:40:10 <ipython-input-13-eba0bd8ad1bb>:74] acc:0.7050\n",
      "[I 220918 18:40:10 <ipython-input-11-69ff1a595f6e>:20] EarlyStopping counter: 1 out of 15\n",
      "100%|███████████████████████████████████████████████████████████| 50/50 [00:04<00:00, 10.90it/s, epoch=20, loss=0.2654]\n",
      "100%|██████████████████████████████████████████████████████████████████████████████████| 13/13 [00:00<00:00, 59.35it/s]\n",
      "[I 220918 18:40:15 <ipython-input-13-eba0bd8ad1bb>:74] acc:0.7100\n",
      "[I 220918 18:40:15 <ipython-input-11-69ff1a595f6e>:20] EarlyStopping counter: 2 out of 15\n",
      "100%|███████████████████████████████████████████████████████████| 50/50 [00:04<00:00, 10.89it/s, epoch=21, loss=0.2847]\n",
      "100%|██████████████████████████████████████████████████████████████████████████████████| 13/13 [00:00<00:00, 61.74it/s]\n",
      "[I 220918 18:40:20 <ipython-input-13-eba0bd8ad1bb>:74] acc:0.7300\n",
      "[I 220918 18:40:20 <ipython-input-11-69ff1a595f6e>:31] Validation loss decreased (-0.715000 --> -0.730000).  Saving model ...\n",
      "100%|███████████████████████████████████████████████████████████| 50/50 [00:04<00:00, 10.93it/s, epoch=22, loss=0.2601]\n",
      "100%|██████████████████████████████████████████████████████████████████████████████████| 13/13 [00:00<00:00, 58.39it/s]\n",
      "[I 220918 18:40:24 <ipython-input-13-eba0bd8ad1bb>:74] acc:0.7200\n",
      "[I 220918 18:40:24 <ipython-input-11-69ff1a595f6e>:20] EarlyStopping counter: 1 out of 15\n",
      "100%|███████████████████████████████████████████████████████████| 50/50 [00:04<00:00, 10.92it/s, epoch=23, loss=0.2628]\n",
      "100%|██████████████████████████████████████████████████████████████████████████████████| 13/13 [00:00<00:00, 57.88it/s]\n",
      "[I 220918 18:40:29 <ipython-input-13-eba0bd8ad1bb>:74] acc:0.7050\n",
      "[I 220918 18:40:29 <ipython-input-11-69ff1a595f6e>:20] EarlyStopping counter: 2 out of 15\n",
      "100%|███████████████████████████████████████████████████████████| 50/50 [00:04<00:00, 10.96it/s, epoch=24, loss=0.2598]\n",
      "100%|██████████████████████████████████████████████████████████████████████████████████| 13/13 [00:00<00:00, 57.52it/s]\n",
      "[I 220918 18:40:34 <ipython-input-13-eba0bd8ad1bb>:74] acc:0.7050\n",
      "[I 220918 18:40:34 <ipython-input-11-69ff1a595f6e>:20] EarlyStopping counter: 3 out of 15\n"
     ]
    },
    {
     "data": {
      "image/png": "[encoded data removed]",
      "text/plain": [
       "<Figure size 432x288 with 2 Axes>"
      ]
     },
     "metadata": {
      "needs_background": "light"
     },
     "output_type": "display_data"
    },
    {
     "name": "stdout",
     "output_type": "stream",
     "text": [
      "====== 1 ======\n"
     ]
    },
    {
     "name": "stderr",
     "output_type": "stream",
     "text": [
      "100%|████████████████████████████████████████████████████████████| 50/50 [00:04<00:00, 10.86it/s, epoch=0, loss=0.6951]\n",
      "100%|██████████████████████████████████████████████████████████████████████████████████| 13/13 [00:00<00:00, 57.49it/s]\n",
      "[I 220918 18:40:39 <ipython-input-13-eba0bd8ad1bb>:74] acc:0.0800\n",
      "[I 220918 18:40:39 <ipython-input-11-69ff1a595f6e>:31] Validation loss decreased (inf --> -0.080000).  Saving model ...\n",
      "100%|████████████████████████████████████████████████████████████| 50/50 [00:04<00:00, 10.97it/s, epoch=1, loss=0.6510]\n",
      "100%|██████████████████████████████████████████████████████████████████████████████████| 13/13 [00:00<00:00, 60.39it/s]\n",
      "[I 220918 18:40:44 <ipython-input-13-eba0bd8ad1bb>:74] acc:0.1500\n",
      "[I 220918 18:40:44 <ipython-input-11-69ff1a595f6e>:31] Validation loss decreased (-0.080000 --> -0.150000).  Saving model ...\n",
      "100%|████████████████████████████████████████████████████████████| 50/50 [00:04<00:00, 10.92it/s, epoch=2, loss=0.5618]\n",
      "100%|██████████████████████████████████████████████████████████████████████████████████| 13/13 [00:00<00:00, 58.27it/s]\n",
      "[I 220918 18:40:49 <ipython-input-13-eba0bd8ad1bb>:74] acc:0.1300\n",
      "[I 220918 18:40:49 <ipython-input-11-69ff1a595f6e>:20] EarlyStopping counter: 1 out of 15\n",
      "100%|████████████████████████████████████████████████████████████| 50/50 [00:04<00:00, 10.94it/s, epoch=3, loss=0.4054]\n",
      "100%|██████████████████████████████████████████████████████████████████████████████████| 13/13 [00:00<00:00, 59.30it/s]\n",
      "[I 220918 18:40:54 <ipython-input-13-eba0bd8ad1bb>:74] acc:0.1250\n",
      "[I 220918 18:40:54 <ipython-input-11-69ff1a595f6e>:20] EarlyStopping counter: 2 out of 15\n",
      "100%|████████████████████████████████████████████████████████████| 50/50 [00:04<00:00, 10.93it/s, epoch=4, loss=0.3711]\n",
      "100%|██████████████████████████████████████████████████████████████████████████████████| 13/13 [00:00<00:00, 58.01it/s]\n",
      "[I 220918 18:40:58 <ipython-input-13-eba0bd8ad1bb>:74] acc:0.1350\n",
      "[I 220918 18:40:58 <ipython-input-11-69ff1a595f6e>:20] EarlyStopping counter: 3 out of 15\n",
      "100%|████████████████████████████████████████████████████████████| 50/50 [00:04<00:00, 10.93it/s, epoch=5, loss=0.3583]\n",
      "100%|██████████████████████████████████████████████████████████████████████████████████| 13/13 [00:00<00:00, 59.04it/s]\n",
      "[I 220918 18:41:03 <ipython-input-13-eba0bd8ad1bb>:74] acc:0.2750\n",
      "[I 220918 18:41:03 <ipython-input-11-69ff1a595f6e>:31] Validation loss decreased (-0.150000 --> -0.275000).  Saving model ...\n",
      "100%|████████████████████████████████████████████████████████████| 50/50 [00:04<00:00, 10.91it/s, epoch=6, loss=0.3359]\n",
      "100%|██████████████████████████████████████████████████████████████████████████████████| 13/13 [00:00<00:00, 58.21it/s]\n",
      "[I 220918 18:41:08 <ipython-input-13-eba0bd8ad1bb>:74] acc:0.3650\n",
      "[I 220918 18:41:08 <ipython-input-11-69ff1a595f6e>:31] Validation loss decreased (-0.275000 --> -0.365000).  Saving model ...\n",
      "100%|████████████████████████████████████████████████████████████| 50/50 [00:04<00:00, 10.94it/s, epoch=7, loss=0.3283]\n",
      "100%|██████████████████████████████████████████████████████████████████████████████████| 13/13 [00:00<00:00, 58.31it/s]\n",
      "[I 220918 18:41:13 <ipython-input-13-eba0bd8ad1bb>:74] acc:0.4200\n",
      "[I 220918 18:41:13 <ipython-input-11-69ff1a595f6e>:31] Validation loss decreased (-0.365000 --> -0.420000).  Saving model ...\n",
      "100%|████████████████████████████████████████████████████████████| 50/50 [00:04<00:00, 10.95it/s, epoch=8, loss=0.3276]\n",
      "100%|██████████████████████████████████████████████████████████████████████████████████| 13/13 [00:00<00:00, 57.45it/s]\n",
      "[I 220918 18:41:18 <ipython-input-13-eba0bd8ad1bb>:74] acc:0.4450\n",
      "[I 220918 18:41:18 <ipython-input-11-69ff1a595f6e>:31] Validation loss decreased (-0.420000 --> -0.445000).  Saving model ...\n",
      "100%|████████████████████████████████████████████████████████████| 50/50 [00:04<00:00, 10.98it/s, epoch=9, loss=0.3269]\n",
      "100%|██████████████████████████████████████████████████████████████████████████████████| 13/13 [00:00<00:00, 58.53it/s]\n",
      "[I 220918 18:41:23 <ipython-input-13-eba0bd8ad1bb>:74] acc:0.5550\n",
      "[I 220918 18:41:23 <ipython-input-11-69ff1a595f6e>:31] Validation loss decreased (-0.445000 --> -0.555000).  Saving model ...\n",
      "100%|███████████████████████████████████████████████████████████| 50/50 [00:04<00:00, 10.93it/s, epoch=10, loss=0.3157]\n",
      "100%|██████████████████████████████████████████████████████████████████████████████████| 13/13 [00:00<00:00, 58.31it/s]\n",
      "[I 220918 18:41:28 <ipython-input-13-eba0bd8ad1bb>:74] acc:0.6050\n",
      "[I 220918 18:41:28 <ipython-input-11-69ff1a595f6e>:31] Validation loss decreased (-0.555000 --> -0.605000).  Saving model ...\n",
      "100%|███████████████████████████████████████████████████████████| 50/50 [00:04<00:00, 11.00it/s, epoch=11, loss=0.3059]\n",
      "100%|██████████████████████████████████████████████████████████████████████████████████| 13/13 [00:00<00:00, 55.07it/s]\n",
      "[I 220918 18:41:32 <ipython-input-13-eba0bd8ad1bb>:74] acc:0.6450\n",
      "[I 220918 18:41:32 <ipython-input-11-69ff1a595f6e>:31] Validation loss decreased (-0.605000 --> -0.645000).  Saving model ...\n",
      "100%|███████████████████████████████████████████████████████████| 50/50 [00:04<00:00, 10.96it/s, epoch=12, loss=0.3157]\n",
      "100%|██████████████████████████████████████████████████████████████████████████████████| 13/13 [00:00<00:00, 55.31it/s]\n",
      "[I 220918 18:41:37 <ipython-input-13-eba0bd8ad1bb>:74] acc:0.6400\n",
      "[I 220918 18:41:37 <ipython-input-11-69ff1a595f6e>:20] EarlyStopping counter: 1 out of 15\n",
      "100%|███████████████████████████████████████████████████████████| 50/50 [00:04<00:00, 10.94it/s, epoch=13, loss=0.2937]\n",
      "100%|██████████████████████████████████████████████████████████████████████████████████| 13/13 [00:00<00:00, 59.54it/s]\n",
      "[I 220918 18:41:42 <ipython-input-13-eba0bd8ad1bb>:74] acc:0.6850\n",
      "[I 220918 18:41:42 <ipython-input-11-69ff1a595f6e>:31] Validation loss decreased (-0.645000 --> -0.685000).  Saving model ...\n",
      "100%|███████████████████████████████████████████████████████████| 50/50 [00:04<00:00, 10.94it/s, epoch=14, loss=0.3061]\n",
      "100%|██████████████████████████████████████████████████████████████████████████████████| 13/13 [00:00<00:00, 59.43it/s]\n",
      "[I 220918 18:41:47 <ipython-input-13-eba0bd8ad1bb>:74] acc:0.6850\n",
      "[I 220918 18:41:47 <ipython-input-11-69ff1a595f6e>:31] Validation loss decreased (-0.685000 --> -0.685000).  Saving model ...\n",
      "100%|███████████████████████████████████████████████████████████| 50/50 [00:04<00:00, 10.92it/s, epoch=15, loss=0.2800]\n",
      "100%|██████████████████████████████████████████████████████████████████████████████████| 13/13 [00:00<00:00, 58.03it/s]\n",
      "[I 220918 18:41:52 <ipython-input-13-eba0bd8ad1bb>:74] acc:0.7000\n",
      "[I 220918 18:41:52 <ipython-input-11-69ff1a595f6e>:31] Validation loss decreased (-0.685000 --> -0.700000).  Saving model ...\n",
      "100%|███████████████████████████████████████████████████████████| 50/50 [00:04<00:00, 10.92it/s, epoch=16, loss=0.2926]\n",
      "100%|██████████████████████████████████████████████████████████████████████████████████| 13/13 [00:00<00:00, 57.73it/s]\n",
      "[I 220918 18:41:57 <ipython-input-13-eba0bd8ad1bb>:74] acc:0.7200\n",
      "[I 220918 18:41:57 <ipython-input-11-69ff1a595f6e>:31] Validation loss decreased (-0.700000 --> -0.720000).  Saving model ...\n",
      "100%|███████████████████████████████████████████████████████████| 50/50 [00:04<00:00, 10.96it/s, epoch=17, loss=0.3006]\n",
      "100%|██████████████████████████████████████████████████████████████████████████████████| 13/13 [00:00<00:00, 56.64it/s]\n",
      "[I 220918 18:42:01 <ipython-input-13-eba0bd8ad1bb>:74] acc:0.6950\n",
      "[I 220918 18:42:01 <ipython-input-11-69ff1a595f6e>:20] EarlyStopping counter: 1 out of 15\n",
      "100%|███████████████████████████████████████████████████████████| 50/50 [00:04<00:00, 10.94it/s, epoch=18, loss=0.2691]\n",
      "100%|██████████████████████████████████████████████████████████████████████████████████| 13/13 [00:00<00:00, 57.23it/s]\n",
      "[I 220918 18:42:06 <ipython-input-13-eba0bd8ad1bb>:74] acc:0.7600\n",
      "[I 220918 18:42:06 <ipython-input-11-69ff1a595f6e>:31] Validation loss decreased (-0.720000 --> -0.760000).  Saving model ...\n",
      "100%|███████████████████████████████████████████████████████████| 50/50 [00:04<00:00, 10.98it/s, epoch=19, loss=0.2658]\n",
      "100%|██████████████████████████████████████████████████████████████████████████████████| 13/13 [00:00<00:00, 58.02it/s]\n",
      "[I 220918 18:42:11 <ipython-input-13-eba0bd8ad1bb>:74] acc:0.7400\n",
      "[I 220918 18:42:11 <ipython-input-11-69ff1a595f6e>:20] EarlyStopping counter: 1 out of 15\n",
      "100%|███████████████████████████████████████████████████████████| 50/50 [00:04<00:00, 10.95it/s, epoch=20, loss=0.2674]\n",
      "100%|██████████████████████████████████████████████████████████████████████████████████| 13/13 [00:00<00:00, 58.04it/s]\n",
      "[I 220918 18:42:16 <ipython-input-13-eba0bd8ad1bb>:74] acc:0.7200\n",
      "[I 220918 18:42:16 <ipython-input-11-69ff1a595f6e>:20] EarlyStopping counter: 2 out of 15\n",
      "100%|███████████████████████████████████████████████████████████| 50/50 [00:04<00:00, 10.96it/s, epoch=21, loss=0.2714]\n",
      "100%|██████████████████████████████████████████████████████████████████████████████████| 13/13 [00:00<00:00, 57.01it/s]\n",
      "[I 220918 18:42:21 <ipython-input-13-eba0bd8ad1bb>:74] acc:0.7450\n",
      "[I 220918 18:42:21 <ipython-input-11-69ff1a595f6e>:20] EarlyStopping counter: 3 out of 15\n",
      "100%|███████████████████████████████████████████████████████████| 50/50 [00:04<00:00, 10.99it/s, epoch=22, loss=0.2970]\n",
      "100%|██████████████████████████████████████████████████████████████████████████████████| 13/13 [00:00<00:00, 58.50it/s]\n",
      "[I 220918 18:42:25 <ipython-input-13-eba0bd8ad1bb>:74] acc:0.7350\n",
      "[I 220918 18:42:25 <ipython-input-11-69ff1a595f6e>:20] EarlyStopping counter: 4 out of 15\n",
      "100%|███████████████████████████████████████████████████████████| 50/50 [00:04<00:00, 10.93it/s, epoch=23, loss=0.3064]\n",
      "100%|██████████████████████████████████████████████████████████████████████████████████| 13/13 [00:00<00:00, 57.96it/s]\n",
      "[I 220918 18:42:30 <ipython-input-13-eba0bd8ad1bb>:74] acc:0.7350\n",
      "[I 220918 18:42:30 <ipython-input-11-69ff1a595f6e>:20] EarlyStopping counter: 5 out of 15\n",
      "100%|███████████████████████████████████████████████████████████| 50/50 [00:04<00:00, 10.95it/s, epoch=24, loss=0.2672]\n",
      "100%|██████████████████████████████████████████████████████████████████████████████████| 13/13 [00:00<00:00, 58.25it/s]\n",
      "[I 220918 18:42:35 <ipython-input-13-eba0bd8ad1bb>:74] acc:0.7700\n",
      "[I 220918 18:42:35 <ipython-input-11-69ff1a595f6e>:31] Validation loss decreased (-0.760000 --> -0.770000).  Saving model ...\n"
     ]
    },
    {
     "data": {
      "image/png": "[encoded data removed]",
      "text/plain": [
       "<Figure size 432x288 with 2 Axes>"
      ]
     },
     "metadata": {
      "needs_background": "light"
     },
     "output_type": "display_data"
    },
    {
     "name": "stdout",
     "output_type": "stream",
     "text": [
      "====== 2 ======\n"
     ]
    },
    {
     "name": "stderr",
     "output_type": "stream",
     "text": [
      "100%|████████████████████████████████████████████████████████████| 50/50 [00:04<00:00, 10.91it/s, epoch=0, loss=0.6863]\n",
      "100%|██████████████████████████████████████████████████████████████████████████████████| 13/13 [00:00<00:00, 54.76it/s]\n",
      "[I 220918 18:42:40 <ipython-input-13-eba0bd8ad1bb>:74] acc:0.1200\n",
      "[I 220918 18:42:40 <ipython-input-11-69ff1a595f6e>:31] Validation loss decreased (inf --> -0.120000).  Saving model ...\n",
      "100%|████████████████████████████████████████████████████████████| 50/50 [00:04<00:00, 10.98it/s, epoch=1, loss=0.6529]\n",
      "100%|██████████████████████████████████████████████████████████████████████████████████| 13/13 [00:00<00:00, 58.06it/s]\n",
      "[I 220918 18:42:45 <ipython-input-13-eba0bd8ad1bb>:74] acc:0.1100\n",
      "[I 220918 18:42:45 <ipython-input-11-69ff1a595f6e>:20] EarlyStopping counter: 1 out of 15\n",
      "100%|████████████████████████████████████████████████████████████| 50/50 [00:04<00:00, 10.98it/s, epoch=2, loss=0.5733]\n",
      "100%|██████████████████████████████████████████████████████████████████████████████████| 13/13 [00:00<00:00, 58.29it/s]\n",
      "[I 220918 18:42:50 <ipython-input-13-eba0bd8ad1bb>:74] acc:0.0900\n",
      "[I 220918 18:42:50 <ipython-input-11-69ff1a595f6e>:20] EarlyStopping counter: 2 out of 15\n",
      "100%|████████████████████████████████████████████████████████████| 50/50 [00:04<00:00, 10.96it/s, epoch=3, loss=0.4201]\n",
      "100%|██████████████████████████████████████████████████████████████████████████████████| 13/13 [00:00<00:00, 57.58it/s]\n",
      "[I 220918 18:42:55 <ipython-input-13-eba0bd8ad1bb>:74] acc:0.1000\n",
      "[I 220918 18:42:55 <ipython-input-11-69ff1a595f6e>:20] EarlyStopping counter: 3 out of 15\n",
      "100%|████████████████████████████████████████████████████████████| 50/50 [00:04<00:00, 10.93it/s, epoch=4, loss=0.3690]\n",
      "100%|██████████████████████████████████████████████████████████████████████████████████| 13/13 [00:00<00:00, 59.41it/s]\n",
      "[I 220918 18:42:59 <ipython-input-13-eba0bd8ad1bb>:74] acc:0.1050\n",
      "[I 220918 18:42:59 <ipython-input-11-69ff1a595f6e>:20] EarlyStopping counter: 4 out of 15\n",
      "100%|████████████████████████████████████████████████████████████| 50/50 [00:04<00:00, 10.95it/s, epoch=5, loss=0.3448]\n",
      "100%|██████████████████████████████████████████████████████████████████████████████████| 13/13 [00:00<00:00, 58.21it/s]\n",
      "[I 220918 18:43:04 <ipython-input-13-eba0bd8ad1bb>:74] acc:0.1350\n",
      "[I 220918 18:43:04 <ipython-input-11-69ff1a595f6e>:31] Validation loss decreased (-0.120000 --> -0.135000).  Saving model ...\n",
      "100%|████████████████████████████████████████████████████████████| 50/50 [00:04<00:00, 10.97it/s, epoch=6, loss=0.3675]\n",
      "100%|██████████████████████████████████████████████████████████████████████████████████| 13/13 [00:00<00:00, 58.28it/s]\n",
      "[I 220918 18:43:09 <ipython-input-13-eba0bd8ad1bb>:74] acc:0.2600\n",
      "[I 220918 18:43:09 <ipython-input-11-69ff1a595f6e>:31] Validation loss decreased (-0.135000 --> -0.260000).  Saving model ...\n",
      "100%|████████████████████████████████████████████████████████████| 50/50 [00:04<00:00, 10.94it/s, epoch=7, loss=0.3308]\n",
      "100%|██████████████████████████████████████████████████████████████████████████████████| 13/13 [00:00<00:00, 57.82it/s]\n",
      "[I 220918 18:43:14 <ipython-input-13-eba0bd8ad1bb>:74] acc:0.3800\n",
      "[I 220918 18:43:14 <ipython-input-11-69ff1a595f6e>:31] Validation loss decreased (-0.260000 --> -0.380000).  Saving model ...\n",
      "100%|████████████████████████████████████████████████████████████| 50/50 [00:04<00:00, 10.99it/s, epoch=8, loss=0.3261]\n",
      "100%|██████████████████████████████████████████████████████████████████████████████████| 13/13 [00:00<00:00, 58.09it/s]\n",
      "[I 220918 18:43:19 <ipython-input-13-eba0bd8ad1bb>:74] acc:0.5000\n",
      "[I 220918 18:43:19 <ipython-input-11-69ff1a595f6e>:31] Validation loss decreased (-0.380000 --> -0.500000).  Saving model ...\n",
      "100%|████████████████████████████████████████████████████████████| 50/50 [00:04<00:00, 10.95it/s, epoch=9, loss=0.3160]\n",
      "100%|██████████████████████████████████████████████████████████████████████████████████| 13/13 [00:00<00:00, 57.89it/s]\n",
      "[I 220918 18:43:24 <ipython-input-13-eba0bd8ad1bb>:74] acc:0.6100\n",
      "[I 220918 18:43:24 <ipython-input-11-69ff1a595f6e>:31] Validation loss decreased (-0.500000 --> -0.610000).  Saving model ...\n",
      "100%|███████████████████████████████████████████████████████████| 50/50 [00:04<00:00, 10.97it/s, epoch=10, loss=0.3220]\n",
      "100%|██████████████████████████████████████████████████████████████████████████████████| 13/13 [00:00<00:00, 58.56it/s]\n",
      "[I 220918 18:43:28 <ipython-input-13-eba0bd8ad1bb>:74] acc:0.6750\n",
      "[I 220918 18:43:28 <ipython-input-11-69ff1a595f6e>:31] Validation loss decreased (-0.610000 --> -0.675000).  Saving model ...\n",
      "100%|███████████████████████████████████████████████████████████| 50/50 [00:04<00:00, 10.94it/s, epoch=11, loss=0.3125]\n",
      "100%|██████████████████████████████████████████████████████████████████████████████████| 13/13 [00:00<00:00, 57.43it/s]\n",
      "[I 220918 18:43:33 <ipython-input-13-eba0bd8ad1bb>:74] acc:0.7100\n",
      "[I 220918 18:43:33 <ipython-input-11-69ff1a595f6e>:31] Validation loss decreased (-0.675000 --> -0.710000).  Saving model ...\n",
      "100%|███████████████████████████████████████████████████████████| 50/50 [00:04<00:00, 10.96it/s, epoch=12, loss=0.2989]\n",
      "100%|██████████████████████████████████████████████████████████████████████████████████| 13/13 [00:00<00:00, 55.41it/s]\n",
      "[I 220918 18:43:38 <ipython-input-13-eba0bd8ad1bb>:74] acc:0.6950\n",
      "[I 220918 18:43:38 <ipython-input-11-69ff1a595f6e>:20] EarlyStopping counter: 1 out of 15\n",
      "100%|███████████████████████████████████████████████████████████| 50/50 [00:04<00:00, 10.94it/s, epoch=13, loss=0.3182]\n",
      "100%|██████████████████████████████████████████████████████████████████████████████████| 13/13 [00:00<00:00, 58.24it/s]\n",
      "[I 220918 18:43:43 <ipython-input-13-eba0bd8ad1bb>:74] acc:0.7150\n",
      "[I 220918 18:43:43 <ipython-input-11-69ff1a595f6e>:31] Validation loss decreased (-0.710000 --> -0.715000).  Saving model ...\n",
      "100%|███████████████████████████████████████████████████████████| 50/50 [00:04<00:00, 11.00it/s, epoch=14, loss=0.2890]\n",
      "100%|██████████████████████████████████████████████████████████████████████████████████| 13/13 [00:00<00:00, 58.58it/s]\n",
      "[I 220918 18:43:48 <ipython-input-13-eba0bd8ad1bb>:74] acc:0.6850\n",
      "[I 220918 18:43:48 <ipython-input-11-69ff1a595f6e>:20] EarlyStopping counter: 1 out of 15\n",
      "100%|███████████████████████████████████████████████████████████| 50/50 [00:04<00:00, 10.96it/s, epoch=15, loss=0.3106]\n",
      "100%|██████████████████████████████████████████████████████████████████████████████████| 13/13 [00:00<00:00, 55.34it/s]\n",
      "[I 220918 18:43:53 <ipython-input-13-eba0bd8ad1bb>:74] acc:0.6950\n",
      "[I 220918 18:43:53 <ipython-input-11-69ff1a595f6e>:20] EarlyStopping counter: 2 out of 15\n",
      "100%|███████████████████████████████████████████████████████████| 50/50 [00:04<00:00, 10.97it/s, epoch=16, loss=0.2894]\n",
      "100%|██████████████████████████████████████████████████████████████████████████████████| 13/13 [00:00<00:00, 59.51it/s]\n",
      "[I 220918 18:43:57 <ipython-input-13-eba0bd8ad1bb>:74] acc:0.7300\n",
      "[I 220918 18:43:57 <ipython-input-11-69ff1a595f6e>:31] Validation loss decreased (-0.715000 --> -0.730000).  Saving model ...\n",
      "100%|███████████████████████████████████████████████████████████| 50/50 [00:04<00:00, 10.90it/s, epoch=17, loss=0.2978]\n",
      "100%|██████████████████████████████████████████████████████████████████████████████████| 13/13 [00:00<00:00, 58.67it/s]\n",
      "[I 220918 18:44:02 <ipython-input-13-eba0bd8ad1bb>:74] acc:0.7200\n",
      "[I 220918 18:44:02 <ipython-input-11-69ff1a595f6e>:20] EarlyStopping counter: 1 out of 15\n",
      "100%|███████████████████████████████████████████████████████████| 50/50 [00:04<00:00, 10.99it/s, epoch=18, loss=0.2772]\n",
      "100%|██████████████████████████████████████████████████████████████████████████████████| 13/13 [00:00<00:00, 61.76it/s]\n",
      "[I 220918 18:44:07 <ipython-input-13-eba0bd8ad1bb>:74] acc:0.7150\n",
      "[I 220918 18:44:07 <ipython-input-11-69ff1a595f6e>:20] EarlyStopping counter: 2 out of 15\n",
      "100%|███████████████████████████████████████████████████████████| 50/50 [00:04<00:00, 10.98it/s, epoch=19, loss=0.2774]\n",
      "100%|██████████████████████████████████████████████████████████████████████████████████| 13/13 [00:00<00:00, 59.00it/s]\n",
      "[I 220918 18:44:12 <ipython-input-13-eba0bd8ad1bb>:74] acc:0.7400\n",
      "[I 220918 18:44:12 <ipython-input-11-69ff1a595f6e>:31] Validation loss decreased (-0.730000 --> -0.740000).  Saving model ...\n",
      "100%|███████████████████████████████████████████████████████████| 50/50 [00:04<00:00, 10.99it/s, epoch=20, loss=0.2657]\n",
      "100%|██████████████████████████████████████████████████████████████████████████████████| 13/13 [00:00<00:00, 58.84it/s]\n",
      "[I 220918 18:44:17 <ipython-input-13-eba0bd8ad1bb>:74] acc:0.7350\n",
      "[I 220918 18:44:17 <ipython-input-11-69ff1a595f6e>:20] EarlyStopping counter: 1 out of 15\n",
      "100%|███████████████████████████████████████████████████████████| 50/50 [00:04<00:00, 11.00it/s, epoch=21, loss=0.2824]\n",
      "100%|██████████████████████████████████████████████████████████████████████████████████| 13/13 [00:00<00:00, 57.37it/s]\n",
      "[I 220918 18:44:21 <ipython-input-13-eba0bd8ad1bb>:74] acc:0.7250\n",
      "[I 220918 18:44:21 <ipython-input-11-69ff1a595f6e>:20] EarlyStopping counter: 2 out of 15\n",
      "100%|███████████████████████████████████████████████████████████| 50/50 [00:04<00:00, 10.97it/s, epoch=22, loss=0.2954]\n",
      "100%|██████████████████████████████████████████████████████████████████████████████████| 13/13 [00:00<00:00, 58.12it/s]\n",
      "[I 220918 18:44:26 <ipython-input-13-eba0bd8ad1bb>:74] acc:0.7050\n",
      "[I 220918 18:44:26 <ipython-input-11-69ff1a595f6e>:20] EarlyStopping counter: 3 out of 15\n",
      "100%|███████████████████████████████████████████████████████████| 50/50 [00:04<00:00, 10.98it/s, epoch=23, loss=0.2760]\n",
      "100%|██████████████████████████████████████████████████████████████████████████████████| 13/13 [00:00<00:00, 58.56it/s]\n",
      "[I 220918 18:44:31 <ipython-input-13-eba0bd8ad1bb>:74] acc:0.7450\n",
      "[I 220918 18:44:31 <ipython-input-11-69ff1a595f6e>:31] Validation loss decreased (-0.740000 --> -0.745000).  Saving model ...\n",
      "100%|███████████████████████████████████████████████████████████| 50/50 [00:04<00:00, 10.98it/s, epoch=24, loss=0.2853]\n",
      "100%|██████████████████████████████████████████████████████████████████████████████████| 13/13 [00:00<00:00, 57.26it/s]\n",
      "[I 220918 18:44:36 <ipython-input-13-eba0bd8ad1bb>:74] acc:0.7400\n",
      "[I 220918 18:44:36 <ipython-input-11-69ff1a595f6e>:20] EarlyStopping counter: 1 out of 15\n"
     ]
    },
    {
     "data": {
      "image/png": "[encoded data removed]",
      "text/plain": [
       "<Figure size 432x288 with 2 Axes>"
      ]
     },
     "metadata": {
      "needs_background": "light"
     },
     "output_type": "display_data"
    },
    {
     "name": "stdout",
     "output_type": "stream",
     "text": [
      "====== 3 ======\n"
     ]
    },
    {
     "name": "stderr",
     "output_type": "stream",
     "text": [
      "100%|████████████████████████████████████████████████████████████| 50/50 [00:04<00:00, 10.90it/s, epoch=0, loss=0.6959]\n",
      "100%|██████████████████████████████████████████████████████████████████████████████████| 13/13 [00:00<00:00, 58.50it/s]\n",
      "[I 220918 18:44:41 <ipython-input-13-eba0bd8ad1bb>:74] acc:0.1000\n",
      "[I 220918 18:44:41 <ipython-input-11-69ff1a595f6e>:31] Validation loss decreased (inf --> -0.100000).  Saving model ...\n",
      "100%|████████████████████████████████████████████████████████████| 50/50 [00:04<00:00, 11.03it/s, epoch=1, loss=0.6610]\n",
      "100%|██████████████████████████████████████████████████████████████████████████████████| 13/13 [00:00<00:00, 56.42it/s]\n",
      "[I 220918 18:44:46 <ipython-input-13-eba0bd8ad1bb>:74] acc:0.1100\n",
      "[I 220918 18:44:46 <ipython-input-11-69ff1a595f6e>:31] Validation loss decreased (-0.100000 --> -0.110000).  Saving model ...\n",
      "100%|████████████████████████████████████████████████████████████| 50/50 [00:04<00:00, 10.97it/s, epoch=2, loss=0.5765]\n",
      "100%|██████████████████████████████████████████████████████████████████████████████████| 13/13 [00:00<00:00, 58.02it/s]\n",
      "[I 220918 18:44:51 <ipython-input-13-eba0bd8ad1bb>:74] acc:0.1150\n",
      "[I 220918 18:44:51 <ipython-input-11-69ff1a595f6e>:31] Validation loss decreased (-0.110000 --> -0.115000).  Saving model ...\n",
      "100%|████████████████████████████████████████████████████████████| 50/50 [00:04<00:00, 11.01it/s, epoch=3, loss=0.4342]\n",
      "100%|██████████████████████████████████████████████████████████████████████████████████| 13/13 [00:00<00:00, 58.58it/s]\n",
      "[I 220918 18:44:55 <ipython-input-13-eba0bd8ad1bb>:74] acc:0.1550\n",
      "[I 220918 18:44:55 <ipython-input-11-69ff1a595f6e>:31] Validation loss decreased (-0.115000 --> -0.155000).  Saving model ...\n",
      "100%|████████████████████████████████████████████████████████████| 50/50 [00:04<00:00, 10.95it/s, epoch=4, loss=0.3588]\n",
      "100%|██████████████████████████████████████████████████████████████████████████████████| 13/13 [00:00<00:00, 58.85it/s]\n",
      "[I 220918 18:45:00 <ipython-input-13-eba0bd8ad1bb>:74] acc:0.1600\n",
      "[I 220918 18:45:00 <ipython-input-11-69ff1a595f6e>:31] Validation loss decreased (-0.155000 --> -0.160000).  Saving model ...\n",
      "100%|████████████████████████████████████████████████████████████| 50/50 [00:04<00:00, 10.96it/s, epoch=5, loss=0.3444]\n",
      "100%|██████████████████████████████████████████████████████████████████████████████████| 13/13 [00:00<00:00, 59.59it/s]\n",
      "[I 220918 18:45:05 <ipython-input-13-eba0bd8ad1bb>:74] acc:0.1950\n",
      "[I 220918 18:45:05 <ipython-input-11-69ff1a595f6e>:31] Validation loss decreased (-0.160000 --> -0.195000).  Saving model ...\n",
      "100%|████████████████████████████████████████████████████████████| 50/50 [00:04<00:00, 10.95it/s, epoch=6, loss=0.3414]\n",
      "100%|██████████████████████████████████████████████████████████████████████████████████| 13/13 [00:00<00:00, 57.93it/s]\n",
      "[I 220918 18:45:10 <ipython-input-13-eba0bd8ad1bb>:74] acc:0.3600\n",
      "[I 220918 18:45:10 <ipython-input-11-69ff1a595f6e>:31] Validation loss decreased (-0.195000 --> -0.360000).  Saving model ...\n",
      "100%|████████████████████████████████████████████████████████████| 50/50 [00:04<00:00, 10.95it/s, epoch=7, loss=0.3408]\n",
      "100%|██████████████████████████████████████████████████████████████████████████████████| 13/13 [00:00<00:00, 57.93it/s]\n",
      "[I 220918 18:45:15 <ipython-input-13-eba0bd8ad1bb>:74] acc:0.4400\n",
      "[I 220918 18:45:15 <ipython-input-11-69ff1a595f6e>:31] Validation loss decreased (-0.360000 --> -0.440000).  Saving model ...\n",
      "100%|████████████████████████████████████████████████████████████| 50/50 [00:04<00:00, 10.99it/s, epoch=8, loss=0.3566]\n",
      "100%|██████████████████████████████████████████████████████████████████████████████████| 13/13 [00:00<00:00, 55.83it/s]\n",
      "[I 220918 18:45:20 <ipython-input-13-eba0bd8ad1bb>:74] acc:0.5200\n",
      "[I 220918 18:45:20 <ipython-input-11-69ff1a595f6e>:31] Validation loss decreased (-0.440000 --> -0.520000).  Saving model ...\n",
      "100%|████████████████████████████████████████████████████████████| 50/50 [00:04<00:00, 10.95it/s, epoch=9, loss=0.3107]\n",
      "100%|██████████████████████████████████████████████████████████████████████████████████| 13/13 [00:00<00:00, 58.33it/s]\n",
      "[I 220918 18:45:24 <ipython-input-13-eba0bd8ad1bb>:74] acc:0.6000\n",
      "[I 220918 18:45:24 <ipython-input-11-69ff1a595f6e>:31] Validation loss decreased (-0.520000 --> -0.600000).  Saving model ...\n",
      "100%|███████████████████████████████████████████████████████████| 50/50 [00:04<00:00, 10.96it/s, epoch=10, loss=0.3120]\n",
      "100%|██████████████████████████████████████████████████████████████████████████████████| 13/13 [00:00<00:00, 60.69it/s]\n",
      "[I 220918 18:45:29 <ipython-input-13-eba0bd8ad1bb>:74] acc:0.5800\n",
      "[I 220918 18:45:29 <ipython-input-11-69ff1a595f6e>:20] EarlyStopping counter: 1 out of 15\n",
      "100%|███████████████████████████████████████████████████████████| 50/50 [00:04<00:00, 10.96it/s, epoch=11, loss=0.3075]\n",
      "100%|██████████████████████████████████████████████████████████████████████████████████| 13/13 [00:00<00:00, 60.67it/s]\n",
      "[I 220918 18:45:34 <ipython-input-13-eba0bd8ad1bb>:74] acc:0.5800\n",
      "[I 220918 18:45:34 <ipython-input-11-69ff1a595f6e>:20] EarlyStopping counter: 2 out of 15\n",
      "100%|███████████████████████████████████████████████████████████| 50/50 [00:04<00:00, 10.91it/s, epoch=12, loss=0.3224]\n",
      "100%|██████████████████████████████████████████████████████████████████████████████████| 13/13 [00:00<00:00, 57.03it/s]\n",
      "[I 220918 18:45:39 <ipython-input-13-eba0bd8ad1bb>:74] acc:0.6100\n",
      "[I 220918 18:45:39 <ipython-input-11-69ff1a595f6e>:31] Validation loss decreased (-0.600000 --> -0.610000).  Saving model ...\n",
      "100%|███████████████████████████████████████████████████████████| 50/50 [00:04<00:00, 10.98it/s, epoch=13, loss=0.2913]\n",
      "100%|██████████████████████████████████████████████████████████████████████████████████| 13/13 [00:00<00:00, 59.84it/s]\n",
      "[I 220918 18:45:44 <ipython-input-13-eba0bd8ad1bb>:74] acc:0.5950\n",
      "[I 220918 18:45:44 <ipython-input-11-69ff1a595f6e>:20] EarlyStopping counter: 1 out of 15\n",
      "100%|███████████████████████████████████████████████████████████| 50/50 [00:04<00:00, 10.96it/s, epoch=14, loss=0.2814]\n",
      "100%|██████████████████████████████████████████████████████████████████████████████████| 13/13 [00:00<00:00, 58.74it/s]\n",
      "[I 220918 18:45:48 <ipython-input-13-eba0bd8ad1bb>:74] acc:0.6250\n",
      "[I 220918 18:45:48 <ipython-input-11-69ff1a595f6e>:31] Validation loss decreased (-0.610000 --> -0.625000).  Saving model ...\n",
      "100%|███████████████████████████████████████████████████████████| 50/50 [00:04<00:00, 11.01it/s, epoch=15, loss=0.2764]\n",
      "100%|██████████████████████████████████████████████████████████████████████████████████| 13/13 [00:00<00:00, 55.35it/s]\n",
      "[I 220918 18:45:53 <ipython-input-13-eba0bd8ad1bb>:74] acc:0.5900\n",
      "[I 220918 18:45:53 <ipython-input-11-69ff1a595f6e>:20] EarlyStopping counter: 1 out of 15\n",
      "100%|███████████████████████████████████████████████████████████| 50/50 [00:04<00:00, 10.96it/s, epoch=16, loss=0.2851]\n",
      "100%|██████████████████████████████████████████████████████████████████████████████████| 13/13 [00:00<00:00, 54.73it/s]\n",
      "[I 220918 18:45:58 <ipython-input-13-eba0bd8ad1bb>:74] acc:0.6000\n",
      "[I 220918 18:45:58 <ipython-input-11-69ff1a595f6e>:20] EarlyStopping counter: 2 out of 15\n",
      "100%|███████████████████████████████████████████████████████████| 50/50 [00:04<00:00, 10.96it/s, epoch=17, loss=0.2825]\n",
      "100%|██████████████████████████████████████████████████████████████████████████████████| 13/13 [00:00<00:00, 58.57it/s]\n",
      "[I 220918 18:46:03 <ipython-input-13-eba0bd8ad1bb>:74] acc:0.6100\n",
      "[I 220918 18:46:03 <ipython-input-11-69ff1a595f6e>:20] EarlyStopping counter: 3 out of 15\n",
      "100%|███████████████████████████████████████████████████████████| 50/50 [00:04<00:00, 10.99it/s, epoch=18, loss=0.2720]\n",
      "100%|██████████████████████████████████████████████████████████████████████████████████| 13/13 [00:00<00:00, 58.39it/s]\n",
      "[I 220918 18:46:08 <ipython-input-13-eba0bd8ad1bb>:74] acc:0.6050\n",
      "[I 220918 18:46:08 <ipython-input-11-69ff1a595f6e>:20] EarlyStopping counter: 4 out of 15\n",
      "100%|███████████████████████████████████████████████████████████| 50/50 [00:04<00:00, 10.97it/s, epoch=19, loss=0.2670]\n",
      "100%|██████████████████████████████████████████████████████████████████████████████████| 13/13 [00:00<00:00, 58.02it/s]\n",
      "[I 220918 18:46:12 <ipython-input-13-eba0bd8ad1bb>:74] acc:0.6150\n",
      "[I 220918 18:46:12 <ipython-input-11-69ff1a595f6e>:20] EarlyStopping counter: 5 out of 15\n",
      "100%|███████████████████████████████████████████████████████████| 50/50 [00:04<00:00, 10.96it/s, epoch=20, loss=0.2634]\n",
      "100%|██████████████████████████████████████████████████████████████████████████████████| 13/13 [00:00<00:00, 58.59it/s]\n",
      "[I 220918 18:46:17 <ipython-input-13-eba0bd8ad1bb>:74] acc:0.6450\n",
      "[I 220918 18:46:17 <ipython-input-11-69ff1a595f6e>:31] Validation loss decreased (-0.625000 --> -0.645000).  Saving model ...\n",
      "100%|███████████████████████████████████████████████████████████| 50/50 [00:04<00:00, 10.95it/s, epoch=21, loss=0.2616]\n",
      "100%|██████████████████████████████████████████████████████████████████████████████████| 13/13 [00:00<00:00, 58.52it/s]\n",
      "[I 220918 18:46:22 <ipython-input-13-eba0bd8ad1bb>:74] acc:0.6350\n",
      "[I 220918 18:46:22 <ipython-input-11-69ff1a595f6e>:20] EarlyStopping counter: 1 out of 15\n",
      "100%|███████████████████████████████████████████████████████████| 50/50 [00:04<00:00, 10.96it/s, epoch=22, loss=0.2441]\n",
      "100%|██████████████████████████████████████████████████████████████████████████████████| 13/13 [00:00<00:00, 58.11it/s]\n",
      "[I 220918 18:46:27 <ipython-input-13-eba0bd8ad1bb>:74] acc:0.6150\n",
      "[I 220918 18:46:27 <ipython-input-11-69ff1a595f6e>:20] EarlyStopping counter: 2 out of 15\n",
      "100%|███████████████████████████████████████████████████████████| 50/50 [00:04<00:00, 10.95it/s, epoch=23, loss=0.2829]\n",
      "100%|██████████████████████████████████████████████████████████████████████████████████| 13/13 [00:00<00:00, 57.75it/s]\n",
      "[I 220918 18:46:32 <ipython-input-13-eba0bd8ad1bb>:74] acc:0.6400\n",
      "[I 220918 18:46:32 <ipython-input-11-69ff1a595f6e>:20] EarlyStopping counter: 3 out of 15\n",
      "100%|███████████████████████████████████████████████████████████| 50/50 [00:04<00:00, 10.95it/s, epoch=24, loss=0.2643]\n",
      "100%|██████████████████████████████████████████████████████████████████████████████████| 13/13 [00:00<00:00, 57.78it/s]\n",
      "[I 220918 18:46:36 <ipython-input-13-eba0bd8ad1bb>:74] acc:0.6150\n",
      "[I 220918 18:46:36 <ipython-input-11-69ff1a595f6e>:20] EarlyStopping counter: 4 out of 15\n"
     ]
    },
    {
     "data": {
      "image/png": "[encoded data removed]",
      "text/plain": [
       "<Figure size 432x288 with 2 Axes>"
      ]
     },
     "metadata": {
      "needs_background": "light"
     },
     "output_type": "display_data"
    },
    {
     "name": "stdout",
     "output_type": "stream",
     "text": [
      "====== 4 ======\n"
     ]
    },
    {
     "name": "stderr",
     "output_type": "stream",
     "text": [
      "100%|████████████████████████████████████████████████████████████| 50/50 [00:04<00:00, 10.97it/s, epoch=0, loss=0.6968]\n",
      "100%|██████████████████████████████████████████████████████████████████████████████████| 13/13 [00:00<00:00, 58.50it/s]\n",
      "[I 220918 18:46:42 <ipython-input-13-eba0bd8ad1bb>:74] acc:0.0900\n",
      "[I 220918 18:46:42 <ipython-input-11-69ff1a595f6e>:31] Validation loss decreased (inf --> -0.090000).  Saving model ...\n",
      "100%|████████████████████████████████████████████████████████████| 50/50 [00:04<00:00, 10.98it/s, epoch=1, loss=0.6667]\n",
      "100%|██████████████████████████████████████████████████████████████████████████████████| 13/13 [00:00<00:00, 58.56it/s]\n",
      "[I 220918 18:46:46 <ipython-input-13-eba0bd8ad1bb>:74] acc:0.1300\n",
      "[I 220918 18:46:46 <ipython-input-11-69ff1a595f6e>:31] Validation loss decreased (-0.090000 --> -0.130000).  Saving model ...\n",
      "100%|████████████████████████████████████████████████████████████| 50/50 [00:04<00:00, 10.99it/s, epoch=2, loss=0.5984]\n",
      "100%|██████████████████████████████████████████████████████████████████████████████████| 13/13 [00:00<00:00, 62.04it/s]\n",
      "[I 220918 18:46:51 <ipython-input-13-eba0bd8ad1bb>:74] acc:0.1150\n",
      "[I 220918 18:46:51 <ipython-input-11-69ff1a595f6e>:20] EarlyStopping counter: 1 out of 15\n",
      "100%|████████████████████████████████████████████████████████████| 50/50 [00:04<00:00, 10.97it/s, epoch=3, loss=0.4300]\n",
      "100%|██████████████████████████████████████████████████████████████████████████████████| 13/13 [00:00<00:00, 57.43it/s]\n",
      "[I 220918 18:46:56 <ipython-input-13-eba0bd8ad1bb>:74] acc:0.1000\n",
      "[I 220918 18:46:56 <ipython-input-11-69ff1a595f6e>:20] EarlyStopping counter: 2 out of 15\n",
      "100%|████████████████████████████████████████████████████████████| 50/50 [00:04<00:00, 10.95it/s, epoch=4, loss=0.3514]\n",
      "100%|██████████████████████████████████████████████████████████████████████████████████| 13/13 [00:00<00:00, 56.30it/s]\n",
      "[I 220918 18:47:01 <ipython-input-13-eba0bd8ad1bb>:74] acc:0.0950\n",
      "[I 220918 18:47:01 <ipython-input-11-69ff1a595f6e>:20] EarlyStopping counter: 3 out of 15\n",
      "100%|████████████████████████████████████████████████████████████| 50/50 [00:04<00:00, 10.97it/s, epoch=5, loss=0.3358]\n",
      "100%|██████████████████████████████████████████████████████████████████████████████████| 13/13 [00:00<00:00, 58.20it/s]\n",
      "[I 220918 18:47:06 <ipython-input-13-eba0bd8ad1bb>:74] acc:0.1400\n",
      "[I 220918 18:47:06 <ipython-input-11-69ff1a595f6e>:31] Validation loss decreased (-0.130000 --> -0.140000).  Saving model ...\n",
      "100%|████████████████████████████████████████████████████████████| 50/50 [00:04<00:00, 10.95it/s, epoch=6, loss=0.3432]\n",
      "100%|██████████████████████████████████████████████████████████████████████████████████| 13/13 [00:00<00:00, 60.66it/s]\n",
      "[I 220918 18:47:11 <ipython-input-13-eba0bd8ad1bb>:74] acc:0.2400\n",
      "[I 220918 18:47:11 <ipython-input-11-69ff1a595f6e>:31] Validation loss decreased (-0.140000 --> -0.240000).  Saving model ...\n",
      "100%|████████████████████████████████████████████████████████████| 50/50 [00:04<00:00, 10.93it/s, epoch=7, loss=0.3314]\n",
      "100%|██████████████████████████████████████████████████████████████████████████████████| 13/13 [00:00<00:00, 58.31it/s]\n",
      "[I 220918 18:47:15 <ipython-input-13-eba0bd8ad1bb>:74] acc:0.3250\n",
      "[I 220918 18:47:15 <ipython-input-11-69ff1a595f6e>:31] Validation loss decreased (-0.240000 --> -0.325000).  Saving model ...\n",
      "100%|████████████████████████████████████████████████████████████| 50/50 [00:04<00:00, 10.92it/s, epoch=8, loss=0.3314]\n",
      "100%|██████████████████████████████████████████████████████████████████████████████████| 13/13 [00:00<00:00, 58.23it/s]\n",
      "[I 220918 18:47:20 <ipython-input-13-eba0bd8ad1bb>:74] acc:0.3600\n",
      "[I 220918 18:47:20 <ipython-input-11-69ff1a595f6e>:31] Validation loss decreased (-0.325000 --> -0.360000).  Saving model ...\n",
      "100%|████████████████████████████████████████████████████████████| 50/50 [00:04<00:00, 10.95it/s, epoch=9, loss=0.3021]\n",
      "100%|██████████████████████████████████████████████████████████████████████████████████| 13/13 [00:00<00:00, 58.57it/s]\n",
      "[I 220918 18:47:25 <ipython-input-13-eba0bd8ad1bb>:74] acc:0.4450\n",
      "[I 220918 18:47:25 <ipython-input-11-69ff1a595f6e>:31] Validation loss decreased (-0.360000 --> -0.445000).  Saving model ...\n",
      "100%|███████████████████████████████████████████████████████████| 50/50 [00:04<00:00, 10.99it/s, epoch=10, loss=0.3213]\n",
      "100%|██████████████████████████████████████████████████████████████████████████████████| 13/13 [00:00<00:00, 57.83it/s]\n",
      "[I 220918 18:47:30 <ipython-input-13-eba0bd8ad1bb>:74] acc:0.5000\n",
      "[I 220918 18:47:30 <ipython-input-11-69ff1a595f6e>:31] Validation loss decreased (-0.445000 --> -0.500000).  Saving model ...\n",
      "100%|███████████████████████████████████████████████████████████| 50/50 [00:04<00:00, 10.93it/s, epoch=11, loss=0.3200]\n",
      "100%|██████████████████████████████████████████████████████████████████████████████████| 13/13 [00:00<00:00, 61.87it/s]\n",
      "[I 220918 18:47:35 <ipython-input-13-eba0bd8ad1bb>:74] acc:0.5700\n",
      "[I 220918 18:47:35 <ipython-input-11-69ff1a595f6e>:31] Validation loss decreased (-0.500000 --> -0.570000).  Saving model ...\n",
      "100%|███████████████████████████████████████████████████████████| 50/50 [00:04<00:00, 10.94it/s, epoch=12, loss=0.3087]\n",
      "100%|██████████████████████████████████████████████████████████████████████████████████| 13/13 [00:00<00:00, 58.24it/s]\n",
      "[I 220918 18:47:40 <ipython-input-13-eba0bd8ad1bb>:74] acc:0.6000\n",
      "[I 220918 18:47:40 <ipython-input-11-69ff1a595f6e>:31] Validation loss decreased (-0.570000 --> -0.600000).  Saving model ...\n",
      "100%|███████████████████████████████████████████████████████████| 50/50 [00:04<00:00, 10.97it/s, epoch=13, loss=0.3178]\n",
      "100%|██████████████████████████████████████████████████████████████████████████████████| 13/13 [00:00<00:00, 58.27it/s]\n",
      "[I 220918 18:47:44 <ipython-input-13-eba0bd8ad1bb>:74] acc:0.6300\n",
      "[I 220918 18:47:44 <ipython-input-11-69ff1a595f6e>:31] Validation loss decreased (-0.600000 --> -0.630000).  Saving model ...\n",
      "100%|███████████████████████████████████████████████████████████| 50/50 [00:04<00:00, 10.95it/s, epoch=14, loss=0.2816]\n",
      "100%|██████████████████████████████████████████████████████████████████████████████████| 13/13 [00:00<00:00, 57.29it/s]\n",
      "[I 220918 18:47:49 <ipython-input-13-eba0bd8ad1bb>:74] acc:0.6350\n",
      "[I 220918 18:47:49 <ipython-input-11-69ff1a595f6e>:31] Validation loss decreased (-0.630000 --> -0.635000).  Saving model ...\n",
      "100%|███████████████████████████████████████████████████████████| 50/50 [00:04<00:00, 10.93it/s, epoch=15, loss=0.2773]\n",
      "100%|██████████████████████████████████████████████████████████████████████████████████| 13/13 [00:00<00:00, 58.40it/s]\n",
      "[I 220918 18:47:54 <ipython-input-13-eba0bd8ad1bb>:74] acc:0.6450\n",
      "[I 220918 18:47:54 <ipython-input-11-69ff1a595f6e>:31] Validation loss decreased (-0.635000 --> -0.645000).  Saving model ...\n",
      "100%|███████████████████████████████████████████████████████████| 50/50 [00:04<00:00, 10.86it/s, epoch=16, loss=0.2930]\n",
      "100%|██████████████████████████████████████████████████████████████████████████████████| 13/13 [00:00<00:00, 56.45it/s]\n",
      "[I 220918 18:47:59 <ipython-input-13-eba0bd8ad1bb>:74] acc:0.6400\n",
      "[I 220918 18:47:59 <ipython-input-11-69ff1a595f6e>:20] EarlyStopping counter: 1 out of 15\n",
      "100%|███████████████████████████████████████████████████████████| 50/50 [00:04<00:00, 10.82it/s, epoch=17, loss=0.2849]\n",
      "100%|██████████████████████████████████████████████████████████████████████████████████| 13/13 [00:00<00:00, 57.39it/s]\n",
      "[I 220918 18:48:04 <ipython-input-13-eba0bd8ad1bb>:74] acc:0.6500\n",
      "[I 220918 18:48:04 <ipython-input-11-69ff1a595f6e>:31] Validation loss decreased (-0.645000 --> -0.650000).  Saving model ...\n",
      "100%|███████████████████████████████████████████████████████████| 50/50 [00:04<00:00, 10.91it/s, epoch=18, loss=0.2794]\n",
      "100%|██████████████████████████████████████████████████████████████████████████████████| 13/13 [00:00<00:00, 58.06it/s]\n",
      "[I 220918 18:48:09 <ipython-input-13-eba0bd8ad1bb>:74] acc:0.6700\n",
      "[I 220918 18:48:09 <ipython-input-11-69ff1a595f6e>:31] Validation loss decreased (-0.650000 --> -0.670000).  Saving model ...\n",
      "100%|███████████████████████████████████████████████████████████| 50/50 [00:04<00:00, 10.83it/s, epoch=19, loss=0.2963]\n",
      "100%|██████████████████████████████████████████████████████████████████████████████████| 13/13 [00:00<00:00, 56.73it/s]\n",
      "[I 220918 18:48:14 <ipython-input-13-eba0bd8ad1bb>:74] acc:0.6650\n",
      "[I 220918 18:48:14 <ipython-input-11-69ff1a595f6e>:20] EarlyStopping counter: 1 out of 15\n",
      "100%|███████████████████████████████████████████████████████████| 50/50 [00:04<00:00, 10.86it/s, epoch=20, loss=0.2519]\n",
      "100%|██████████████████████████████████████████████████████████████████████████████████| 13/13 [00:00<00:00, 57.23it/s]\n",
      "[I 220918 18:48:18 <ipython-input-13-eba0bd8ad1bb>:74] acc:0.6750\n",
      "[I 220918 18:48:18 <ipython-input-11-69ff1a595f6e>:31] Validation loss decreased (-0.670000 --> -0.675000).  Saving model ...\n",
      "100%|███████████████████████████████████████████████████████████| 50/50 [00:04<00:00, 10.88it/s, epoch=21, loss=0.2564]\n",
      "100%|██████████████████████████████████████████████████████████████████████████████████| 13/13 [00:00<00:00, 58.28it/s]\n",
      "[I 220918 18:48:23 <ipython-input-13-eba0bd8ad1bb>:74] acc:0.6550\n",
      "[I 220918 18:48:23 <ipython-input-11-69ff1a595f6e>:20] EarlyStopping counter: 1 out of 15\n",
      "100%|███████████████████████████████████████████████████████████| 50/50 [00:04<00:00, 10.80it/s, epoch=22, loss=0.2489]\n",
      "100%|██████████████████████████████████████████████████████████████████████████████████| 13/13 [00:00<00:00, 56.13it/s]\n",
      "[I 220918 18:48:28 <ipython-input-13-eba0bd8ad1bb>:74] acc:0.6850\n",
      "[I 220918 18:48:28 <ipython-input-11-69ff1a595f6e>:31] Validation loss decreased (-0.675000 --> -0.685000).  Saving model ...\n",
      "100%|███████████████████████████████████████████████████████████| 50/50 [00:04<00:00, 10.89it/s, epoch=23, loss=0.2819]\n",
      "100%|██████████████████████████████████████████████████████████████████████████████████| 13/13 [00:00<00:00, 57.14it/s]\n",
      "[I 220918 18:48:33 <ipython-input-13-eba0bd8ad1bb>:74] acc:0.6800\n",
      "[I 220918 18:48:33 <ipython-input-11-69ff1a595f6e>:20] EarlyStopping counter: 1 out of 15\n",
      "100%|███████████████████████████████████████████████████████████| 50/50 [00:04<00:00, 10.85it/s, epoch=24, loss=0.2996]\n",
      "100%|██████████████████████████████████████████████████████████████████████████████████| 13/13 [00:00<00:00, 57.22it/s]\n",
      "[I 220918 18:48:38 <ipython-input-13-eba0bd8ad1bb>:74] acc:0.6650\n",
      "[I 220918 18:48:38 <ipython-input-11-69ff1a595f6e>:20] EarlyStopping counter: 2 out of 15\n"
     ]
    },
    {
     "data": {
      "image/png": "[encoded data removed]",
      "text/plain": [
       "<Figure size 432x288 with 2 Axes>"
      ]
     },
     "metadata": {
      "needs_background": "light"
     },
     "output_type": "display_data"
    }
   ],
   "source": [
    "skf = StratifiedKFold(n_splits=Config.N_FOLD, random_state=Config.RANDOM_SATE, shuffle=True)\n",
    "for fold, (train_index, test_index) in enumerate(skf.split(train_df, train_df['target'])):\n",
    "    print(f'====== {fold} ======')\n",
    "\n",
    "    net = CVNet()\n",
    "    net.to(device)\n",
    "\n",
    "    #criterion = nn.MSELoss()\n",
    "    criterion = nn.BCEWithLogitsLoss()\n",
    "    optimizer = optim.AdamW(net.parameters(), lr=Config.LR, weight_decay=1.0e-02)    \n",
    "\n",
    "    train, valid = train_df.iloc[train_index], train_df.iloc[test_index]\n",
    "    y_train, y_valid = train_labels.iloc[train_index], train_labels.iloc[test_index]\n",
    "    \n",
    "    train_dataset = CVDataSet(train, get_augmentation(), labels=y_train, data_type='train')\n",
    "    valid_dataset = CVDataSet(valid, get_test_augmentation(), labels=y_valid, data_type='valid')\n",
    "\n",
    "    trainloader = DataLoader(train_dataset, batch_size=Config.BATCH_SIZE, shuffle=True, drop_last=True)\n",
    "    validloader = DataLoader(valid_dataset, batch_size=Config.BATCH_SIZE)\n",
    "\n",
    "    early_stopping = EarlyStopping(patience=Config.PATIENCE, verbose=True, fold=fold)\n",
    "    scheduler = torch.optim.lr_scheduler.OneCycleLR(optimizer, epochs=Config.EPOCH, steps_per_epoch=len(trainloader), max_lr=Config.MAX_LR, pct_start= 0.1, anneal_strategy='cos', div_factor= 1.0e+3, final_div_factor= 1.0e+3)\n",
    "    # scheduler = torch.optim.lr_scheduler.CosineAnnealingLR(optimizer, T_max=Config.T_MAX, eta_min=Config.ETA_MIN)\n",
    "    # scheduler = CosineAnnealingWarmupRestarts(optimizer, first_cycle_steps=int((len(trainloader) * Config.EPOCH) / 5), cycle_mult=1.0, max_lr=Config.LR, min_lr=Config.ETA_MIN, warmup_steps=int((len(trainloader) * Config.EPOCH) / 50), gamma=Config.SCHEDULER_GAMMA)\n",
    "\n",
    "    val_metrics = []\n",
    "    learning_rates = []\n",
    "\n",
    "    for epoch in range(Config.EPOCH):\n",
    "\n",
    "        running_loss = 0.0\n",
    "        train_rmse_list = []\n",
    "        n_iter = len(trainloader)\n",
    "        with tqdm(enumerate(trainloader), total=n_iter) as pbar:\n",
    "            for i, (img, target) in pbar:\n",
    "\n",
    "                net.train()\n",
    "                # zero the parameter gradients\n",
    "                #optimizer.zero_grad()\n",
    "\n",
    "                img, target = img.to(device).float(), target.to(device).float()\n",
    "                \n",
    "                outputs = net(img)\n",
    "                \n",
    "                loss = criterion(outputs, target)\n",
    "                \n",
    "                loss.backward()\n",
    "                optimizer.step()\n",
    "                net.zero_grad()\n",
    "\n",
    "                # print statistics\n",
    "                running_loss += loss.item()\n",
    "\n",
    "                outputs_np = outputs.to('cpu').detach().numpy().copy()\n",
    "\n",
    "                pbar.set_postfix(OrderedDict(\n",
    "                    epoch=\"{:>10}\".format(epoch), loss=\"{:.4f}\".format(loss.item())\n",
    "                ))\n",
    "                scheduler.step()\n",
    "\n",
    "        val_preds = []\n",
    "        n_iter_val = len(validloader)\n",
    "        for i, (img, target) in tqdm(enumerate(validloader), total=n_iter_val):\n",
    "            net.eval()\n",
    "\n",
    "            with torch.no_grad():\n",
    "                img, pawpularities = img.to(device).float(), target.to(device).float()\n",
    "                outputs = net(img)\n",
    "                outputs = outputs.sigmoid() * 100\n",
    "                outputs_np = outputs.to('cpu').detach().numpy().copy()\n",
    "                val_preds.append(outputs_np)\n",
    "\n",
    "        acc = accuracy_score(np.argmax(y_valid.to_numpy(), axis=1), np.argmax(np.vstack(val_preds), axis=1))\n",
    "        logger.info('acc:{:.4f}'.format(acc))\n",
    "\n",
    "        lr = optimizer.param_groups[0]['lr']\n",
    "\n",
    "        val_metrics.append(acc)\n",
    "        learning_rates.append(lr)\n",
    "\n",
    "        early_stopping(-acc, net)\n",
    "\n",
    "        if early_stopping.early_stop:\n",
    "            logger.info(\"Early stopping\")\n",
    "            net.load_state_dict(torch.load(CP_DIR / f'checkpoint_{NB}_{fold}.pt'))\n",
    "            cv_scores[f'cv{fold}'] = early_stopping.best_score\n",
    "            break\n",
    "\n",
    "    fig = plt.figure()\n",
    "    ax1 = fig.add_subplot(111)\n",
    "    ax1.plot(learning_rates)\n",
    "    ax2 = ax1.twinx()\n",
    "    ax2.plot(val_metrics)\n",
    "    plt.show()\n",
    "\n",
    "    del net, validloader, trainloader, train_dataset, valid_dataset\n",
    "    torch.cuda.empty_cache()\n",
    "    gc.collect()\n"
   ]
  },
  {
   "cell_type": "code",
   "execution_count": null,
   "metadata": {},
   "outputs": [],
   "source": []
  },
  {
   "cell_type": "code",
   "execution_count": null,
   "metadata": {},
   "outputs": [],
   "source": []
  },
  {
   "cell_type": "code",
   "execution_count": 18,
   "metadata": {
    "papermill": {
     "duration": 0.040168,
     "end_time": "2021-09-27T02:55:09.420226",
     "exception": false,
     "start_time": "2021-09-27T02:55:09.380058",
     "status": "completed"
    },
    "tags": []
   },
   "outputs": [
    {
     "name": "stdout",
     "output_type": "stream",
     "text": [
      "\n",
      "====== 0 ======\n"
     ]
    },
    {
     "name": "stderr",
     "output_type": "stream",
     "text": [
      "100%|██████████████████████████████████████████████████████████████████████████████████| 13/13 [00:01<00:00, 10.56it/s]\n"
     ]
    },
    {
     "name": "stdout",
     "output_type": "stream",
     "text": [
      "0.73\n",
      "\n",
      "====== 1 ======\n"
     ]
    },
    {
     "name": "stderr",
     "output_type": "stream",
     "text": [
      "100%|██████████████████████████████████████████████████████████████████████████████████| 13/13 [00:01<00:00, 10.66it/s]\n"
     ]
    },
    {
     "name": "stdout",
     "output_type": "stream",
     "text": [
      "0.77\n",
      "\n",
      "====== 2 ======\n"
     ]
    },
    {
     "name": "stderr",
     "output_type": "stream",
     "text": [
      "100%|██████████████████████████████████████████████████████████████████████████████████| 13/13 [00:01<00:00, 10.67it/s]\n"
     ]
    },
    {
     "name": "stdout",
     "output_type": "stream",
     "text": [
      "0.745\n",
      "\n",
      "====== 3 ======\n"
     ]
    },
    {
     "name": "stderr",
     "output_type": "stream",
     "text": [
      "100%|██████████████████████████████████████████████████████████████████████████████████| 13/13 [00:01<00:00, 10.62it/s]\n"
     ]
    },
    {
     "name": "stdout",
     "output_type": "stream",
     "text": [
      "0.645\n",
      "\n",
      "====== 4 ======\n"
     ]
    },
    {
     "name": "stderr",
     "output_type": "stream",
     "text": [
      "100%|██████████████████████████████████████████████████████████████████████████████████| 13/13 [00:01<00:00, 10.59it/s]\n"
     ]
    },
    {
     "name": "stdout",
     "output_type": "stream",
     "text": [
      "0.685\n",
      "0.7150000000000001\n"
     ]
    },
    {
     "data": {
      "text/plain": [
       "0.715"
      ]
     },
     "execution_count": 18,
     "metadata": {},
     "output_type": "execute_result"
    }
   ],
   "source": [
    "cv_scores = {}\n",
    "oof = np.zeros((len(train_df), Config.N_LABEL))\n",
    "skf = StratifiedKFold(n_splits=Config.N_FOLD, random_state=Config.RANDOM_SATE, shuffle=True)\n",
    "for fold, (train_index, test_index) in enumerate(skf.split(train_df, train_df['target'])):\n",
    "    print(f'\\r\\n====== {fold} ======')\n",
    "\n",
    "    net = CVNet()\n",
    "    net.to(device)\n",
    "\n",
    "    valid = train_df.iloc[test_index]\n",
    "    y_valid = train_labels.iloc[test_index]\n",
    "\n",
    "    valid_dataset = CVDataSet(valid, get_test_augmentation(), labels=y_valid, data_type='valid')\n",
    "\n",
    "    validloader = DataLoader(valid_dataset, batch_size=Config.BATCH_SIZE)\n",
    "\n",
    "    preds = []\n",
    "    for i, (img, target) in tqdm(enumerate(validloader), total=len(validloader)):\n",
    "        net.load_state_dict(torch.load(CP_DIR / f'checkpoint_{HOST}_{NB}_{fold}.pt'))\n",
    "        net.eval()\n",
    "\n",
    "        with torch.no_grad():\n",
    "\n",
    "            img, target = img.to(device).float(), target.to(device).float()\n",
    "            outputs = net(img)\n",
    "            outputs_np = outputs.to('cpu').detach().numpy().copy()\n",
    "            preds.append(outputs_np)\n",
    "\n",
    "    acc = accuracy_score(np.argmax(y_valid.to_numpy(), axis=1), np.argmax(np.vstack(preds), axis=1))\n",
    "    print(acc)\n",
    "\n",
    "    oof[test_index] = np.vstack(preds)\n",
    "    cv_scores[f'cv{fold}'] = acc\n",
    "\n",
    "    del net, valid_dataset, validloader\n",
    "    torch.cuda.empty_cache()\n",
    "    gc.collect()\n",
    "\n",
    "print(np.mean([v for k, v in cv_scores.items()]))\n",
    "accuracy_score(np.argmax(train_labels.to_numpy(), axis=1), np.argmax(oof, axis=1))"
   ]
  },
  {
   "cell_type": "code",
   "execution_count": 19,
   "metadata": {
    "papermill": {
     "duration": 0.034584,
     "end_time": "2021-09-27T02:55:09.481611",
     "exception": false,
     "start_time": "2021-09-27T02:55:09.447027",
     "status": "completed"
    },
    "tags": []
   },
   "outputs": [
    {
     "data": {
      "text/html": [
       "<div>\n",
       "<style scoped>\n",
       "    .dataframe tbody tr th:only-of-type {\n",
       "        vertical-align: middle;\n",
       "    }\n",
       "\n",
       "    .dataframe tbody tr th {\n",
       "        vertical-align: top;\n",
       "    }\n",
       "\n",
       "    .dataframe thead th {\n",
       "        text-align: right;\n",
       "    }\n",
       "</style>\n",
       "<table border=\"1\" class=\"dataframe\">\n",
       "  <thead>\n",
       "    <tr style=\"text-align: right;\">\n",
       "      <th></th>\n",
       "      <th>target</th>\n",
       "      <th>file_name</th>\n",
       "      <th>oof</th>\n",
       "    </tr>\n",
       "  </thead>\n",
       "  <tbody>\n",
       "    <tr>\n",
       "      <th>0</th>\n",
       "      <td>0</td>\n",
       "      <td>0.png</td>\n",
       "      <td>0</td>\n",
       "    </tr>\n",
       "    <tr>\n",
       "      <th>1</th>\n",
       "      <td>1</td>\n",
       "      <td>1.png</td>\n",
       "      <td>1</td>\n",
       "    </tr>\n",
       "    <tr>\n",
       "      <th>2</th>\n",
       "      <td>2</td>\n",
       "      <td>2.png</td>\n",
       "      <td>5</td>\n",
       "    </tr>\n",
       "    <tr>\n",
       "      <th>3</th>\n",
       "      <td>3</td>\n",
       "      <td>3.png</td>\n",
       "      <td>3</td>\n",
       "    </tr>\n",
       "    <tr>\n",
       "      <th>4</th>\n",
       "      <td>4</td>\n",
       "      <td>4.png</td>\n",
       "      <td>4</td>\n",
       "    </tr>\n",
       "    <tr>\n",
       "      <th>...</th>\n",
       "      <td>...</td>\n",
       "      <td>...</td>\n",
       "      <td>...</td>\n",
       "    </tr>\n",
       "    <tr>\n",
       "      <th>995</th>\n",
       "      <td>7</td>\n",
       "      <td>995.png</td>\n",
       "      <td>7</td>\n",
       "    </tr>\n",
       "    <tr>\n",
       "      <th>996</th>\n",
       "      <td>6</td>\n",
       "      <td>996.png</td>\n",
       "      <td>0</td>\n",
       "    </tr>\n",
       "    <tr>\n",
       "      <th>997</th>\n",
       "      <td>8</td>\n",
       "      <td>997.png</td>\n",
       "      <td>9</td>\n",
       "    </tr>\n",
       "    <tr>\n",
       "      <th>998</th>\n",
       "      <td>4</td>\n",
       "      <td>998.png</td>\n",
       "      <td>4</td>\n",
       "    </tr>\n",
       "    <tr>\n",
       "      <th>999</th>\n",
       "      <td>3</td>\n",
       "      <td>999.png</td>\n",
       "      <td>3</td>\n",
       "    </tr>\n",
       "  </tbody>\n",
       "</table>\n",
       "<p>1000 rows × 3 columns</p>\n",
       "</div>"
      ],
      "text/plain": [
       "     target file_name  oof\n",
       "0         0     0.png    0\n",
       "1         1     1.png    1\n",
       "2         2     2.png    5\n",
       "3         3     3.png    3\n",
       "4         4     4.png    4\n",
       "..      ...       ...  ...\n",
       "995       7   995.png    7\n",
       "996       6   996.png    0\n",
       "997       8   997.png    9\n",
       "998       4   998.png    4\n",
       "999       3   999.png    3\n",
       "\n",
       "[1000 rows x 3 columns]"
      ]
     },
     "execution_count": 19,
     "metadata": {},
     "output_type": "execute_result"
    }
   ],
   "source": [
    "oof_df = train_df.copy()\n",
    "oof_df['oof'] = np.argmax(oof, axis=1)\n",
    "oof_file_name = str(OUTPUT_DIR / f'oof_{HOST}_{NB}.csv')\n",
    "oof_df.to_csv(oof_file_name, index=False)\n",
    "oof_df"
   ]
  },
  {
   "cell_type": "code",
   "execution_count": 23,
   "metadata": {
    "papermill": {
     "duration": 0.036379,
     "end_time": "2021-09-27T02:55:09.544913",
     "exception": false,
     "start_time": "2021-09-27T02:55:09.508534",
     "status": "completed"
    },
    "tags": []
   },
   "outputs": [
    {
     "data": {
      "text/plain": [
       "'param_dict = {k:v for k, v in vars(Config).items() if not k.startswith(\\'__\\')}\\n\\nremote_server_uri = \"http://192.168.1.99:5000/\"\\nos.environ[\"MLFLOW_S3_ENDPOINT_URL\"] = \"http://192.168.1.99:9000\"\\nos.environ[\"AWS_ACCESS_KEY_ID\"] = \"minio-access-key\"\\nos.environ[\"AWS_SECRET_ACCESS_KEY\"] = \"minio-secret-key\"\\n\\nmlflow.set_tracking_uri(remote_server_uri)\\nmlflow.set_experiment(\"template\")\\nwith mlflow.start_run():\\n    mlflow.set_tag(\\'NB\\', NB)\\n    #mlflow.set_tag(\\'DESCRIPTION\\', description)\\n    mlflow.set_tag(\\'HOST\\', HOST)\\n\\n    mlflow.log_params(param_dict)\\n    #mlflow.log_param(\\'loss\\', type(criterion))\\n    #mlflow.log_param(\\'optimizer\\', type(optimizer))\\n    #mlflow.log_param(\\'scheduler\\', type(scheduler))\\n\\n    mlflow.log_metrics(cv_scores)\\n    mlflow.log_metric(\\'cv_score_mean\\', np.mean([v for k, v in cv_scores.items()]))\\n\\n    mlflow.log_artifact(get_notebook_path())\\n    #mlflow.log_artifact(sub_file_name)\\n    mlflow.log_artifact(oof_file_name)'"
      ]
     },
     "execution_count": 23,
     "metadata": {},
     "output_type": "execute_result"
    }
   ],
   "source": [
    "\"\"\"param_dict = {k:v for k, v in vars(Config).items() if not k.startswith('__')}\n",
    "\n",
    "remote_server_uri = \"http://192.168.1.99:5000/\"\n",
    "os.environ[\"MLFLOW_S3_ENDPOINT_URL\"] = \"http://192.168.1.99:9000\"\n",
    "os.environ[\"AWS_ACCESS_KEY_ID\"] = \"minio-access-key\"\n",
    "os.environ[\"AWS_SECRET_ACCESS_KEY\"] = \"minio-secret-key\"\n",
    "\n",
    "mlflow.set_tracking_uri(remote_server_uri)\n",
    "mlflow.set_experiment(\"template\")\n",
    "with mlflow.start_run():\n",
    "    mlflow.set_tag('NB', NB)\n",
    "    #mlflow.set_tag('DESCRIPTION', description)\n",
    "    mlflow.set_tag('HOST', HOST)\n",
    "\n",
    "    mlflow.log_params(param_dict)\n",
    "    #mlflow.log_param('loss', type(criterion))\n",
    "    #mlflow.log_param('optimizer', type(optimizer))\n",
    "    #mlflow.log_param('scheduler', type(scheduler))\n",
    "\n",
    "    mlflow.log_metrics(cv_scores)\n",
    "    mlflow.log_metric('cv_score_mean', np.mean([v for k, v in cv_scores.items()]))\n",
    "\n",
    "    mlflow.log_artifact(get_notebook_path())\n",
    "    #mlflow.log_artifact(sub_file_name)\n",
    "    mlflow.log_artifact(oof_file_name)\"\"\""
   ]
  },
  {
   "cell_type": "code",
   "execution_count": 28,
   "metadata": {
    "papermill": {
     "duration": 8.284665,
     "end_time": "2021-09-27T02:55:17.856341",
     "exception": false,
     "start_time": "2021-09-27T02:55:09.571676",
     "status": "completed"
    },
    "tags": []
   },
   "outputs": [
    {
     "name": "stdout",
     "output_type": "stream",
     "text": [
      "..\\output\\checkpoint\\checkpoint_DESKTOP-M3SEAIN_exp0001_0.pt\n"
     ]
    },
    {
     "name": "stderr",
     "output_type": "stream",
     "text": [
      "100%|██████████████████████████████████████████████████████████████████████████████████| 50/50 [00:00<00:00, 56.91it/s]\n"
     ]
    },
    {
     "name": "stdout",
     "output_type": "stream",
     "text": [
      "..\\output\\checkpoint\\checkpoint_DESKTOP-M3SEAIN_exp0001_1.pt\n"
     ]
    },
    {
     "name": "stderr",
     "output_type": "stream",
     "text": [
      "100%|██████████████████████████████████████████████████████████████████████████████████| 50/50 [00:00<00:00, 57.65it/s]\n"
     ]
    },
    {
     "name": "stdout",
     "output_type": "stream",
     "text": [
      "..\\output\\checkpoint\\checkpoint_DESKTOP-M3SEAIN_exp0001_2.pt\n"
     ]
    },
    {
     "name": "stderr",
     "output_type": "stream",
     "text": [
      "100%|██████████████████████████████████████████████████████████████████████████████████| 50/50 [00:00<00:00, 58.17it/s]\n"
     ]
    },
    {
     "name": "stdout",
     "output_type": "stream",
     "text": [
      "..\\output\\checkpoint\\checkpoint_DESKTOP-M3SEAIN_exp0001_3.pt\n"
     ]
    },
    {
     "name": "stderr",
     "output_type": "stream",
     "text": [
      "100%|██████████████████████████████████████████████████████████████████████████████████| 50/50 [00:00<00:00, 57.92it/s]\n"
     ]
    },
    {
     "name": "stdout",
     "output_type": "stream",
     "text": [
      "..\\output\\checkpoint\\checkpoint_DESKTOP-M3SEAIN_exp0001_4.pt\n"
     ]
    },
    {
     "name": "stderr",
     "output_type": "stream",
     "text": [
      "100%|██████████████████████████████████████████████████████████████████████████████████| 50/50 [00:00<00:00, 58.75it/s]\n"
     ]
    }
   ],
   "source": [
    "y_preds = np.zeros((len(test_df), Config.N_LABEL))\n",
    "\n",
    "test_dataset = CVDataSet(test_df, get_test_augmentation(), labels=pd.DataFrame(), data_type='test')\n",
    "testloader = DataLoader(test_dataset, batch_size=Config.BATCH_SIZE)\n",
    "\n",
    "for fold in range(Config.N_FOLD):\n",
    "\n",
    "    net = CVNet()\n",
    "    net.to(device)\n",
    "    print(CP_DIR / f'checkpoint_{HOST}_{NB}_{fold}.pt')\n",
    "    net.load_state_dict(torch.load(CP_DIR / f'checkpoint_{HOST}_{NB}_{fold}.pt'))\n",
    "\n",
    "    fold_preds = []\n",
    "    for i, (inputs, target) in tqdm(enumerate(testloader), total=len(testloader)):\n",
    "        net.eval()\n",
    "\n",
    "        with torch.no_grad():\n",
    "            \n",
    "            inputs, target = inputs.to(device).float(), target.to(device).float()\n",
    "            outputs = net(inputs)\n",
    "            outputs_np = outputs.to('cpu').detach().numpy().copy()\n",
    "            \n",
    "            fold_preds.append(outputs_np)\n",
    "    \n",
    "    y_preds += np.vstack(fold_preds) / Config.N_FOLD"
   ]
  },
  {
   "cell_type": "code",
   "execution_count": 30,
   "metadata": {
    "papermill": {
     "duration": 0.043045,
     "end_time": "2021-09-27T02:55:17.935622",
     "exception": false,
     "start_time": "2021-09-27T02:55:17.892577",
     "status": "completed"
    },
    "tags": []
   },
   "outputs": [],
   "source": [
    "test_df['target'] = np.argmax(y_preds, axis=1)\n",
    "#submission_df = test_df[['Id', 'Pawpularity']]\n",
    "#submission_df.to_csv('submission.csv', index=False)"
   ]
  },
  {
   "cell_type": "code",
   "execution_count": null,
   "metadata": {
    "papermill": {
     "duration": 0.031106,
     "end_time": "2021-09-27T02:55:17.998602",
     "exception": false,
     "start_time": "2021-09-27T02:55:17.967496",
     "status": "completed"
    },
    "tags": []
   },
   "outputs": [],
   "source": []
  },
  {
   "cell_type": "code",
   "execution_count": 32,
   "metadata": {},
   "outputs": [
    {
     "data": {
      "text/plain": [
       "array([[-2.50560302, -1.36711237, -2.19059864, ..., -2.38733649,\n",
       "        -2.33723795, -2.61248857],\n",
       "       [-2.39498678, -2.10195184, -2.35449614, ..., -2.42560722,\n",
       "        -2.61050746, -2.43985288],\n",
       "       [-0.92575102, -2.63626322, -2.56343669, ..., -2.70200583,\n",
       "        -2.17960021, -2.11828265],\n",
       "       ...,\n",
       "       [-1.98020738, -2.02579054, -1.76224646, ..., -1.8139703 ,\n",
       "        -1.67312056, -1.62589565],\n",
       "       [-1.63924962, -3.09014109, -2.21068111, ..., -2.05218002,\n",
       "        -2.0326336 , -1.1425743 ],\n",
       "       [-1.28770913, -1.73597354, -1.5082335 , ..., -1.7713753 ,\n",
       "        -1.48767224, -1.57573569]])"
      ]
     },
     "execution_count": 32,
     "metadata": {},
     "output_type": "execute_result"
    }
   ],
   "source": [
    "y_preds"
   ]
  },
  {
   "cell_type": "code",
   "execution_count": null,
   "metadata": {},
   "outputs": [],
   "source": []
  }
 ],
 "metadata": {
  "kernelspec": {
   "display_name": "Python 3",
   "language": "python",
   "name": "python3"
  },
  "language_info": {
   "codemirror_mode": {
    "name": "ipython",
    "version": 3
   },
   "file_extension": ".py",
   "mimetype": "text/x-python",
   "name": "python",
   "nbconvert_exporter": "python",
   "pygments_lexer": "ipython3",
   "version": "3.8.3"
  },
  "papermill": {
   "default_parameters": {},
   "duration": 26.648251,
   "end_time": "2021-09-27T02:55:19.607961",
   "environment_variables": {},
   "exception": null,
   "input_path": "__notebook__.ipynb",
   "output_path": "__notebook__.ipynb",
   "parameters": {},
   "start_time": "2021-09-27T02:54:52.959710",
   "version": "2.3.3"
  }
 },
 "nbformat": 4,
 "nbformat_minor": 5
}
