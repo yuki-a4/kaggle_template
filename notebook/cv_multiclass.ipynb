{
 "cells": [
  {
   "cell_type": "code",
   "execution_count": 1,
   "id": "cf892b71",
   "metadata": {
    "papermill": {
     "duration": 0.112207,
     "end_time": "2021-09-27T02:54:59.505937",
     "exception": false,
     "start_time": "2021-09-27T02:54:59.393730",
     "status": "completed"
    },
    "tags": []
   },
   "outputs": [
    {
     "data": {
      "text/plain": [
       "('exp0001', 'DESKTOP-M3SEAIN')"
      ]
     },
     "execution_count": 1,
     "metadata": {},
     "output_type": "execute_result"
    }
   ],
   "source": [
    "import socket\n",
    "import sys\n",
    "\n",
    "\"\"\"from my_utils import get_notebook_path\n",
    "NB = get_notebook_path().split('/')[-1].split('.')[0]\n",
    "HOST = socket.gethostname()\n",
    "\n",
    "'\"\"\"\n",
    "\n",
    "NB = 'exp0001'\n",
    "HOST = 'DESKTOP-M3SEAIN'\n",
    "\n",
    "NB, HOST"
   ]
  },
  {
   "cell_type": "code",
   "execution_count": null,
   "id": "4efda348",
   "metadata": {
    "papermill": {
     "duration": 0.021702,
     "end_time": "2021-09-27T02:54:59.551604",
     "exception": false,
     "start_time": "2021-09-27T02:54:59.529902",
     "status": "completed"
    },
    "tags": []
   },
   "outputs": [],
   "source": []
  },
  {
   "cell_type": "code",
   "execution_count": 2,
   "id": "63ceb69b",
   "metadata": {
    "papermill": {
     "duration": 6.891314,
     "end_time": "2021-09-27T02:55:06.464626",
     "exception": false,
     "start_time": "2021-09-27T02:54:59.573312",
     "status": "completed"
    },
    "tags": []
   },
   "outputs": [],
   "source": [
    "#from cosine_annealing_warmup import CosineAnnealingWarmupRestarts\n",
    "import pandas as pd\n",
    "import numpy as np\n",
    "import matplotlib.pyplot as plt\n",
    "import cv2\n",
    "import glob\n",
    "from sklearn.model_selection import StratifiedGroupKFold, StratifiedKFold, KFold\n",
    "from sklearn.metrics import roc_auc_score, accuracy_score, mean_squared_error\n",
    "from pathlib import Path\n",
    "from logzero import logger\n",
    "from tqdm import tqdm\n",
    "from collections import OrderedDict\n",
    "import random\n",
    "import os\n",
    "import gc\n",
    "import shutil\n",
    "import timm\n",
    "\n",
    "import mlflow\n",
    "\n",
    "\n",
    "import torch.optim as optim\n",
    "import torch\n",
    "from torch import nn\n",
    "from torch.utils.data import Dataset, DataLoader\n",
    "\n",
    "import albumentations as albu\n",
    "\n",
    "import pickle\n",
    "\n",
    "import warnings\n",
    "warnings.simplefilter('ignore')\n",
    "\n",
    "\n",
    "ROOT_DIR = Path('../')\n",
    "DATA_DIR = ROOT_DIR / 'data'\n",
    "OUTPUT_DIR = ROOT_DIR / 'output'\n",
    "CP_DIR = OUTPUT_DIR / 'checkpoint'\n",
    "\n",
    "def to_pickle(filename, obj):\n",
    "    with open(filename, mode='wb') as f:\n",
    "        pickle.dump(obj, f)\n",
    "        \n",
    "def unpickle(filename):\n",
    "    with open(filename, mode='rb') as fo:\n",
    "        p = pickle.load(fo)\n",
    "    return p "
   ]
  },
  {
   "cell_type": "code",
   "execution_count": null,
   "id": "0440a707",
   "metadata": {
    "papermill": {
     "duration": 0.030687,
     "end_time": "2021-09-27T02:55:06.518944",
     "exception": false,
     "start_time": "2021-09-27T02:55:06.488257",
     "status": "completed"
    },
    "tags": []
   },
   "outputs": [],
   "source": []
  },
  {
   "cell_type": "code",
   "execution_count": null,
   "id": "a8f055b8",
   "metadata": {
    "papermill": {
     "duration": 0.029823,
     "end_time": "2021-09-27T02:55:06.571004",
     "exception": false,
     "start_time": "2021-09-27T02:55:06.541181",
     "status": "completed"
    },
    "tags": []
   },
   "outputs": [],
   "source": []
  },
  {
   "cell_type": "code",
   "execution_count": 3,
   "id": "262476e1",
   "metadata": {
    "papermill": {
     "duration": 0.038449,
     "end_time": "2021-09-27T02:55:06.632933",
     "exception": false,
     "start_time": "2021-09-27T02:55:06.594484",
     "status": "completed"
    },
    "tags": []
   },
   "outputs": [
    {
     "name": "stdout",
     "output_type": "stream",
     "text": [
      "cpu count: 32\n"
     ]
    }
   ],
   "source": [
    "import multiprocessing\n",
    "print('cpu count:', multiprocessing.cpu_count())\n",
    "\n",
    "class Config:\n",
    "    N_LABEL = 10\n",
    "    N_FOLD = 5\n",
    "    RANDOM_SATE = 42\n",
    "    LR = 1.0e-05\n",
    "    MAX_LR = 3.0e-5\n",
    "    PATIENCE = 15\n",
    "    EPOCH = 6\n",
    "    BATCH_SIZE = 128\n",
    "    SKIP_EVALUATE_NUM = 0\n",
    "    BACK_BONE = 'tf_efficientnet_b0_ns'\n",
    "    RUN_FOLD_COUNT = 10\n",
    "    IMG_SIZE=32\n",
    "    T_MAX=20\n",
    "    ETA_MIN=3.0e-7\n",
    "    SCHEDULER_GAMMA=1.0\n",
    "    ACCUMULATION_STEMP=2\n",
    "    NUM_WORKERS=multiprocessing.cpu_count()\n",
    "\n",
    "def seed_everything(seed=1234):\n",
    "    random.seed(seed)\n",
    "    os.environ['PYTHONHASHSEED'] = str(seed)\n",
    "    np.random.seed(seed)\n",
    "    torch.manual_seed(seed)\n",
    "    torch.cuda.manual_seed(seed)\n",
    "    torch.backends.cudnn.deterministic = True\n",
    "    torch.backends.cudnn.benchmark = False\n",
    "\n",
    "seed_everything(seed=Config.RANDOM_SATE)"
   ]
  },
  {
   "cell_type": "code",
   "execution_count": 4,
   "id": "38d798f7",
   "metadata": {
    "papermill": {
     "duration": 0.028675,
     "end_time": "2021-09-27T02:55:06.728350",
     "exception": false,
     "start_time": "2021-09-27T02:55:06.699675",
     "status": "completed"
    },
    "tags": []
   },
   "outputs": [],
   "source": [
    "#timm.list_models(pretrained=True)"
   ]
  },
  {
   "cell_type": "code",
   "execution_count": 5,
   "id": "5fdfae34",
   "metadata": {
    "papermill": {
     "duration": 0.030289,
     "end_time": "2021-09-27T02:55:06.780933",
     "exception": false,
     "start_time": "2021-09-27T02:55:06.750644",
     "status": "completed"
    },
    "tags": []
   },
   "outputs": [
    {
     "data": {
      "text/plain": [
       "['../data/cifar10_test.csv',\n",
       " '../data/cifar10_train.csv',\n",
       " '../data/cifar10',\n",
       " '../data/test.csv',\n",
       " '../data/train.csv']"
      ]
     },
     "execution_count": 5,
     "metadata": {},
     "output_type": "execute_result"
    }
   ],
   "source": [
    "glob.glob(str(DATA_DIR / '*'))"
   ]
  },
  {
   "cell_type": "code",
   "execution_count": null,
   "id": "520080fd-71fb-4fd7-9e27-99b42442ecdc",
   "metadata": {},
   "outputs": [],
   "source": []
  },
  {
   "cell_type": "markdown",
   "id": "69a9e059-f7db-4f96-b77f-a8507fbf10b2",
   "metadata": {},
   "source": [
    "## テンプレート動作確認用"
   ]
  },
  {
   "cell_type": "code",
   "execution_count": 6,
   "id": "18638a03-d906-4b06-931e-9b4cf7c7935a",
   "metadata": {},
   "outputs": [
    {
     "name": "stderr",
     "output_type": "stream",
     "text": [
      "100% 50000/50000 [00:04<00:00, 11446.06it/s]\n",
      "100% 10000/10000 [00:00<00:00, 11242.22it/s]\n"
     ]
    }
   ],
   "source": [
    "from tensorflow.keras.datasets import cifar10\n",
    "(x_train, y_train), (x_test, y_test) = cifar10.load_data()\n",
    "\n",
    "!mkdir -p ../data/cifar10/train\n",
    "!mkdir -p ../data/cifar10/test\n",
    "\n",
    "for i in tqdm(range(len(x_train))):\n",
    "    cv2.imwrite(f'../data/cifar10/train/{i}.png', x_train[i])\n",
    "    \n",
    "for i in tqdm(range(len(x_test))):\n",
    "    cv2.imwrite(f'../data/cifar10/test/{i}.png', x_test[i])\n",
    "    \n",
    "train_df = pd.DataFrame(y_train, columns=['target']).reset_index()\n",
    "train_df['file_name'] = train_df['index'].astype(str) + '.png'\n",
    "train_df.to_csv('../data/cifar10_train.csv', index=False)\n",
    "\n",
    "test_df = pd.DataFrame(y_test, columns=['target']).reset_index()\n",
    "test_df['file_name'] = test_df['index'].astype(str) + '.png'\n",
    "test_df.to_csv('../data/cifar10_test.csv', index=False)"
   ]
  },
  {
   "cell_type": "code",
   "execution_count": null,
   "id": "7dc720d7-5e55-4183-a58d-79a591a355ba",
   "metadata": {},
   "outputs": [],
   "source": []
  },
  {
   "cell_type": "code",
   "execution_count": 7,
   "id": "d5a84b44",
   "metadata": {},
   "outputs": [],
   "source": [
    "train_df = pd.read_csv(DATA_DIR / 'cifar10_train.csv')\n",
    "test_df = pd.read_csv(DATA_DIR / 'cifar10_test.csv')\n",
    "\n",
    "train_labels = pd.get_dummies(train_df['target'])[:len(train_df)]"
   ]
  },
  {
   "cell_type": "code",
   "execution_count": null,
   "id": "b7f12c01",
   "metadata": {},
   "outputs": [],
   "source": []
  },
  {
   "cell_type": "code",
   "execution_count": 8,
   "id": "00dd4484",
   "metadata": {
    "papermill": {
     "duration": 0.057802,
     "end_time": "2021-09-27T02:55:06.861433",
     "exception": false,
     "start_time": "2021-09-27T02:55:06.803631",
     "status": "completed"
    },
    "tags": []
   },
   "outputs": [
    {
     "name": "stderr",
     "output_type": "stream",
     "text": [
      "50000it [00:04, 11394.98it/s]\n",
      "10000it [00:00, 11567.76it/s]\n"
     ]
    }
   ],
   "source": [
    "img_map = {}\n",
    "for idx, row in tqdm(train_df.iterrows()):\n",
    "    img_map[row['file_name']] = cv2.imread(str(DATA_DIR / Path('cifar10/train') / Path(row['file_name'])))\n",
    "    \n",
    "for idx, row in tqdm(test_df.iterrows()):\n",
    "    img_map[row['file_name']] = cv2.imread(str(DATA_DIR / Path('cifar10/train') / Path(row['file_name'])))"
   ]
  },
  {
   "cell_type": "code",
   "execution_count": null,
   "id": "41603183",
   "metadata": {},
   "outputs": [],
   "source": []
  },
  {
   "cell_type": "code",
   "execution_count": null,
   "id": "ffedf7f4",
   "metadata": {},
   "outputs": [],
   "source": []
  },
  {
   "cell_type": "code",
   "execution_count": 9,
   "id": "1c47a0a6",
   "metadata": {
    "papermill": {
     "duration": 0.033222,
     "end_time": "2021-09-27T02:55:08.979344",
     "exception": false,
     "start_time": "2021-09-27T02:55:08.946122",
     "status": "completed"
    },
    "tags": []
   },
   "outputs": [],
   "source": [
    "def get_augmentation():\n",
    "    train_transform = [\n",
    "        #albu.HorizontalFlip(p=0.2),\n",
    "        #albu.VerticalFlip(p=0.5),\n",
    "        #albu.ColorJitter(brightness=0.2, contrast=0.2, saturation=0.3, p=0.5),\n",
    "        #albu.LongestMaxSize(max_size=Config.IMG_SIZE, always_apply=False),\n",
    "        albu.RandomResizedCrop(p=0.5, scale=[0.9, 1.0], height=Config.IMG_SIZE, width=Config.IMG_SIZE),\n",
    "        albu.ShiftScaleRotate(p=0.5, shift_limit=0.1, scale_limit=0.1, rotate_limit=1, border_mode=0, value=0, mask_value=0),\n",
    "        \n",
    "        #albu.Cutout(num_holes=3, max_h_size=20, max_w_size=20, fill_value=0, p=0.5),\n",
    "        \n",
    "        albu.Resize(height=Config.IMG_SIZE, width=Config.IMG_SIZE),\n",
    "        #albu.PadIfNeeded(always_apply=True, min_height=Config.IMG_SIZE, min_width=Config.IMG_SIZE, border_mode=2),\n",
    "        albu.Normalize(),\n",
    "        #albu.VerticalFlip(p=0.3),\n",
    "        #albu.ShiftScaleRotate(p=0.3, shift_limit=0.2, scale_limit=0.2, rotate_limit=1, border_mode=0, value=0, mask_value=0),\n",
    "        #albu.RandomResizedCrop(p=0.5, scale=[0.9, 1.0], height=Config.IMG_SIZE, width=Config.IMG_SIZE),\n",
    "        #albu.ToSepia(p=0.3),\n",
    "        #albu.ToGray(p=1)\n",
    "    ]\n",
    "    return albu.Compose(train_transform)\n",
    "\n",
    "def get_test_augmentation():\n",
    "    train_transform = [\n",
    "        #albu.HorizontalFlip (p=0.5),\n",
    "        #albu.VerticalFlip(p=0.3),\n",
    "        #albu.ColorJitter(brightness=0.1, contrast=0.1, saturation=0.1, p=0.5),\n",
    "        #albu.LongestMaxSize(max_size=Config.IMG_SIZE, always_apply=False),\n",
    "        albu.Resize(height=Config.IMG_SIZE, width=Config.IMG_SIZE),\n",
    "        #albu.PadIfNeeded(always_apply=True, min_height=Config.IMG_SIZE, min_width=Config.IMG_SIZE, border_mode=2),\n",
    "        #albu.HorizontalFlip(p=0.4),\n",
    "        albu.Normalize(),\n",
    "        #albu.VerticalFlip(p=0.3),\n",
    "        #albu.ShiftScaleRotate(p=0.3, shift_limit=0.2, scale_limit=0.2, rotate_limit=1, border_mode=0, value=0, mask_value=0),\n",
    "        #albu.RandomResizedCrop(p=0.5, scale=[0.9, 1.0], height=Config.IMG_SIZE, width=Config.IMG_SIZE),\n",
    "        #albu.ToSepia(p=0.3),\n",
    "        #albu.ToGray(p=1)\n",
    "    ]\n",
    "    return albu.Compose(train_transform)"
   ]
  },
  {
   "cell_type": "code",
   "execution_count": 10,
   "id": "b8397f8a",
   "metadata": {
    "papermill": {
     "duration": 0.035303,
     "end_time": "2021-09-27T02:55:09.041468",
     "exception": false,
     "start_time": "2021-09-27T02:55:09.006165",
     "status": "completed"
    },
    "tags": []
   },
   "outputs": [],
   "source": [
    "class CVDataSet(Dataset):\n",
    "    def __init__(self, df, transforms, labels=None, data_type=None):\n",
    "        self.df = df\n",
    "        self.transforms = transforms\n",
    "        self.labels = labels.to_numpy()\n",
    "        self.data_type = data_type\n",
    "\n",
    "    def __len__(self):\n",
    "        return len(self.df)\n",
    "\n",
    "    def __getitem__(self, idx):\n",
    "        if self.data_type in ['train', 'valid']:\n",
    "            target = self.labels[idx]\n",
    "        else:\n",
    "            target = -1\n",
    "            \n",
    "        img = img_map[self.df.iloc[idx]['file_name']]\n",
    "        \n",
    "        augmented = self.transforms(image=img)\n",
    "        img = augmented['image']\n",
    "        img = np.moveaxis(img, 2, 0)\n",
    "\n",
    "        return img, target"
   ]
  },
  {
   "cell_type": "code",
   "execution_count": 11,
   "id": "28e2c61a",
   "metadata": {
    "papermill": {
     "duration": 0.034874,
     "end_time": "2021-09-27T02:55:09.102696",
     "exception": false,
     "start_time": "2021-09-27T02:55:09.067822",
     "status": "completed"
    },
    "tags": []
   },
   "outputs": [],
   "source": [
    "class CVNet(nn.Module):\n",
    "    def __init__(self):\n",
    "        super(CVNet, self).__init__()\n",
    "\n",
    "        self.base_model = timm.create_model(Config.BACK_BONE, num_classes=0, pretrained=True, in_chans=3)\n",
    "        num_features = self.base_model.num_features\n",
    "\n",
    "        self.cls = nn.Sequential(\n",
    "            nn.Linear(num_features, int(num_features / 2)),\n",
    "            nn.ReLU(),\n",
    "            nn.Dropout(p=0.5),\n",
    "            nn.Linear(int(num_features / 2), int(num_features / 4)),\n",
    "            nn.ReLU(),\n",
    "            nn.Dropout(p=0.5),\n",
    "            nn.Linear(int(num_features / 4), Config.N_LABEL)\n",
    "        )\n",
    "\n",
    "    def forward(self, x):\n",
    "        x = self.base_model(x)\n",
    "        x = self.cls(x)\n",
    "        return x"
   ]
  },
  {
   "cell_type": "code",
   "execution_count": 12,
   "id": "f9a03be0",
   "metadata": {
    "papermill": {
     "duration": 0.03708,
     "end_time": "2021-09-27T02:55:09.166253",
     "exception": false,
     "start_time": "2021-09-27T02:55:09.129173",
     "status": "completed"
    },
    "tags": []
   },
   "outputs": [],
   "source": [
    "class EarlyStopping:\n",
    "    def __init__(self, patience=7, verbose=False, delta=0, fold=''):\n",
    "        self.patience = patience\n",
    "        self.verbose = verbose\n",
    "        self.counter = 0\n",
    "        self.best_score = None\n",
    "        self.early_stop = False\n",
    "        self.val_loss_min = np.Inf\n",
    "        self.delta = delta\n",
    "\n",
    "    def __call__(self, val_loss, model):\n",
    "\n",
    "        score = -val_loss\n",
    "\n",
    "        if self.best_score is None:\n",
    "            self.best_score = score\n",
    "            self.save_checkpoint(val_loss, model)\n",
    "        elif score < self.best_score + self.delta:\n",
    "            self.counter += 1\n",
    "            logger.info(f'EarlyStopping counter: {self.counter} out of {self.patience}')\n",
    "            if self.counter >= self.patience:\n",
    "                self.early_stop = True\n",
    "        else:\n",
    "            self.best_score = score\n",
    "            self.save_checkpoint(val_loss, model)\n",
    "            self.counter = 0\n",
    "\n",
    "    def save_checkpoint(self, val_loss, model):\n",
    "        '''Saves model when validation loss decrease.'''\n",
    "        if self.verbose:\n",
    "            logger.info(f'Validation loss decreased ({self.val_loss_min:.6f} --> {val_loss:.6f}).  Saving model ...')\n",
    "            \n",
    "        #if os.path.exists(CP_DIR / f'checkpoint_{NB}_{fold}.pt'):\n",
    "        #    shutil.move(CP_DIR / f'checkpoint_{NB}_{fold}.pt', CP_DIR / f'checkpoint_{NB}_{fold}-2.pt')\n",
    "        torch.save(model.state_dict(), CP_DIR / f'{HOST}_{NB}_checkpoint_{fold}.pt')\n",
    "        self.val_loss_min = val_loss"
   ]
  },
  {
   "cell_type": "code",
   "execution_count": 13,
   "id": "bccd0571",
   "metadata": {
    "papermill": {
     "duration": 0.084495,
     "end_time": "2021-09-27T02:55:09.277010",
     "exception": false,
     "start_time": "2021-09-27T02:55:09.192515",
     "status": "completed"
    },
    "tags": []
   },
   "outputs": [
    {
     "data": {
      "text/plain": [
       "device(type='cuda')"
      ]
     },
     "execution_count": 13,
     "metadata": {},
     "output_type": "execute_result"
    }
   ],
   "source": [
    "device = torch.device(\"cuda\" if torch.cuda.is_available() else \"cpu\")\n",
    "device"
   ]
  },
  {
   "cell_type": "code",
   "execution_count": 14,
   "id": "d68c7792",
   "metadata": {
    "papermill": {
     "duration": 0.049482,
     "end_time": "2021-09-27T02:55:09.353427",
     "exception": false,
     "start_time": "2021-09-27T02:55:09.303945",
     "status": "completed"
    },
    "tags": []
   },
   "outputs": [
    {
     "name": "stdout",
     "output_type": "stream",
     "text": [
      "====== 0 ======\n"
     ]
    },
    {
     "name": "stderr",
     "output_type": "stream",
     "text": [
      "100% 312/312 [00:17<00:00, 17.96it/s, epoch=0, loss=0.3498]\n",
      "100% 79/79 [00:01<00:00, 78.87it/s] \n",
      "[I 230304 15:26:01 2352231077:74] acc:0.1560\n",
      "[I 230304 15:26:01 3624789395:31] Validation loss decreased (inf --> -0.156000).  Saving model ...\n",
      "100% 312/312 [00:17<00:00, 17.69it/s, epoch=1, loss=0.3147]\n",
      "100% 79/79 [00:01<00:00, 78.97it/s]\n",
      "[I 230304 15:26:23 2352231077:74] acc:0.3394\n",
      "[I 230304 15:26:23 3624789395:31] Validation loss decreased (-0.156000 --> -0.339400).  Saving model ...\n",
      "100% 312/312 [00:15<00:00, 19.56it/s, epoch=2, loss=0.2718]\n",
      "100% 79/79 [00:00<00:00, 80.45it/s] \n",
      "[I 230304 15:26:44 2352231077:74] acc:0.3999\n",
      "[I 230304 15:26:44 3624789395:31] Validation loss decreased (-0.339400 --> -0.399900).  Saving model ...\n",
      "100% 312/312 [00:17<00:00, 18.00it/s, epoch=3, loss=0.2601]\n",
      "100% 79/79 [00:00<00:00, 81.58it/s] \n",
      "[I 230304 15:27:07 2352231077:74] acc:0.4431\n",
      "[I 230304 15:27:07 3624789395:31] Validation loss decreased (-0.399900 --> -0.443100).  Saving model ...\n",
      "100% 312/312 [00:17<00:00, 17.60it/s, epoch=4, loss=0.2595]\n",
      "100% 79/79 [00:00<00:00, 79.40it/s] \n",
      "[I 230304 15:27:30 2352231077:74] acc:0.4570\n",
      "[I 230304 15:27:30 3624789395:31] Validation loss decreased (-0.443100 --> -0.457000).  Saving model ...\n",
      "100% 312/312 [00:16<00:00, 19.27it/s, epoch=5, loss=0.2531]\n",
      "100% 79/79 [00:00<00:00, 80.45it/s] \n",
      "[I 230304 15:27:51 2352231077:74] acc:0.4600\n",
      "[I 230304 15:27:51 3624789395:31] Validation loss decreased (-0.457000 --> -0.460000).  Saving model ...\n"
     ]
    },
    {
     "data": {
      "image/png": "[encoded data removed]",
      "text/plain": [
       "<Figure size 432x288 with 2 Axes>"
      ]
     },
     "metadata": {
      "needs_background": "light"
     },
     "output_type": "display_data"
    },
    {
     "name": "stdout",
     "output_type": "stream",
     "text": [
      "====== 1 ======\n"
     ]
    },
    {
     "name": "stderr",
     "output_type": "stream",
     "text": [
      "100% 312/312 [00:16<00:00, 19.01it/s, epoch=0, loss=0.3421]\n",
      "100% 79/79 [00:00<00:00, 79.22it/s] \n",
      "[I 230304 15:28:13 2352231077:74] acc:0.1912\n",
      "[I 230304 15:28:13 3624789395:31] Validation loss decreased (inf --> -0.191200).  Saving model ...\n",
      "100% 312/312 [00:16<00:00, 18.71it/s, epoch=1, loss=0.2997]\n",
      "100% 79/79 [00:00<00:00, 80.41it/s] \n",
      "[I 230304 15:28:35 2352231077:74] acc:0.3399\n",
      "[I 230304 15:28:35 3624789395:31] Validation loss decreased (-0.191200 --> -0.339900).  Saving model ...\n",
      "100% 312/312 [00:17<00:00, 17.88it/s, epoch=2, loss=0.2687]\n",
      "100% 79/79 [00:00<00:00, 81.57it/s] \n",
      "[I 230304 15:28:57 2352231077:74] acc:0.4004\n",
      "[I 230304 15:28:57 3624789395:31] Validation loss decreased (-0.339900 --> -0.400400).  Saving model ...\n",
      "100% 312/312 [00:17<00:00, 17.90it/s, epoch=3, loss=0.2535]\n",
      "100% 79/79 [00:01<00:00, 76.53it/s] \n",
      "[I 230304 15:29:20 2352231077:74] acc:0.4439\n",
      "[I 230304 15:29:20 3624789395:31] Validation loss decreased (-0.400400 --> -0.443900).  Saving model ...\n",
      "100% 312/312 [00:17<00:00, 18.16it/s, epoch=4, loss=0.2568]\n",
      "100% 79/79 [00:01<00:00, 78.62it/s] \n",
      "[I 230304 15:29:43 2352231077:74] acc:0.4591\n",
      "[I 230304 15:29:43 3624789395:31] Validation loss decreased (-0.443900 --> -0.459100).  Saving model ...\n",
      "100% 312/312 [00:17<00:00, 17.81it/s, epoch=5, loss=0.2444]\n",
      "100% 79/79 [00:00<00:00, 83.88it/s] \n",
      "[I 230304 15:30:05 2352231077:74] acc:0.4638\n",
      "[I 230304 15:30:05 3624789395:31] Validation loss decreased (-0.459100 --> -0.463800).  Saving model ...\n"
     ]
    },
    {
     "data": {
      "image/png": "[encoded data removed]",
      "text/plain": [
       "<Figure size 432x288 with 2 Axes>"
      ]
     },
     "metadata": {
      "needs_background": "light"
     },
     "output_type": "display_data"
    },
    {
     "name": "stdout",
     "output_type": "stream",
     "text": [
      "====== 2 ======\n"
     ]
    },
    {
     "name": "stderr",
     "output_type": "stream",
     "text": [
      "100% 312/312 [00:17<00:00, 17.99it/s, epoch=0, loss=0.3462]\n",
      "100% 79/79 [00:00<00:00, 80.66it/s] \n",
      "[I 230304 15:30:28 2352231077:74] acc:0.1674\n",
      "[I 230304 15:30:28 3624789395:31] Validation loss decreased (inf --> -0.167400).  Saving model ...\n",
      "100% 312/312 [00:17<00:00, 18.02it/s, epoch=1, loss=0.3083]\n",
      "100% 79/79 [00:00<00:00, 80.26it/s] \n",
      "[I 230304 15:30:51 2352231077:74] acc:0.3611\n",
      "[I 230304 15:30:51 3624789395:31] Validation loss decreased (-0.167400 --> -0.361100).  Saving model ...\n",
      "100% 312/312 [00:17<00:00, 17.70it/s, epoch=2, loss=0.2794]\n",
      "100% 79/79 [00:00<00:00, 80.12it/s] \n",
      "[I 230304 15:31:13 2352231077:74] acc:0.4069\n",
      "[I 230304 15:31:13 3624789395:31] Validation loss decreased (-0.361100 --> -0.406900).  Saving model ...\n",
      "100% 312/312 [00:16<00:00, 18.89it/s, epoch=3, loss=0.2717]\n",
      "100% 79/79 [00:01<00:00, 78.73it/s]\n",
      "[I 230304 15:31:35 2352231077:74] acc:0.4584\n",
      "[I 230304 15:31:35 3624789395:31] Validation loss decreased (-0.406900 --> -0.458400).  Saving model ...\n",
      "100% 312/312 [00:16<00:00, 18.56it/s, epoch=4, loss=0.2530]\n",
      "100% 79/79 [00:00<00:00, 80.23it/s] \n",
      "[I 230304 15:31:57 2352231077:74] acc:0.4759\n",
      "[I 230304 15:31:57 3624789395:31] Validation loss decreased (-0.458400 --> -0.475900).  Saving model ...\n",
      "100% 312/312 [00:17<00:00, 17.72it/s, epoch=5, loss=0.2495]\n",
      "100% 79/79 [00:00<00:00, 81.58it/s] \n",
      "[I 230304 15:32:20 2352231077:74] acc:0.4763\n",
      "[I 230304 15:32:20 3624789395:31] Validation loss decreased (-0.475900 --> -0.476300).  Saving model ...\n"
     ]
    },
    {
     "data": {
      "image/png": "[encoded data removed]",
      "text/plain": [
       "<Figure size 432x288 with 2 Axes>"
      ]
     },
     "metadata": {
      "needs_background": "light"
     },
     "output_type": "display_data"
    },
    {
     "name": "stdout",
     "output_type": "stream",
     "text": [
      "====== 3 ======\n"
     ]
    },
    {
     "name": "stderr",
     "output_type": "stream",
     "text": [
      "100% 312/312 [00:16<00:00, 19.46it/s, epoch=0, loss=0.3474]\n",
      "100% 79/79 [00:01<00:00, 77.49it/s] \n",
      "[I 230304 15:32:41 2352231077:74] acc:0.2075\n",
      "[I 230304 15:32:41 3624789395:31] Validation loss decreased (inf --> -0.207500).  Saving model ...\n",
      "100% 312/312 [00:17<00:00, 18.08it/s, epoch=1, loss=0.3096]\n",
      "100% 79/79 [00:01<00:00, 76.24it/s]\n",
      "[I 230304 15:33:04 2352231077:74] acc:0.3257\n",
      "[I 230304 15:33:04 3624789395:31] Validation loss decreased (-0.207500 --> -0.325700).  Saving model ...\n",
      "100% 312/312 [00:17<00:00, 17.60it/s, epoch=2, loss=0.2801]\n",
      "100% 79/79 [00:00<00:00, 79.53it/s]\n",
      "[I 230304 15:33:27 2352231077:74] acc:0.3919\n",
      "[I 230304 15:33:27 3624789395:31] Validation loss decreased (-0.325700 --> -0.391900).  Saving model ...\n",
      "100% 312/312 [00:16<00:00, 19.42it/s, epoch=3, loss=0.2700]\n",
      "100% 79/79 [00:00<00:00, 81.20it/s] \n",
      "[I 230304 15:33:48 2352231077:74] acc:0.4395\n",
      "[I 230304 15:33:48 3624789395:31] Validation loss decreased (-0.391900 --> -0.439500).  Saving model ...\n",
      "100% 312/312 [00:16<00:00, 19.15it/s, epoch=4, loss=0.2487]\n",
      "100% 79/79 [00:01<00:00, 77.39it/s]\n",
      "[I 230304 15:34:09 2352231077:74] acc:0.4572\n",
      "[I 230304 15:34:09 3624789395:31] Validation loss decreased (-0.439500 --> -0.457200).  Saving model ...\n",
      "100% 312/312 [00:17<00:00, 17.93it/s, epoch=5, loss=0.2568]\n",
      "100% 79/79 [00:00<00:00, 81.82it/s] \n",
      "[I 230304 15:34:32 2352231077:74] acc:0.4572\n",
      "[I 230304 15:34:32 3624789395:31] Validation loss decreased (-0.457200 --> -0.457200).  Saving model ...\n"
     ]
    },
    {
     "data": {
      "image/png": "[encoded data removed]",
      "text/plain": [
       "<Figure size 432x288 with 2 Axes>"
      ]
     },
     "metadata": {
      "needs_background": "light"
     },
     "output_type": "display_data"
    },
    {
     "name": "stdout",
     "output_type": "stream",
     "text": [
      "====== 4 ======\n"
     ]
    },
    {
     "name": "stderr",
     "output_type": "stream",
     "text": [
      "100% 312/312 [00:16<00:00, 19.15it/s, epoch=0, loss=0.3509]\n",
      "100% 79/79 [00:01<00:00, 78.30it/s] \n",
      "[I 230304 15:34:54 2352231077:74] acc:0.2078\n",
      "[I 230304 15:34:54 3624789395:31] Validation loss decreased (inf --> -0.207800).  Saving model ...\n",
      "100% 312/312 [00:17<00:00, 18.00it/s, epoch=1, loss=0.2999]\n",
      "100% 79/79 [00:00<00:00, 80.10it/s] \n",
      "[I 230304 15:35:16 2352231077:74] acc:0.3653\n",
      "[I 230304 15:35:16 3624789395:31] Validation loss decreased (-0.207800 --> -0.365300).  Saving model ...\n",
      "100% 312/312 [00:16<00:00, 18.65it/s, epoch=2, loss=0.2765]\n",
      "100% 79/79 [00:00<00:00, 79.73it/s] \n",
      "[I 230304 15:35:38 2352231077:74] acc:0.4122\n",
      "[I 230304 15:35:38 3624789395:31] Validation loss decreased (-0.365300 --> -0.412200).  Saving model ...\n",
      "100% 312/312 [00:16<00:00, 18.87it/s, epoch=3, loss=0.2623]\n",
      "100% 79/79 [00:01<00:00, 78.89it/s] \n",
      "[I 230304 15:36:00 2352231077:74] acc:0.4429\n",
      "[I 230304 15:36:00 3624789395:31] Validation loss decreased (-0.412200 --> -0.442900).  Saving model ...\n",
      "100% 312/312 [00:16<00:00, 18.74it/s, epoch=4, loss=0.2500]\n",
      "100% 79/79 [00:01<00:00, 77.91it/s] \n",
      "[I 230304 15:36:22 2352231077:74] acc:0.4597\n",
      "[I 230304 15:36:22 3624789395:31] Validation loss decreased (-0.442900 --> -0.459700).  Saving model ...\n",
      "100% 312/312 [00:15<00:00, 20.32it/s, epoch=5, loss=0.2640]\n",
      "100% 79/79 [00:00<00:00, 80.12it/s] \n",
      "[I 230304 15:36:42 2352231077:74] acc:0.4667\n",
      "[I 230304 15:36:42 3624789395:31] Validation loss decreased (-0.459700 --> -0.466700).  Saving model ...\n"
     ]
    },
    {
     "data": {
      "image/png": "[encoded data removed]",
      "text/plain": [
       "<Figure size 432x288 with 2 Axes>"
      ]
     },
     "metadata": {
      "needs_background": "light"
     },
     "output_type": "display_data"
    }
   ],
   "source": [
    "skf = StratifiedKFold(n_splits=Config.N_FOLD, random_state=Config.RANDOM_SATE, shuffle=True)\n",
    "for fold, (train_index, test_index) in enumerate(skf.split(train_df, train_df['target'])):\n",
    "    print(f'====== {fold} ======')\n",
    "\n",
    "    net = CVNet()\n",
    "    net.to(device)\n",
    "\n",
    "    #criterion = nn.MSELoss()\n",
    "    criterion = nn.BCEWithLogitsLoss()\n",
    "    optimizer = optim.AdamW(net.parameters(), lr=Config.LR, weight_decay=1.0e-02)    \n",
    "\n",
    "    train, valid = train_df.iloc[train_index], train_df.iloc[test_index]\n",
    "    y_train, y_valid = train_labels.iloc[train_index], train_labels.iloc[test_index]\n",
    "    \n",
    "    train_dataset = CVDataSet(train, get_augmentation(), labels=y_train, data_type='train')\n",
    "    valid_dataset = CVDataSet(valid, get_test_augmentation(), labels=y_valid, data_type='valid')\n",
    "\n",
    "    trainloader = DataLoader(train_dataset, batch_size=Config.BATCH_SIZE , pin_memory=True, shuffle=True, drop_last=True, num_workers=Config.NUM_WORKERS)\n",
    "    validloader = DataLoader(valid_dataset, batch_size=Config.BATCH_SIZE , pin_memory=True, num_workers=Config.NUM_WORKERS)\n",
    "\n",
    "    early_stopping = EarlyStopping(patience=Config.PATIENCE, verbose=True, fold=fold)\n",
    "    scheduler = torch.optim.lr_scheduler.OneCycleLR(optimizer, epochs=Config.EPOCH, steps_per_epoch=len(trainloader), max_lr=Config.MAX_LR, pct_start= 0.1, anneal_strategy='cos', div_factor= 1.0e+3, final_div_factor= 1.0e+3)\n",
    "    # scheduler = torch.optim.lr_scheduler.CosineAnnealingLR(optimizer, T_max=Config.T_MAX, eta_min=Config.ETA_MIN)\n",
    "    # scheduler = CosineAnnealingWarmupRestarts(optimizer, first_cycle_steps=int((len(trainloader) * Config.EPOCH) / 5), cycle_mult=1.0, max_lr=Config.LR, min_lr=Config.ETA_MIN, warmup_steps=int((len(trainloader) * Config.EPOCH) / 50), gamma=Config.SCHEDULER_GAMMA)\n",
    "\n",
    "    val_metrics = []\n",
    "    learning_rates = []\n",
    "\n",
    "    for epoch in range(Config.EPOCH):\n",
    "\n",
    "        running_loss = 0.0\n",
    "        train_rmse_list = []\n",
    "        n_iter = len(trainloader)\n",
    "        with tqdm(enumerate(trainloader), total=n_iter) as pbar:\n",
    "            for i, (img, target) in pbar:\n",
    "\n",
    "                net.train()\n",
    "                # zero the parameter gradients\n",
    "                #optimizer.zero_grad()\n",
    "\n",
    "                img, target = img.to(device).float(), target.to(device).float()\n",
    "                \n",
    "                outputs = net(img)\n",
    "                \n",
    "                loss = criterion(outputs, target)\n",
    "                \n",
    "                loss.backward()\n",
    "                optimizer.step()\n",
    "                net.zero_grad()\n",
    "\n",
    "                # print statistics\n",
    "                running_loss += loss.item()\n",
    "\n",
    "                outputs_np = outputs.to('cpu').detach().numpy().copy()\n",
    "\n",
    "                pbar.set_postfix(OrderedDict(\n",
    "                    epoch=\"{:>10}\".format(epoch), loss=\"{:.4f}\".format(loss.item())\n",
    "                ))\n",
    "                scheduler.step()\n",
    "\n",
    "        val_preds = []\n",
    "        n_iter_val = len(validloader)\n",
    "        for i, (img, target) in tqdm(enumerate(validloader), total=n_iter_val):\n",
    "            net.eval()\n",
    "\n",
    "            with torch.no_grad():\n",
    "                img, pawpularities = img.to(device).float(), target.to(device).float()\n",
    "                outputs = net(img)\n",
    "                outputs = outputs.sigmoid() * 100\n",
    "                outputs_np = outputs.to('cpu').detach().numpy().copy()\n",
    "                val_preds.append(outputs_np)\n",
    "\n",
    "        acc = accuracy_score(np.argmax(y_valid.to_numpy(), axis=1), np.argmax(np.vstack(val_preds), axis=1))\n",
    "        logger.info('acc:{:.4f}'.format(acc))\n",
    "\n",
    "        lr = optimizer.param_groups[0]['lr']\n",
    "\n",
    "        val_metrics.append(acc)\n",
    "        learning_rates.append(lr)\n",
    "\n",
    "        early_stopping(-acc, net)\n",
    "\n",
    "        if early_stopping.early_stop:\n",
    "            logger.info(\"Early stopping\")\n",
    "            #net.load_state_dict(torch.load(CP_DIR / f'checkpoint_{NB}_{fold}.pt'))\n",
    "            #cv_scores[f'cv{fold}'] = early_stopping.best_score\n",
    "            break\n",
    "\n",
    "    fig = plt.figure()\n",
    "    ax1 = fig.add_subplot(111)\n",
    "    ax1.plot(learning_rates)\n",
    "    ax2 = ax1.twinx()\n",
    "    ax2.plot(val_metrics)\n",
    "    plt.show()\n",
    "\n",
    "    del net, validloader, trainloader, train_dataset, valid_dataset\n",
    "    torch.cuda.empty_cache()\n",
    "    gc.collect()\n"
   ]
  },
  {
   "cell_type": "code",
   "execution_count": null,
   "id": "f4520456",
   "metadata": {},
   "outputs": [],
   "source": []
  },
  {
   "cell_type": "code",
   "execution_count": null,
   "id": "f378d64c",
   "metadata": {},
   "outputs": [],
   "source": []
  },
  {
   "cell_type": "code",
   "execution_count": 18,
   "id": "38a1d42d",
   "metadata": {
    "papermill": {
     "duration": 0.040168,
     "end_time": "2021-09-27T02:55:09.420226",
     "exception": false,
     "start_time": "2021-09-27T02:55:09.380058",
     "status": "completed"
    },
    "tags": []
   },
   "outputs": [
    {
     "name": "stdout",
     "output_type": "stream",
     "text": [
      "\n",
      "====== 0 ======\n"
     ]
    },
    {
     "name": "stderr",
     "output_type": "stream",
     "text": [
      "100% 79/79 [00:03<00:00, 19.98it/s]\n"
     ]
    },
    {
     "name": "stdout",
     "output_type": "stream",
     "text": [
      "0.46\n",
      "\n",
      "====== 1 ======\n"
     ]
    },
    {
     "name": "stderr",
     "output_type": "stream",
     "text": [
      "100% 79/79 [00:04<00:00, 19.70it/s]\n"
     ]
    },
    {
     "name": "stdout",
     "output_type": "stream",
     "text": [
      "0.4638\n",
      "\n",
      "====== 2 ======\n"
     ]
    },
    {
     "name": "stderr",
     "output_type": "stream",
     "text": [
      "100% 79/79 [00:04<00:00, 19.57it/s]\n"
     ]
    },
    {
     "name": "stdout",
     "output_type": "stream",
     "text": [
      "0.4763\n",
      "\n",
      "====== 3 ======\n"
     ]
    },
    {
     "name": "stderr",
     "output_type": "stream",
     "text": [
      "100% 79/79 [00:04<00:00, 19.59it/s]\n"
     ]
    },
    {
     "name": "stdout",
     "output_type": "stream",
     "text": [
      "0.4572\n",
      "\n",
      "====== 4 ======\n"
     ]
    },
    {
     "name": "stderr",
     "output_type": "stream",
     "text": [
      "100% 79/79 [00:04<00:00, 19.00it/s]\n"
     ]
    },
    {
     "name": "stdout",
     "output_type": "stream",
     "text": [
      "0.4667\n",
      "0.4648\n"
     ]
    },
    {
     "data": {
      "text/plain": [
       "0.4648"
      ]
     },
     "execution_count": 18,
     "metadata": {},
     "output_type": "execute_result"
    }
   ],
   "source": [
    "cv_scores = {}\n",
    "oof = np.zeros((len(train_df), Config.N_LABEL))\n",
    "skf = StratifiedKFold(n_splits=Config.N_FOLD, random_state=Config.RANDOM_SATE, shuffle=True)\n",
    "for fold, (train_index, test_index) in enumerate(skf.split(train_df, train_df['target'])):\n",
    "    print(f'\\r\\n====== {fold} ======')\n",
    "\n",
    "    net = CVNet()\n",
    "    net.to(device)\n",
    "\n",
    "    valid = train_df.iloc[test_index]\n",
    "    y_valid = train_labels.iloc[test_index]\n",
    "\n",
    "    valid_dataset = CVDataSet(valid, get_test_augmentation(), labels=y_valid, data_type='valid')\n",
    "    validloader = DataLoader(valid_dataset, batch_size=Config.BATCH_SIZE, pin_memory=True, num_workers=Config.NUM_WORKERS)\n",
    "\n",
    "    preds = []\n",
    "    for i, (img, target) in tqdm(enumerate(validloader), total=len(validloader)):\n",
    "        net.load_state_dict(torch.load(CP_DIR / f'{HOST}_{NB}_checkpoint_{fold}.pt'))\n",
    "        net.eval()\n",
    "\n",
    "        with torch.no_grad():\n",
    "\n",
    "            img, target = img.to(device).float(), target.to(device).float()\n",
    "            outputs = net(img)\n",
    "            outputs_np = outputs.to('cpu').detach().numpy().copy()\n",
    "            preds.append(outputs_np)\n",
    "\n",
    "    acc = accuracy_score(np.argmax(y_valid.to_numpy(), axis=1), np.argmax(np.vstack(preds), axis=1))\n",
    "    print(acc)\n",
    "\n",
    "    oof[test_index] = np.vstack(preds)\n",
    "    cv_scores[f'cv{fold}'] = acc\n",
    "\n",
    "    del net, valid_dataset, validloader\n",
    "    torch.cuda.empty_cache()\n",
    "    gc.collect()\n",
    "\n",
    "print(np.mean([v for k, v in cv_scores.items()]))\n",
    "accuracy_score(np.argmax(train_labels.to_numpy(), axis=1), np.argmax(oof, axis=1))"
   ]
  },
  {
   "cell_type": "code",
   "execution_count": 16,
   "id": "6bddcb09",
   "metadata": {
    "papermill": {
     "duration": 0.034584,
     "end_time": "2021-09-27T02:55:09.481611",
     "exception": false,
     "start_time": "2021-09-27T02:55:09.447027",
     "status": "completed"
    },
    "tags": []
   },
   "outputs": [
    {
     "data": {
      "text/html": [
       "<div>\n",
       "<style scoped>\n",
       "    .dataframe tbody tr th:only-of-type {\n",
       "        vertical-align: middle;\n",
       "    }\n",
       "\n",
       "    .dataframe tbody tr th {\n",
       "        vertical-align: top;\n",
       "    }\n",
       "\n",
       "    .dataframe thead th {\n",
       "        text-align: right;\n",
       "    }\n",
       "</style>\n",
       "<table border=\"1\" class=\"dataframe\">\n",
       "  <thead>\n",
       "    <tr style=\"text-align: right;\">\n",
       "      <th></th>\n",
       "      <th>index</th>\n",
       "      <th>target</th>\n",
       "      <th>file_name</th>\n",
       "      <th>oof</th>\n",
       "    </tr>\n",
       "  </thead>\n",
       "  <tbody>\n",
       "    <tr>\n",
       "      <th>0</th>\n",
       "      <td>0</td>\n",
       "      <td>6</td>\n",
       "      <td>0.png</td>\n",
       "      <td>6</td>\n",
       "    </tr>\n",
       "    <tr>\n",
       "      <th>1</th>\n",
       "      <td>1</td>\n",
       "      <td>9</td>\n",
       "      <td>1.png</td>\n",
       "      <td>9</td>\n",
       "    </tr>\n",
       "    <tr>\n",
       "      <th>2</th>\n",
       "      <td>2</td>\n",
       "      <td>9</td>\n",
       "      <td>2.png</td>\n",
       "      <td>9</td>\n",
       "    </tr>\n",
       "    <tr>\n",
       "      <th>3</th>\n",
       "      <td>3</td>\n",
       "      <td>4</td>\n",
       "      <td>3.png</td>\n",
       "      <td>6</td>\n",
       "    </tr>\n",
       "    <tr>\n",
       "      <th>4</th>\n",
       "      <td>4</td>\n",
       "      <td>1</td>\n",
       "      <td>4.png</td>\n",
       "      <td>1</td>\n",
       "    </tr>\n",
       "    <tr>\n",
       "      <th>...</th>\n",
       "      <td>...</td>\n",
       "      <td>...</td>\n",
       "      <td>...</td>\n",
       "      <td>...</td>\n",
       "    </tr>\n",
       "    <tr>\n",
       "      <th>49995</th>\n",
       "      <td>49995</td>\n",
       "      <td>2</td>\n",
       "      <td>49995.png</td>\n",
       "      <td>0</td>\n",
       "    </tr>\n",
       "    <tr>\n",
       "      <th>49996</th>\n",
       "      <td>49996</td>\n",
       "      <td>6</td>\n",
       "      <td>49996.png</td>\n",
       "      <td>5</td>\n",
       "    </tr>\n",
       "    <tr>\n",
       "      <th>49997</th>\n",
       "      <td>49997</td>\n",
       "      <td>9</td>\n",
       "      <td>49997.png</td>\n",
       "      <td>9</td>\n",
       "    </tr>\n",
       "    <tr>\n",
       "      <th>49998</th>\n",
       "      <td>49998</td>\n",
       "      <td>1</td>\n",
       "      <td>49998.png</td>\n",
       "      <td>8</td>\n",
       "    </tr>\n",
       "    <tr>\n",
       "      <th>49999</th>\n",
       "      <td>49999</td>\n",
       "      <td>1</td>\n",
       "      <td>49999.png</td>\n",
       "      <td>1</td>\n",
       "    </tr>\n",
       "  </tbody>\n",
       "</table>\n",
       "<p>50000 rows × 4 columns</p>\n",
       "</div>"
      ],
      "text/plain": [
       "       index  target  file_name  oof\n",
       "0          0       6      0.png    6\n",
       "1          1       9      1.png    9\n",
       "2          2       9      2.png    9\n",
       "3          3       4      3.png    6\n",
       "4          4       1      4.png    1\n",
       "...      ...     ...        ...  ...\n",
       "49995  49995       2  49995.png    0\n",
       "49996  49996       6  49996.png    5\n",
       "49997  49997       9  49997.png    9\n",
       "49998  49998       1  49998.png    8\n",
       "49999  49999       1  49999.png    1\n",
       "\n",
       "[50000 rows x 4 columns]"
      ]
     },
     "execution_count": 16,
     "metadata": {},
     "output_type": "execute_result"
    }
   ],
   "source": [
    "oof_df = train_df.copy()\n",
    "oof_df['oof'] = np.argmax(oof, axis=1)\n",
    "oof_file_name = str(OUTPUT_DIR / f'oof_{HOST}_{NB}.csv')\n",
    "oof_df.to_csv(oof_file_name, index=False)\n",
    "oof_df"
   ]
  },
  {
   "cell_type": "code",
   "execution_count": 27,
   "id": "4e01f8f0-22df-4ae0-b01e-ce9d37ebe9d0",
   "metadata": {},
   "outputs": [
    {
     "name": "stderr",
     "output_type": "stream",
     "text": [
      "100% 79/79 [00:05<00:00, 14.85it/s]\n"
     ]
    }
   ],
   "source": [
    "y_preds = np.zeros((len(test_df), Config.N_LABEL))\n",
    "\n",
    "test_dataset = CVDataSet(test_df, get_test_augmentation(), labels=pd.DataFrame(), data_type='test')\n",
    "testloader = DataLoader(test_dataset, batch_size=Config.BATCH_SIZE, pin_memory=True, num_workers=Config.NUM_WORKERS)\n",
    "\n",
    "# DataLoaderが時間がかかるのでLOOPは一度にする\n",
    "nets = []\n",
    "for fold in range(Config.N_FOLD):\n",
    "    net = CVNet()\n",
    "    net.to(device)\n",
    "    net.load_state_dict(torch.load(CP_DIR / f'{HOST}_{NB}_checkpoint_{fold}.pt'))\n",
    "    nets.append(net)\n",
    "\n",
    "fold_preds = []\n",
    "for i, (inputs, target) in tqdm(enumerate(testloader), total=len(testloader)):\n",
    "    net.eval()\n",
    "\n",
    "    with torch.no_grad():\n",
    "        inputs, target = inputs.to(device).float(), target.to(device).float()\n",
    "\n",
    "        outputs_nps = []\n",
    "        for net in nets:\n",
    "            outputs = net(inputs)\n",
    "            outputs_np_fold = outputs.to('cpu').detach().numpy().copy()\n",
    "            outputs_nps.append(outputs_np_fold)\n",
    "\n",
    "        fold_preds.append(np.mean(outputs_nps, axis=0))\n",
    "\n",
    "y_preds = np.vstack(fold_preds)"
   ]
  },
  {
   "cell_type": "code",
   "execution_count": null,
   "id": "5ecf46ba-6da9-4369-aeb4-95e497f4058d",
   "metadata": {},
   "outputs": [],
   "source": []
  },
  {
   "cell_type": "code",
   "execution_count": null,
   "id": "fb15efe9-b992-4b1d-b7a6-ff9bd2639ad9",
   "metadata": {},
   "outputs": [],
   "source": []
  },
  {
   "cell_type": "code",
   "execution_count": null,
   "id": "32ccfd2e",
   "metadata": {
    "papermill": {
     "duration": 0.036379,
     "end_time": "2021-09-27T02:55:09.544913",
     "exception": false,
     "start_time": "2021-09-27T02:55:09.508534",
     "status": "completed"
    },
    "tags": []
   },
   "outputs": [],
   "source": [
    "\"\"\"param_dict = {k:v for k, v in vars(Config).items() if not k.startswith('__')}\n",
    "\n",
    "remote_server_uri = \"http://192.168.1.99:5000/\"\n",
    "os.environ[\"MLFLOW_S3_ENDPOINT_URL\"] = \"http://192.168.1.99:9000\"\n",
    "os.environ[\"AWS_ACCESS_KEY_ID\"] = \"minio-access-key\"\n",
    "os.environ[\"AWS_SECRET_ACCESS_KEY\"] = \"minio-secret-key\"\n",
    "\n",
    "mlflow.set_tracking_uri(remote_server_uri)\n",
    "mlflow.set_experiment(\"template\")\n",
    "with mlflow.start_run():\n",
    "    mlflow.set_tag('NB', NB)\n",
    "    #mlflow.set_tag('DESCRIPTION', description)\n",
    "    mlflow.set_tag('HOST', HOST)\n",
    "\n",
    "    mlflow.log_params(param_dict)\n",
    "    #mlflow.log_param('loss', type(criterion))\n",
    "    #mlflow.log_param('optimizer', type(optimizer))\n",
    "    #mlflow.log_param('scheduler', type(scheduler))\n",
    "\n",
    "    mlflow.log_metrics(cv_scores)\n",
    "    mlflow.log_metric('cv_score_mean', np.mean([v for k, v in cv_scores.items()]))\n",
    "\n",
    "    mlflow.log_artifact(get_notebook_path())\n",
    "    #mlflow.log_artifact(sub_file_name)\n",
    "    mlflow.log_artifact(oof_file_name)\"\"\""
   ]
  },
  {
   "cell_type": "code",
   "execution_count": null,
   "id": "49006df8",
   "metadata": {
    "papermill": {
     "duration": 8.284665,
     "end_time": "2021-09-27T02:55:17.856341",
     "exception": false,
     "start_time": "2021-09-27T02:55:09.571676",
     "status": "completed"
    },
    "tags": []
   },
   "outputs": [],
   "source": []
  },
  {
   "cell_type": "code",
   "execution_count": 30,
   "id": "8fd25730",
   "metadata": {
    "papermill": {
     "duration": 0.043045,
     "end_time": "2021-09-27T02:55:17.935622",
     "exception": false,
     "start_time": "2021-09-27T02:55:17.892577",
     "status": "completed"
    },
    "tags": []
   },
   "outputs": [],
   "source": [
    "test_df['target'] = np.argmax(y_preds, axis=1)\n",
    "#submission_df = test_df[['Id', 'Pawpularity']]\n",
    "#submission_df.to_csv('submission.csv', index=False)"
   ]
  },
  {
   "cell_type": "code",
   "execution_count": null,
   "id": "a0726822",
   "metadata": {
    "papermill": {
     "duration": 0.031106,
     "end_time": "2021-09-27T02:55:17.998602",
     "exception": false,
     "start_time": "2021-09-27T02:55:17.967496",
     "status": "completed"
    },
    "tags": []
   },
   "outputs": [],
   "source": []
  },
  {
   "cell_type": "code",
   "execution_count": 32,
   "id": "6b2618de",
   "metadata": {},
   "outputs": [
    {
     "data": {
      "text/html": [
       "<div>\n",
       "<style scoped>\n",
       "    .dataframe tbody tr th:only-of-type {\n",
       "        vertical-align: middle;\n",
       "    }\n",
       "\n",
       "    .dataframe tbody tr th {\n",
       "        vertical-align: top;\n",
       "    }\n",
       "\n",
       "    .dataframe thead th {\n",
       "        text-align: right;\n",
       "    }\n",
       "</style>\n",
       "<table border=\"1\" class=\"dataframe\">\n",
       "  <thead>\n",
       "    <tr style=\"text-align: right;\">\n",
       "      <th></th>\n",
       "      <th>index</th>\n",
       "      <th>target</th>\n",
       "      <th>file_name</th>\n",
       "    </tr>\n",
       "  </thead>\n",
       "  <tbody>\n",
       "    <tr>\n",
       "      <th>0</th>\n",
       "      <td>0</td>\n",
       "      <td>5</td>\n",
       "      <td>0.png</td>\n",
       "    </tr>\n",
       "    <tr>\n",
       "      <th>1</th>\n",
       "      <td>1</td>\n",
       "      <td>7</td>\n",
       "      <td>1.png</td>\n",
       "    </tr>\n",
       "    <tr>\n",
       "      <th>2</th>\n",
       "      <td>2</td>\n",
       "      <td>1</td>\n",
       "      <td>2.png</td>\n",
       "    </tr>\n",
       "    <tr>\n",
       "      <th>3</th>\n",
       "      <td>3</td>\n",
       "      <td>6</td>\n",
       "      <td>3.png</td>\n",
       "    </tr>\n",
       "    <tr>\n",
       "      <th>4</th>\n",
       "      <td>4</td>\n",
       "      <td>1</td>\n",
       "      <td>4.png</td>\n",
       "    </tr>\n",
       "    <tr>\n",
       "      <th>...</th>\n",
       "      <td>...</td>\n",
       "      <td>...</td>\n",
       "      <td>...</td>\n",
       "    </tr>\n",
       "    <tr>\n",
       "      <th>9995</th>\n",
       "      <td>9995</td>\n",
       "      <td>4</td>\n",
       "      <td>9995.png</td>\n",
       "    </tr>\n",
       "    <tr>\n",
       "      <th>9996</th>\n",
       "      <td>9996</td>\n",
       "      <td>9</td>\n",
       "      <td>9996.png</td>\n",
       "    </tr>\n",
       "    <tr>\n",
       "      <th>9997</th>\n",
       "      <td>9997</td>\n",
       "      <td>1</td>\n",
       "      <td>9997.png</td>\n",
       "    </tr>\n",
       "    <tr>\n",
       "      <th>9998</th>\n",
       "      <td>9998</td>\n",
       "      <td>1</td>\n",
       "      <td>9998.png</td>\n",
       "    </tr>\n",
       "    <tr>\n",
       "      <th>9999</th>\n",
       "      <td>9999</td>\n",
       "      <td>4</td>\n",
       "      <td>9999.png</td>\n",
       "    </tr>\n",
       "  </tbody>\n",
       "</table>\n",
       "<p>10000 rows × 3 columns</p>\n",
       "</div>"
      ],
      "text/plain": [
       "      index  target file_name\n",
       "0         0       5     0.png\n",
       "1         1       7     1.png\n",
       "2         2       1     2.png\n",
       "3         3       6     3.png\n",
       "4         4       1     4.png\n",
       "...     ...     ...       ...\n",
       "9995   9995       4  9995.png\n",
       "9996   9996       9  9996.png\n",
       "9997   9997       1  9997.png\n",
       "9998   9998       1  9998.png\n",
       "9999   9999       4  9999.png\n",
       "\n",
       "[10000 rows x 3 columns]"
      ]
     },
     "execution_count": 32,
     "metadata": {},
     "output_type": "execute_result"
    }
   ],
   "source": [
    "test_df"
   ]
  },
  {
   "cell_type": "code",
   "execution_count": null,
   "id": "62dacbd7",
   "metadata": {},
   "outputs": [],
   "source": []
  }
 ],
 "metadata": {
  "kernelspec": {
   "display_name": "Python 3 (ipykernel)",
   "language": "python",
   "name": "python3"
  },
  "language_info": {
   "codemirror_mode": {
    "name": "ipython",
    "version": 3
   },
   "file_extension": ".py",
   "mimetype": "text/x-python",
   "name": "python",
   "nbconvert_exporter": "python",
   "pygments_lexer": "ipython3",
   "version": "3.7.12"
  },
  "papermill": {
   "default_parameters": {},
   "duration": 26.648251,
   "end_time": "2021-09-27T02:55:19.607961",
   "environment_variables": {},
   "exception": null,
   "input_path": "__notebook__.ipynb",
   "output_path": "__notebook__.ipynb",
   "parameters": {},
   "start_time": "2021-09-27T02:54:52.959710",
   "version": "2.3.3"
  }
 },
 "nbformat": 4,
 "nbformat_minor": 5
}
