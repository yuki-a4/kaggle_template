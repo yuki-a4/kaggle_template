{
 "cells": [
  {
   "cell_type": "code",
   "execution_count": 1,
   "metadata": {},
   "outputs": [],
   "source": [
    "import socket\n",
    "\n",
    "NB='test2'\n",
    "DESCRIPTION='test notebook'\n",
    "HOST = socket.gethostname()\n",
    "HOST"
   ]
  },
  {
   "cell_type": "code",
   "execution_count": 2,
   "metadata": {
    "_cell_guid": "cb66dccf-f288-4344-a4a7-2d5474f5c0bd",
    "_uuid": "65968c2b-6aff-41eb-a0c7-0c60069a7038"
   },
   "outputs": [],
   "source": [
    "import pandas as pd\n",
    "import matplotlib.pyplot as plt\n",
    "import torch\n",
    "import transformers\n",
    "import torch.optim as optim\n",
    "import torch\n",
    "from torch.utils.data import Dataset, DataLoader\n",
    "import torch.nn as nn\n",
    "from sklearn.model_selection import StratifiedKFold, KFold\n",
    "from transformers import DistilBertModel, DistilBertTokenizer\n",
    "from sklearn import metrics\n",
    "from sklearn.metrics import roc_auc_score\n",
    "from tqdm import tqdm\n",
    "from collections import OrderedDict\n",
    "import numpy as np\n",
    "import re\n",
    "from pathlib import Path\n",
    "import pickle\n",
    "from transformers import AutoTokenizer\n",
    "import random\n",
    "from logzero import logger\n",
    "import os\n",
    "import gc\n",
    "import warnings\n",
    "warnings.simplefilter('ignore')\n",
    "\n",
    "ROOT_DIR = Path('../')\n",
    "DATA_DIR = ROOT_DIR / 'data'\n",
    "OUTPUT_DIR = Path('../') / 'output'\n",
    "CP_DIR = OUTPUT_DIR / 'checkpoint'\n",
    "\n",
    "def to_pickle(filename, obj):\n",
    "    with open(filename, mode='wb') as f:\n",
    "        pickle.dump(obj, f)\n",
    "        \n",
    "def unpickle(filename):\n",
    "    with open(filename, mode='rb') as fo:\n",
    "        p = pickle.load(fo)\n",
    "    return p "
   ]
  },
  {
   "cell_type": "code",
   "execution_count": 3,
   "metadata": {},
   "outputs": [],
   "source": [
    "class Config:\n",
    "    N_LABEL = 1\n",
    "    N_FOLD = 10\n",
    "    RANDOM_SATE = 42\n",
    "    LR = 1.0e-05\n",
    "    MAX_LR = 3.0e-5\n",
    "    PATIENCE = 3\n",
    "    EPOCH = 10\n",
    "    BATCH_SIZE = 32\n",
    "    SKIP_EVALUATE_NUM = 0\n",
    "    #BACK_BONE = 'swin_large_patch4_window12_384'\n",
    "    MODEL_NAME = 'huggingface/CodeBERTa-small-v1'\n",
    "    RUN_FOLD_COUNT = 10\n",
    "    IMG_SIZE=384\n",
    "    T_MAX=20\n",
    "    ETA_MIN=3.0e-7\n",
    "    SCHEDULER_GAMMA=1.0\n",
    "    ACCUMULATION_STEMP=2\n",
    "    \n",
    "    MAX_LEN = 256\n",
    "    \n",
    "def seed_everything(seed=1234):\n",
    "    random.seed(seed)\n",
    "    os.environ['PYTHONHASHSEED'] = str(seed)\n",
    "    np.random.seed(seed)\n",
    "    torch.manual_seed(seed)\n",
    "    torch.cuda.manual_seed(seed)\n",
    "    torch.backends.cudnn.deterministic = True\n",
    "    torch.backends.cudnn.benchmark = False\n",
    "\n",
    "seed_everything(seed=Config.RANDOM_SATE)"
   ]
  },
  {
   "cell_type": "code",
   "execution_count": 4,
   "metadata": {},
   "outputs": [
    {
     "data": {
      "text/plain": [
       "(232785, 4)"
      ]
     },
     "metadata": {},
     "output_type": "display_data"
    },
    {
     "data": {
      "text/plain": [
       "(125346, 3)"
      ]
     },
     "metadata": {},
     "output_type": "display_data"
    },
    {
     "data": {
      "text/html": [
       "<div>\n",
       "<style scoped>\n",
       "    .dataframe tbody tr th:only-of-type {\n",
       "        vertical-align: middle;\n",
       "    }\n",
       "\n",
       "    .dataframe tbody tr th {\n",
       "        vertical-align: top;\n",
       "    }\n",
       "\n",
       "    .dataframe thead th {\n",
       "        text-align: right;\n",
       "    }\n",
       "</style>\n",
       "<table border=\"1\" class=\"dataframe\">\n",
       "  <thead>\n",
       "    <tr style=\"text-align: right;\">\n",
       "      <th></th>\n",
       "      <th>id</th>\n",
       "      <th>code</th>\n",
       "      <th>file_extension</th>\n",
       "      <th>label</th>\n",
       "    </tr>\n",
       "  </thead>\n",
       "  <tbody>\n",
       "    <tr>\n",
       "      <th>0</th>\n",
       "      <td>8e7e71745d</td>\n",
       "      <td>a0 = alpha_winder(0)\\n        ...</td>\n",
       "      <td>py</td>\n",
       "      <td>0</td>\n",
       "    </tr>\n",
       "    <tr>\n",
       "      <th>1</th>\n",
       "      <td>f67fb60d2f</td>\n",
       "      <td>[&amp;](const ExprHandle&amp; m, const ExprHandl...</td>\n",
       "      <td>cpp</td>\n",
       "      <td>0</td>\n",
       "    </tr>\n",
       "    <tr>\n",
       "      <th>2</th>\n",
       "      <td>9125d50679</td>\n",
       "      <td>self.play(\\n            pixels_to_dete...</td>\n",
       "      <td>py</td>\n",
       "      <td>0</td>\n",
       "    </tr>\n",
       "  </tbody>\n",
       "</table>\n",
       "</div>"
      ],
      "text/plain": [
       "           id                                               code  \\\n",
       "0  8e7e71745d                  a0 = alpha_winder(0)\\n        ...   \n",
       "1  f67fb60d2f        [&](const ExprHandle& m, const ExprHandl...   \n",
       "2  9125d50679          self.play(\\n            pixels_to_dete...   \n",
       "\n",
       "  file_extension  label  \n",
       "0             py      0  \n",
       "1            cpp      0  \n",
       "2             py      0  "
      ]
     },
     "metadata": {},
     "output_type": "display_data"
    },
    {
     "data": {
      "text/html": [
       "<div>\n",
       "<style scoped>\n",
       "    .dataframe tbody tr th:only-of-type {\n",
       "        vertical-align: middle;\n",
       "    }\n",
       "\n",
       "    .dataframe tbody tr th {\n",
       "        vertical-align: top;\n",
       "    }\n",
       "\n",
       "    .dataframe thead th {\n",
       "        text-align: right;\n",
       "    }\n",
       "</style>\n",
       "<table border=\"1\" class=\"dataframe\">\n",
       "  <thead>\n",
       "    <tr style=\"text-align: right;\">\n",
       "      <th></th>\n",
       "      <th>id</th>\n",
       "      <th>code</th>\n",
       "      <th>file_extension</th>\n",
       "    </tr>\n",
       "  </thead>\n",
       "  <tbody>\n",
       "    <tr>\n",
       "      <th>0</th>\n",
       "      <td>3f11245f7c</td>\n",
       "      <td>])\\n        self.play(\\n            gr...</td>\n",
       "      <td>py</td>\n",
       "    </tr>\n",
       "    <tr>\n",
       "      <th>1</th>\n",
       "      <td>2892ddab29</td>\n",
       "      <td>\\n    @Override\\n    public Flowable&lt;List&lt;Play...</td>\n",
       "      <td>java</td>\n",
       "    </tr>\n",
       "    <tr>\n",
       "      <th>2</th>\n",
       "      <td>feadac64fa</td>\n",
       "      <td>msg = (\\n                f\"Can't l...</td>\n",
       "      <td>py</td>\n",
       "    </tr>\n",
       "  </tbody>\n",
       "</table>\n",
       "</div>"
      ],
      "text/plain": [
       "           id                                               code  \\\n",
       "0  3f11245f7c          ])\\n        self.play(\\n            gr...   \n",
       "1  2892ddab29  \\n    @Override\\n    public Flowable<List<Play...   \n",
       "2  feadac64fa              msg = (\\n                f\"Can't l...   \n",
       "\n",
       "  file_extension  \n",
       "0             py  \n",
       "1           java  \n",
       "2             py  "
      ]
     },
     "metadata": {},
     "output_type": "display_data"
    }
   ],
   "source": [
    "train_df = pd.read_csv(DATA_DIR / 'train.csv')\n",
    "_train_df = train_df[['code', 'label']]\n",
    "_train_df.columns = ['text', 'target']\n",
    "\n",
    "test_df = pd.read_csv(DATA_DIR / 'test.csv')\n",
    "_test_df = test_df[['code']]\n",
    "_test_df.columns = ['text']\n",
    "\n",
    "display(train_df.shape)\n",
    "display(test_df.shape)\n",
    "\n",
    "display(train_df.head(3))\n",
    "display(test_df.head(3))"
   ]
  },
  {
   "cell_type": "code",
   "execution_count": 5,
   "metadata": {},
   "outputs": [],
   "source": [
    "tokenizer = AutoTokenizer.from_pretrained(\n",
    "    Config.MODEL_NAME,\n",
    "    do_lower_case=True,\n",
    "    truncation=True\n",
    ")"
   ]
  },
  {
   "cell_type": "code",
   "execution_count": 6,
   "metadata": {},
   "outputs": [],
   "source": [
    "class tweet_Dataset(Dataset):\n",
    "    def __init__(self, dataframe, tokenizer, max_len, data_type='train'):\n",
    "        self.data = dataframe\n",
    "        self.tokenizer = tokenizer\n",
    "        self.max_len = max_len\n",
    "        self.data_type = data_type\n",
    "        \n",
    "    def __getitem__(self, index):\n",
    "        tweet = str(self.data.text[index])\n",
    "        #tweet = pre_process_text(tweet)\n",
    "        inputs = self.tokenizer.encode_plus(\n",
    "            tweet,\n",
    "            None,\n",
    "            add_special_tokens=True,\n",
    "            max_length=self.max_len,\n",
    "            pad_to_max_length=True,\n",
    "            return_token_type_ids=True,\n",
    "            truncation=True\n",
    "        )\n",
    "        ids = inputs['input_ids']\n",
    "        mask = inputs['attention_mask']\n",
    "        \n",
    "        if self.data_type == 'test':\n",
    "            targets = -1\n",
    "        else:\n",
    "            targets = torch.tensor(self.data.target[index], dtype=torch.float)\n",
    "        \n",
    "        return {\n",
    "            'ids': torch.tensor(ids, dtype=torch.long),\n",
    "            'mask': torch.tensor(mask, dtype=torch.long),\n",
    "            'targets': targets\n",
    "        }\n",
    "        \n",
    "    def __len__(self):\n",
    "        return len(self.data)"
   ]
  },
  {
   "cell_type": "code",
   "execution_count": 7,
   "metadata": {},
   "outputs": [],
   "source": [
    "class DistillBERTClass(torch.nn.Module):\n",
    "    def __init__(self):\n",
    "        super().__init__()\n",
    "        self.distill_bert = transformers.AutoModel.from_pretrained(Config.MODEL_NAME)\n",
    "        self.drop = torch.nn.Dropout(0.3)\n",
    "        self.out = torch.nn.Linear(768, 1)\n",
    "    \n",
    "    def forward(self, ids, mask):\n",
    "        distilbert_output = self.distill_bert(ids, mask)\n",
    "        hidden_state = distilbert_output[0]  # (bs, seq_len, dim)\n",
    "        pooled_output = hidden_state[:, 0]  # (bs, dim)\n",
    "        output_1 = self.drop(pooled_output)\n",
    "        output = self.out(output_1)\n",
    "        return output"
   ]
  },
  {
   "cell_type": "code",
   "execution_count": 8,
   "metadata": {},
   "outputs": [],
   "source": [
    "class EarlyStopping:\n",
    "    def __init__(self, patience=7, verbose=False, delta=0, fold=''):\n",
    "        self.patience = patience\n",
    "        self.verbose = verbose\n",
    "        self.counter = 0\n",
    "        self.best_score = None\n",
    "        self.early_stop = False\n",
    "        self.val_loss_min = np.Inf\n",
    "        self.delta = delta\n",
    "\n",
    "    def __call__(self, val_loss, model):\n",
    "        score = -val_loss\n",
    "\n",
    "        if self.best_score is None:\n",
    "            self.best_score = score\n",
    "            self.save_checkpoint(val_loss, model)\n",
    "        elif score < self.best_score + self.delta:\n",
    "            self.counter += 1\n",
    "            logger.info(f'EarlyStopping counter: {self.counter} out of {self.patience}')\n",
    "            if self.counter >= self.patience:\n",
    "                self.early_stop = True\n",
    "        else:\n",
    "            self.best_score = score\n",
    "            self.save_checkpoint(val_loss, model)\n",
    "            self.counter = 0\n",
    "\n",
    "    def save_checkpoint(self, val_loss, model):\n",
    "        if self.verbose:\n",
    "            logger.info(f'Validation loss decreased ({self.val_loss_min:.6f} --> {val_loss:.6f}).  Saving model ...')\n",
    "        torch.save(model.state_dict(), CP_DIR / f'checkpoint_{HOST}_{NB}_{fold}.pt')\n",
    "        self.val_loss_min = val_loss"
   ]
  },
  {
   "cell_type": "code",
   "execution_count": 9,
   "metadata": {},
   "outputs": [
    {
     "data": {
      "text/plain": [
       "device(type='cuda')"
      ]
     },
     "execution_count": 9,
     "metadata": {},
     "output_type": "execute_result"
    }
   ],
   "source": [
    "device = torch.device(\"cuda\" if torch.cuda.is_available() else \"cpu\")\n",
    "device"
   ]
  },
  {
   "cell_type": "code",
   "execution_count": 10,
   "metadata": {},
   "outputs": [],
   "source": [
    "def loss_fn(outputs, targets):\n",
    "    return nn.BCEWithLogitsLoss()(outputs, targets)\n",
    "#optimizer = torch.optim.Adam(params =  model.parameters(), lr=LEARNING_RATE)"
   ]
  },
  {
   "cell_type": "code",
   "execution_count": 11,
   "metadata": {},
   "outputs": [
    {
     "name": "stdout",
     "output_type": "stream",
     "text": [
      "====== 0 ======\n"
     ]
    },
    {
     "name": "stderr",
     "output_type": "stream",
     "text": [
      "Some weights of the model checkpoint at huggingface/CodeBERTa-small-v1 were not used when initializing RobertaModel: ['lm_head.decoder.weight', 'lm_head.decoder.bias', 'lm_head.bias', 'lm_head.layer_norm.weight', 'lm_head.dense.weight', 'lm_head.dense.bias', 'lm_head.layer_norm.bias']\n",
      "- This IS expected if you are initializing RobertaModel from the checkpoint of a model trained on another task or with another architecture (e.g. initializing a BertForSequenceClassification model from a BertForPreTraining model).\n",
      "- This IS NOT expected if you are initializing RobertaModel from the checkpoint of a model that you expect to be exactly identical (initializing a BertForSequenceClassification model from a BertForSequenceClassification model).\n",
      "100%|████████████████████████████████████████████████████████| 6547/6547 [15:57<00:00,  6.84it/s, epoch=0, loss=0.4820]\n",
      "100%|████████████████████████████████████████████████████████████████████████████████| 728/728 [00:38<00:00, 18.89it/s]\n",
      "[I 220605 10:43:51 <timed exec>:82] auc:0.8097\n",
      "[I 220605 10:43:51 <ipython-input-8-6710d1759379>:29] Validation loss decreased (inf --> -0.809725).  Saving model ...\n",
      "100%|████████████████████████████████████████████████████████| 6547/6547 [15:58<00:00,  6.83it/s, epoch=1, loss=0.4733]\n",
      "100%|████████████████████████████████████████████████████████████████████████████████| 728/728 [00:38<00:00, 18.72it/s]\n",
      "[I 220605 11:00:29 <timed exec>:82] auc:0.8363\n",
      "[I 220605 11:00:29 <ipython-input-8-6710d1759379>:29] Validation loss decreased (-0.809725 --> -0.836295).  Saving model ...\n",
      "100%|████████████████████████████████████████████████████████| 6547/6547 [16:03<00:00,  6.79it/s, epoch=2, loss=0.2668]\n",
      "100%|████████████████████████████████████████████████████████████████████████████████| 728/728 [00:38<00:00, 18.76it/s]\n",
      "[I 220605 11:17:13 <timed exec>:82] auc:0.8460\n",
      "[I 220605 11:17:13 <ipython-input-8-6710d1759379>:29] Validation loss decreased (-0.836295 --> -0.845963).  Saving model ...\n",
      "100%|████████████████████████████████████████████████████████| 6547/6547 [15:56<00:00,  6.84it/s, epoch=3, loss=0.2288]\n",
      "100%|████████████████████████████████████████████████████████████████████████████████| 728/728 [00:39<00:00, 18.57it/s]\n",
      "[I 220605 11:33:49 <timed exec>:82] auc:0.8498\n",
      "[I 220605 11:33:49 <ipython-input-8-6710d1759379>:29] Validation loss decreased (-0.845963 --> -0.849827).  Saving model ...\n",
      "100%|████████████████████████████████████████████████████████| 6547/6547 [15:59<00:00,  6.82it/s, epoch=4, loss=0.1956]\n",
      "100%|████████████████████████████████████████████████████████████████████████████████| 728/728 [00:39<00:00, 18.60it/s]\n",
      "[I 220605 11:50:29 <timed exec>:82] auc:0.8496\n",
      "[I 220605 11:50:29 <ipython-input-8-6710d1759379>:19] EarlyStopping counter: 1 out of 3\n",
      "100%|████████████████████████████████████████████████████████| 6547/6547 [15:59<00:00,  6.82it/s, epoch=5, loss=0.1940]\n",
      "100%|████████████████████████████████████████████████████████████████████████████████| 728/728 [00:38<00:00, 18.84it/s]\n",
      "[I 220605 12:07:07 <timed exec>:82] auc:0.8481\n",
      "[I 220605 12:07:07 <ipython-input-8-6710d1759379>:19] EarlyStopping counter: 2 out of 3\n",
      "100%|████████████████████████████████████████████████████████| 6547/6547 [15:59<00:00,  6.82it/s, epoch=6, loss=0.2109]\n",
      "100%|████████████████████████████████████████████████████████████████████████████████| 728/728 [00:39<00:00, 18.58it/s]\n",
      "[I 220605 12:23:46 <timed exec>:82] auc:0.8474\n",
      "[I 220605 12:23:46 <ipython-input-8-6710d1759379>:19] EarlyStopping counter: 3 out of 3\n",
      "[I 220605 12:23:46 <timed exec>:93] Early stopping\n"
     ]
    },
    {
     "data": {
      "image/png": "[encoded data removed]",
      "text/plain": [
       "<Figure size 432x288 with 2 Axes>"
      ]
     },
     "metadata": {
      "needs_background": "light"
     },
     "output_type": "display_data"
    },
    {
     "name": "stdout",
     "output_type": "stream",
     "text": [
      "====== 1 ======\n"
     ]
    },
    {
     "name": "stderr",
     "output_type": "stream",
     "text": [
      "Some weights of the model checkpoint at huggingface/CodeBERTa-small-v1 were not used when initializing RobertaModel: ['lm_head.decoder.weight', 'lm_head.decoder.bias', 'lm_head.bias', 'lm_head.layer_norm.weight', 'lm_head.dense.weight', 'lm_head.dense.bias', 'lm_head.layer_norm.bias']\n",
      "- This IS expected if you are initializing RobertaModel from the checkpoint of a model trained on another task or with another architecture (e.g. initializing a BertForSequenceClassification model from a BertForPreTraining model).\n",
      "- This IS NOT expected if you are initializing RobertaModel from the checkpoint of a model that you expect to be exactly identical (initializing a BertForSequenceClassification model from a BertForSequenceClassification model).\n",
      "100%|████████████████████████████████████████████████████████| 6547/6547 [15:58<00:00,  6.83it/s, epoch=0, loss=0.5121]\n",
      "100%|████████████████████████████████████████████████████████████████████████████████| 728/728 [00:38<00:00, 18.82it/s]\n",
      "[I 220605 12:40:25 <timed exec>:82] auc:0.8136\n",
      "[I 220605 12:40:25 <ipython-input-8-6710d1759379>:29] Validation loss decreased (inf --> -0.813611).  Saving model ...\n",
      "100%|████████████████████████████████████████████████████████| 6547/6547 [15:57<00:00,  6.84it/s, epoch=1, loss=0.5245]\n",
      "100%|████████████████████████████████████████████████████████████████████████████████| 728/728 [00:38<00:00, 18.77it/s]\n",
      "[I 220605 12:57:02 <timed exec>:82] auc:0.8392\n",
      "[I 220605 12:57:02 <ipython-input-8-6710d1759379>:29] Validation loss decreased (-0.813611 --> -0.839223).  Saving model ...\n",
      "100%|████████████████████████████████████████████████████████| 6547/6547 [15:58<00:00,  6.83it/s, epoch=2, loss=0.3384]\n",
      "100%|████████████████████████████████████████████████████████████████████████████████| 728/728 [00:38<00:00, 18.80it/s]\n",
      "[I 220605 13:13:40 <timed exec>:82] auc:0.8522\n",
      "[I 220605 13:13:40 <ipython-input-8-6710d1759379>:29] Validation loss decreased (-0.839223 --> -0.852228).  Saving model ...\n",
      "100%|████████████████████████████████████████████████████████| 6547/6547 [15:57<00:00,  6.84it/s, epoch=3, loss=0.2601]\n",
      "100%|████████████████████████████████████████████████████████████████████████████████| 728/728 [00:38<00:00, 18.83it/s]\n",
      "[I 220605 13:30:16 <timed exec>:82] auc:0.8573\n",
      "[I 220605 13:30:16 <ipython-input-8-6710d1759379>:29] Validation loss decreased (-0.852228 --> -0.857314).  Saving model ...\n",
      "100%|████████████████████████████████████████████████████████| 6547/6547 [16:04<00:00,  6.79it/s, epoch=4, loss=0.1806]\n",
      "100%|████████████████████████████████████████████████████████████████████████████████| 728/728 [00:39<00:00, 18.45it/s]\n",
      "[I 220605 13:47:01 <timed exec>:82] auc:0.8544\n",
      "[I 220605 13:47:01 <ipython-input-8-6710d1759379>:19] EarlyStopping counter: 1 out of 3\n",
      "100%|████████████████████████████████████████████████████████| 6547/6547 [16:12<00:00,  6.73it/s, epoch=5, loss=0.1173]\n",
      "100%|████████████████████████████████████████████████████████████████████████████████| 728/728 [00:39<00:00, 18.64it/s]\n",
      "[I 220605 14:03:53 <timed exec>:82] auc:0.8559\n",
      "[I 220605 14:03:53 <ipython-input-8-6710d1759379>:19] EarlyStopping counter: 2 out of 3\n",
      "100%|████████████████████████████████████████████████████████| 6547/6547 [16:13<00:00,  6.72it/s, epoch=6, loss=0.2537]\n",
      "100%|████████████████████████████████████████████████████████████████████████████████| 728/728 [00:39<00:00, 18.40it/s]\n",
      "[I 220605 14:20:47 <timed exec>:82] auc:0.8562\n",
      "[I 220605 14:20:47 <ipython-input-8-6710d1759379>:19] EarlyStopping counter: 3 out of 3\n",
      "[I 220605 14:20:47 <timed exec>:93] Early stopping\n"
     ]
    },
    {
     "data": {
      "image/png": "[encoded data removed]",
      "text/plain": [
       "<Figure size 432x288 with 2 Axes>"
      ]
     },
     "metadata": {
      "needs_background": "light"
     },
     "output_type": "display_data"
    },
    {
     "name": "stdout",
     "output_type": "stream",
     "text": [
      "====== 2 ======\n"
     ]
    },
    {
     "name": "stderr",
     "output_type": "stream",
     "text": [
      "Some weights of the model checkpoint at huggingface/CodeBERTa-small-v1 were not used when initializing RobertaModel: ['lm_head.decoder.weight', 'lm_head.decoder.bias', 'lm_head.bias', 'lm_head.layer_norm.weight', 'lm_head.dense.weight', 'lm_head.dense.bias', 'lm_head.layer_norm.bias']\n",
      "- This IS expected if you are initializing RobertaModel from the checkpoint of a model trained on another task or with another architecture (e.g. initializing a BertForSequenceClassification model from a BertForPreTraining model).\n",
      "- This IS NOT expected if you are initializing RobertaModel from the checkpoint of a model that you expect to be exactly identical (initializing a BertForSequenceClassification model from a BertForSequenceClassification model).\n",
      "100%|████████████████████████████████████████████████████████| 6547/6547 [16:09<00:00,  6.75it/s, epoch=0, loss=0.5143]\n",
      "100%|████████████████████████████████████████████████████████████████████████████████| 728/728 [00:39<00:00, 18.42it/s]\n",
      "[I 220605 14:37:39 <timed exec>:82] auc:0.8091\n",
      "[I 220605 14:37:39 <ipython-input-8-6710d1759379>:29] Validation loss decreased (inf --> -0.809083).  Saving model ...\n",
      "100%|████████████████████████████████████████████████████████| 6547/6547 [16:10<00:00,  6.74it/s, epoch=1, loss=0.4026]\n",
      "100%|████████████████████████████████████████████████████████████████████████████████| 728/728 [00:39<00:00, 18.47it/s]\n",
      "[I 220605 14:54:29 <timed exec>:82] auc:0.8377\n",
      "[I 220605 14:54:29 <ipython-input-8-6710d1759379>:29] Validation loss decreased (-0.809083 --> -0.837737).  Saving model ...\n",
      "100%|████████████████████████████████████████████████████████| 6547/6547 [16:13<00:00,  6.73it/s, epoch=2, loss=0.4323]\n",
      "100%|████████████████████████████████████████████████████████████████████████████████| 728/728 [00:39<00:00, 18.41it/s]\n",
      "[I 220605 15:11:23 <timed exec>:82] auc:0.8468\n",
      "[I 220605 15:11:23 <ipython-input-8-6710d1759379>:29] Validation loss decreased (-0.837737 --> -0.846761).  Saving model ...\n",
      "100%|████████████████████████████████████████████████████████| 6547/6547 [16:13<00:00,  6.73it/s, epoch=3, loss=0.5657]\n",
      "100%|████████████████████████████████████████████████████████████████████████████████| 728/728 [00:39<00:00, 18.41it/s]\n",
      "[I 220605 15:28:16 <timed exec>:82] auc:0.8531\n",
      "[I 220605 15:28:16 <ipython-input-8-6710d1759379>:29] Validation loss decreased (-0.846761 --> -0.853149).  Saving model ...\n",
      "100%|████████████████████████████████████████████████████████| 6547/6547 [16:13<00:00,  6.73it/s, epoch=4, loss=0.3072]\n",
      "100%|████████████████████████████████████████████████████████████████████████████████| 728/728 [00:39<00:00, 18.44it/s]\n",
      "[I 220605 15:45:09 <timed exec>:82] auc:0.8523\n",
      "[I 220605 15:45:09 <ipython-input-8-6710d1759379>:19] EarlyStopping counter: 1 out of 3\n",
      "100%|████████████████████████████████████████████████████████| 6547/6547 [16:12<00:00,  6.73it/s, epoch=5, loss=0.1542]\n",
      "100%|████████████████████████████████████████████████████████████████████████████████| 728/728 [00:39<00:00, 18.39it/s]\n",
      "[I 220605 16:02:02 <timed exec>:82] auc:0.8496\n",
      "[I 220605 16:02:02 <ipython-input-8-6710d1759379>:19] EarlyStopping counter: 2 out of 3\n",
      "100%|████████████████████████████████████████████████████████| 6547/6547 [16:13<00:00,  6.72it/s, epoch=6, loss=0.0939]\n",
      "100%|████████████████████████████████████████████████████████████████████████████████| 728/728 [00:39<00:00, 18.48it/s]\n",
      "[I 220605 16:18:55 <timed exec>:82] auc:0.8527\n",
      "[I 220605 16:18:55 <ipython-input-8-6710d1759379>:19] EarlyStopping counter: 3 out of 3\n",
      "[I 220605 16:18:55 <timed exec>:93] Early stopping\n"
     ]
    },
    {
     "data": {
      "image/png": "[encoded data removed]",
      "text/plain": [
       "<Figure size 432x288 with 2 Axes>"
      ]
     },
     "metadata": {
      "needs_background": "light"
     },
     "output_type": "display_data"
    },
    {
     "name": "stdout",
     "output_type": "stream",
     "text": [
      "====== 3 ======\n"
     ]
    },
    {
     "name": "stderr",
     "output_type": "stream",
     "text": [
      "Some weights of the model checkpoint at huggingface/CodeBERTa-small-v1 were not used when initializing RobertaModel: ['lm_head.decoder.weight', 'lm_head.decoder.bias', 'lm_head.bias', 'lm_head.layer_norm.weight', 'lm_head.dense.weight', 'lm_head.dense.bias', 'lm_head.layer_norm.bias']\n",
      "- This IS expected if you are initializing RobertaModel from the checkpoint of a model trained on another task or with another architecture (e.g. initializing a BertForSequenceClassification model from a BertForPreTraining model).\n",
      "- This IS NOT expected if you are initializing RobertaModel from the checkpoint of a model that you expect to be exactly identical (initializing a BertForSequenceClassification model from a BertForSequenceClassification model).\n",
      "100%|████████████████████████████████████████████████████████| 6547/6547 [15:59<00:00,  6.82it/s, epoch=0, loss=0.5298]\n",
      "100%|████████████████████████████████████████████████████████████████████████████████| 728/728 [00:38<00:00, 18.78it/s]\n",
      "[I 220605 16:35:36 <timed exec>:82] auc:0.8159\n",
      "[I 220605 16:35:36 <ipython-input-8-6710d1759379>:29] Validation loss decreased (inf --> -0.815891).  Saving model ...\n",
      "100%|████████████████████████████████████████████████████████| 6547/6547 [15:59<00:00,  6.82it/s, epoch=1, loss=0.5250]\n",
      "100%|████████████████████████████████████████████████████████████████████████████████| 728/728 [00:38<00:00, 18.79it/s]\n",
      "[I 220605 16:52:15 <timed exec>:82] auc:0.8437\n",
      "[I 220605 16:52:15 <ipython-input-8-6710d1759379>:29] Validation loss decreased (-0.815891 --> -0.843662).  Saving model ...\n",
      "100%|████████████████████████████████████████████████████████| 6547/6547 [15:59<00:00,  6.82it/s, epoch=2, loss=0.4528]\n",
      "100%|████████████████████████████████████████████████████████████████████████████████| 728/728 [00:38<00:00, 18.78it/s]\n",
      "[I 220605 17:08:54 <timed exec>:82] auc:0.8556\n",
      "[I 220605 17:08:54 <ipython-input-8-6710d1759379>:29] Validation loss decreased (-0.843662 --> -0.855642).  Saving model ...\n",
      "100%|████████████████████████████████████████████████████████| 6547/6547 [15:58<00:00,  6.83it/s, epoch=3, loss=0.4703]\n",
      "100%|████████████████████████████████████████████████████████████████████████████████| 728/728 [00:38<00:00, 18.84it/s]\n",
      "[I 220605 17:25:33 <timed exec>:82] auc:0.8557\n",
      "[I 220605 17:25:33 <ipython-input-8-6710d1759379>:29] Validation loss decreased (-0.855642 --> -0.855734).  Saving model ...\n",
      "100%|████████████████████████████████████████████████████████| 6547/6547 [15:58<00:00,  6.83it/s, epoch=4, loss=0.1895]\n",
      "100%|████████████████████████████████████████████████████████████████████████████████| 728/728 [00:38<00:00, 18.95it/s]\n",
      "[I 220605 17:42:10 <timed exec>:82] auc:0.8554\n",
      "[I 220605 17:42:10 <ipython-input-8-6710d1759379>:19] EarlyStopping counter: 1 out of 3\n",
      "100%|████████████████████████████████████████████████████████| 6547/6547 [15:58<00:00,  6.83it/s, epoch=5, loss=0.1858]\n",
      "100%|████████████████████████████████████████████████████████████████████████████████| 728/728 [00:38<00:00, 18.79it/s]\n",
      "[I 220605 17:58:47 <timed exec>:82] auc:0.8556\n",
      "[I 220605 17:58:47 <ipython-input-8-6710d1759379>:19] EarlyStopping counter: 2 out of 3\n",
      "100%|████████████████████████████████████████████████████████| 6547/6547 [15:58<00:00,  6.83it/s, epoch=6, loss=0.1579]\n",
      "100%|████████████████████████████████████████████████████████████████████████████████| 728/728 [00:38<00:00, 18.82it/s]\n",
      "[I 220605 18:15:24 <timed exec>:82] auc:0.8570\n",
      "[I 220605 18:15:24 <ipython-input-8-6710d1759379>:29] Validation loss decreased (-0.855734 --> -0.856956).  Saving model ...\n",
      "100%|████████████████████████████████████████████████████████| 6547/6547 [15:59<00:00,  6.82it/s, epoch=7, loss=0.0811]\n",
      "100%|████████████████████████████████████████████████████████████████████████████████| 728/728 [00:38<00:00, 18.81it/s]\n",
      "[I 220605 18:32:03 <timed exec>:82] auc:0.8546\n",
      "[I 220605 18:32:03 <ipython-input-8-6710d1759379>:19] EarlyStopping counter: 1 out of 3\n",
      "100%|████████████████████████████████████████████████████████| 6547/6547 [15:59<00:00,  6.82it/s, epoch=8, loss=0.0607]\n",
      "100%|████████████████████████████████████████████████████████████████████████████████| 728/728 [00:38<00:00, 18.79it/s]\n",
      "[I 220605 18:48:42 <timed exec>:82] auc:0.8540\n",
      "[I 220605 18:48:42 <ipython-input-8-6710d1759379>:19] EarlyStopping counter: 2 out of 3\n",
      "100%|████████████████████████████████████████████████████████| 6547/6547 [15:58<00:00,  6.83it/s, epoch=9, loss=0.0935]\n",
      "100%|████████████████████████████████████████████████████████████████████████████████| 728/728 [00:38<00:00, 18.82it/s]\n",
      "[I 220605 19:05:19 <timed exec>:82] auc:0.8556\n",
      "[I 220605 19:05:19 <ipython-input-8-6710d1759379>:19] EarlyStopping counter: 3 out of 3\n",
      "[I 220605 19:05:19 <timed exec>:93] Early stopping\n"
     ]
    },
    {
     "data": {
      "image/png": "[encoded data removed]",
      "text/plain": [
       "<Figure size 432x288 with 2 Axes>"
      ]
     },
     "metadata": {
      "needs_background": "light"
     },
     "output_type": "display_data"
    },
    {
     "name": "stdout",
     "output_type": "stream",
     "text": [
      "====== 4 ======\n"
     ]
    },
    {
     "name": "stderr",
     "output_type": "stream",
     "text": [
      "Some weights of the model checkpoint at huggingface/CodeBERTa-small-v1 were not used when initializing RobertaModel: ['lm_head.decoder.weight', 'lm_head.decoder.bias', 'lm_head.bias', 'lm_head.layer_norm.weight', 'lm_head.dense.weight', 'lm_head.dense.bias', 'lm_head.layer_norm.bias']\n",
      "- This IS expected if you are initializing RobertaModel from the checkpoint of a model trained on another task or with another architecture (e.g. initializing a BertForSequenceClassification model from a BertForPreTraining model).\n",
      "- This IS NOT expected if you are initializing RobertaModel from the checkpoint of a model that you expect to be exactly identical (initializing a BertForSequenceClassification model from a BertForSequenceClassification model).\n",
      "100%|████████████████████████████████████████████████████████| 6547/6547 [15:59<00:00,  6.83it/s, epoch=0, loss=0.4630]\n",
      "100%|████████████████████████████████████████████████████████████████████████████████| 728/728 [00:38<00:00, 18.75it/s]\n",
      "[I 220605 19:21:59 <timed exec>:82] auc:0.8103\n",
      "[I 220605 19:21:59 <ipython-input-8-6710d1759379>:29] Validation loss decreased (inf --> -0.810336).  Saving model ...\n",
      "100%|████████████████████████████████████████████████████████| 6547/6547 [15:59<00:00,  6.82it/s, epoch=1, loss=0.3234]\n",
      "100%|████████████████████████████████████████████████████████████████████████████████| 728/728 [00:38<00:00, 18.78it/s]\n",
      "[I 220605 19:38:38 <timed exec>:82] auc:0.8404\n",
      "[I 220605 19:38:38 <ipython-input-8-6710d1759379>:29] Validation loss decreased (-0.810336 --> -0.840430).  Saving model ...\n",
      "100%|████████████████████████████████████████████████████████| 6547/6547 [15:59<00:00,  6.82it/s, epoch=2, loss=0.3057]\n",
      "100%|████████████████████████████████████████████████████████████████████████████████| 728/728 [00:38<00:00, 18.88it/s]\n",
      "[I 220605 19:55:17 <timed exec>:82] auc:0.8539\n",
      "[I 220605 19:55:17 <ipython-input-8-6710d1759379>:29] Validation loss decreased (-0.840430 --> -0.853932).  Saving model ...\n",
      "100%|████████████████████████████████████████████████████████| 6547/6547 [16:02<00:00,  6.80it/s, epoch=3, loss=0.2236]\n",
      "100%|████████████████████████████████████████████████████████████████████████████████| 728/728 [00:38<00:00, 18.94it/s]\n",
      "[I 220605 20:11:59 <timed exec>:82] auc:0.8550\n",
      "[I 220605 20:11:59 <ipython-input-8-6710d1759379>:29] Validation loss decreased (-0.853932 --> -0.855000).  Saving model ...\n",
      "100%|████████████████████████████████████████████████████████| 6547/6547 [15:59<00:00,  6.82it/s, epoch=4, loss=0.2688]\n",
      "100%|████████████████████████████████████████████████████████████████████████████████| 728/728 [00:38<00:00, 18.76it/s]\n",
      "[I 220605 20:28:38 <timed exec>:82] auc:0.8569\n",
      "[I 220605 20:28:38 <ipython-input-8-6710d1759379>:29] Validation loss decreased (-0.855000 --> -0.856857).  Saving model ...\n",
      "100%|████████████████████████████████████████████████████████| 6547/6547 [15:59<00:00,  6.82it/s, epoch=5, loss=0.2042]\n",
      "100%|████████████████████████████████████████████████████████████████████████████████| 728/728 [00:38<00:00, 18.80it/s]\n",
      "[I 220605 20:45:17 <timed exec>:82] auc:0.8578\n",
      "[I 220605 20:45:17 <ipython-input-8-6710d1759379>:29] Validation loss decreased (-0.856857 --> -0.857824).  Saving model ...\n",
      "100%|████████████████████████████████████████████████████████| 6547/6547 [15:59<00:00,  6.82it/s, epoch=6, loss=0.2701]\n",
      "100%|████████████████████████████████████████████████████████████████████████████████| 728/728 [00:38<00:00, 18.83it/s]\n",
      "[I 220605 21:01:56 <timed exec>:82] auc:0.8553\n",
      "[I 220605 21:01:56 <ipython-input-8-6710d1759379>:19] EarlyStopping counter: 1 out of 3\n",
      "100%|████████████████████████████████████████████████████████| 6547/6547 [15:59<00:00,  6.83it/s, epoch=7, loss=0.1109]\n",
      "100%|████████████████████████████████████████████████████████████████████████████████| 728/728 [00:38<00:00, 18.94it/s]\n",
      "[I 220605 21:18:34 <timed exec>:82] auc:0.8566\n",
      "[I 220605 21:18:34 <ipython-input-8-6710d1759379>:19] EarlyStopping counter: 2 out of 3\n",
      "100%|████████████████████████████████████████████████████████| 6547/6547 [16:00<00:00,  6.82it/s, epoch=8, loss=0.0743]\n",
      "100%|████████████████████████████████████████████████████████████████████████████████| 728/728 [00:39<00:00, 18.40it/s]\n",
      "[I 220605 21:35:13 <timed exec>:82] auc:0.8568\n",
      "[I 220605 21:35:13 <ipython-input-8-6710d1759379>:19] EarlyStopping counter: 3 out of 3\n",
      "[I 220605 21:35:13 <timed exec>:93] Early stopping\n"
     ]
    },
    {
     "data": {
      "image/png": "[encoded data removed]",
      "text/plain": [
       "<Figure size 432x288 with 2 Axes>"
      ]
     },
     "metadata": {
      "needs_background": "light"
     },
     "output_type": "display_data"
    },
    {
     "name": "stdout",
     "output_type": "stream",
     "text": [
      "====== 5 ======\n"
     ]
    },
    {
     "name": "stderr",
     "output_type": "stream",
     "text": [
      "Some weights of the model checkpoint at huggingface/CodeBERTa-small-v1 were not used when initializing RobertaModel: ['lm_head.decoder.weight', 'lm_head.decoder.bias', 'lm_head.bias', 'lm_head.layer_norm.weight', 'lm_head.dense.weight', 'lm_head.dense.bias', 'lm_head.layer_norm.bias']\n",
      "- This IS expected if you are initializing RobertaModel from the checkpoint of a model trained on another task or with another architecture (e.g. initializing a BertForSequenceClassification model from a BertForPreTraining model).\n",
      "- This IS NOT expected if you are initializing RobertaModel from the checkpoint of a model that you expect to be exactly identical (initializing a BertForSequenceClassification model from a BertForSequenceClassification model).\n",
      "100%|████████████████████████████████████████████████████████| 6547/6547 [16:14<00:00,  6.72it/s, epoch=0, loss=0.5925]\n",
      "100%|████████████████████████████████████████████████████████████████████████████████| 728/728 [00:39<00:00, 18.58it/s]\n",
      "[I 220605 21:52:10 <timed exec>:82] auc:0.8119\n",
      "[I 220605 21:52:10 <ipython-input-8-6710d1759379>:29] Validation loss decreased (inf --> -0.811921).  Saving model ...\n",
      "100%|████████████████████████████████████████████████████████| 6547/6547 [16:12<00:00,  6.73it/s, epoch=1, loss=0.3725]\n",
      "100%|████████████████████████████████████████████████████████████████████████████████| 728/728 [00:39<00:00, 18.53it/s]\n",
      "[I 220605 22:09:02 <timed exec>:82] auc:0.8393\n",
      "[I 220605 22:09:02 <ipython-input-8-6710d1759379>:29] Validation loss decreased (-0.811921 --> -0.839260).  Saving model ...\n",
      "100%|████████████████████████████████████████████████████████| 6547/6547 [16:02<00:00,  6.80it/s, epoch=2, loss=0.2652]\n",
      "100%|████████████████████████████████████████████████████████████████████████████████| 728/728 [00:38<00:00, 18.79it/s]\n",
      "[I 220605 22:25:44 <timed exec>:82] auc:0.8480\n",
      "[I 220605 22:25:44 <ipython-input-8-6710d1759379>:29] Validation loss decreased (-0.839260 --> -0.848018).  Saving model ...\n",
      "100%|████████████████████████████████████████████████████████| 6547/6547 [15:58<00:00,  6.83it/s, epoch=3, loss=0.1979]\n",
      "100%|████████████████████████████████████████████████████████████████████████████████| 728/728 [00:38<00:00, 18.90it/s]\n",
      "[I 220605 22:42:22 <timed exec>:82] auc:0.8545\n",
      "[I 220605 22:42:22 <ipython-input-8-6710d1759379>:29] Validation loss decreased (-0.848018 --> -0.854511).  Saving model ...\n",
      "100%|████████████████████████████████████████████████████████| 6547/6547 [15:58<00:00,  6.83it/s, epoch=4, loss=0.3653]\n",
      "100%|████████████████████████████████████████████████████████████████████████████████| 728/728 [00:38<00:00, 18.81it/s]\n",
      "[I 220605 22:59:00 <timed exec>:82] auc:0.8520\n",
      "[I 220605 22:59:00 <ipython-input-8-6710d1759379>:19] EarlyStopping counter: 1 out of 3\n",
      "100%|████████████████████████████████████████████████████████| 6547/6547 [15:59<00:00,  6.83it/s, epoch=5, loss=0.1619]\n",
      "100%|████████████████████████████████████████████████████████████████████████████████| 728/728 [00:38<00:00, 18.87it/s]\n",
      "[I 220605 23:15:37 <timed exec>:82] auc:0.8500\n",
      "[I 220605 23:15:37 <ipython-input-8-6710d1759379>:19] EarlyStopping counter: 2 out of 3\n",
      "100%|████████████████████████████████████████████████████████| 6547/6547 [15:59<00:00,  6.83it/s, epoch=6, loss=0.2986]\n",
      "100%|████████████████████████████████████████████████████████████████████████████████| 728/728 [00:38<00:00, 18.87it/s]\n",
      "[I 220605 23:32:15 <timed exec>:82] auc:0.8507\n",
      "[I 220605 23:32:15 <ipython-input-8-6710d1759379>:19] EarlyStopping counter: 3 out of 3\n",
      "[I 220605 23:32:15 <timed exec>:93] Early stopping\n"
     ]
    },
    {
     "data": {
      "image/png": "[encoded data removed]",
      "text/plain": [
       "<Figure size 432x288 with 2 Axes>"
      ]
     },
     "metadata": {
      "needs_background": "light"
     },
     "output_type": "display_data"
    },
    {
     "name": "stdout",
     "output_type": "stream",
     "text": [
      "====== 6 ======\n"
     ]
    },
    {
     "name": "stderr",
     "output_type": "stream",
     "text": [
      "Some weights of the model checkpoint at huggingface/CodeBERTa-small-v1 were not used when initializing RobertaModel: ['lm_head.decoder.weight', 'lm_head.decoder.bias', 'lm_head.bias', 'lm_head.layer_norm.weight', 'lm_head.dense.weight', 'lm_head.dense.bias', 'lm_head.layer_norm.bias']\n",
      "- This IS expected if you are initializing RobertaModel from the checkpoint of a model trained on another task or with another architecture (e.g. initializing a BertForSequenceClassification model from a BertForPreTraining model).\n",
      "- This IS NOT expected if you are initializing RobertaModel from the checkpoint of a model that you expect to be exactly identical (initializing a BertForSequenceClassification model from a BertForSequenceClassification model).\n",
      "100%|████████████████████████████████████████████████████████| 6547/6547 [15:58<00:00,  6.83it/s, epoch=0, loss=0.5741]\n",
      "100%|████████████████████████████████████████████████████████████████████████████████| 728/728 [00:38<00:00, 18.77it/s]\n",
      "[I 220605 23:48:55 <timed exec>:82] auc:0.8023\n",
      "[I 220605 23:48:55 <ipython-input-8-6710d1759379>:29] Validation loss decreased (inf --> -0.802272).  Saving model ...\n",
      "100%|████████████████████████████████████████████████████████| 6547/6547 [15:58<00:00,  6.83it/s, epoch=1, loss=0.4721]\n",
      "100%|████████████████████████████████████████████████████████████████████████████████| 728/728 [00:38<00:00, 18.75it/s]\n",
      "[I 220606 00:05:33 <timed exec>:82] auc:0.8327\n",
      "[I 220606 00:05:33 <ipython-input-8-6710d1759379>:29] Validation loss decreased (-0.802272 --> -0.832748).  Saving model ...\n",
      "100%|████████████████████████████████████████████████████████| 6547/6547 [15:59<00:00,  6.82it/s, epoch=2, loss=0.5195]\n",
      "100%|████████████████████████████████████████████████████████████████████████████████| 728/728 [00:38<00:00, 18.74it/s]\n",
      "[I 220606 00:22:13 <timed exec>:82] auc:0.8434\n",
      "[I 220606 00:22:13 <ipython-input-8-6710d1759379>:29] Validation loss decreased (-0.832748 --> -0.843394).  Saving model ...\n",
      "100%|████████████████████████████████████████████████████████| 6547/6547 [16:02<00:00,  6.80it/s, epoch=3, loss=0.4110]\n",
      "100%|████████████████████████████████████████████████████████████████████████████████| 728/728 [00:39<00:00, 18.40it/s]\n",
      "[I 220606 00:38:55 <timed exec>:82] auc:0.8503\n",
      "[I 220606 00:38:55 <ipython-input-8-6710d1759379>:29] Validation loss decreased (-0.843394 --> -0.850296).  Saving model ...\n",
      "100%|████████████████████████████████████████████████████████| 6547/6547 [16:17<00:00,  6.70it/s, epoch=4, loss=0.2527]\n",
      "100%|████████████████████████████████████████████████████████████████████████████████| 728/728 [00:39<00:00, 18.42it/s]\n",
      "[I 220606 00:55:53 <timed exec>:82] auc:0.8493\n",
      "[I 220606 00:55:53 <ipython-input-8-6710d1759379>:19] EarlyStopping counter: 1 out of 3\n",
      "100%|████████████████████████████████████████████████████████| 6547/6547 [16:16<00:00,  6.70it/s, epoch=5, loss=0.2748]\n",
      "100%|████████████████████████████████████████████████████████████████████████████████| 728/728 [00:39<00:00, 18.39it/s]\n",
      "[I 220606 01:12:50 <timed exec>:82] auc:0.8519\n",
      "[I 220606 01:12:50 <ipython-input-8-6710d1759379>:29] Validation loss decreased (-0.850296 --> -0.851882).  Saving model ...\n",
      "100%|████████████████████████████████████████████████████████| 6547/6547 [16:19<00:00,  6.68it/s, epoch=6, loss=0.1557]\n",
      "100%|████████████████████████████████████████████████████████████████████████████████| 728/728 [00:39<00:00, 18.42it/s]\n",
      "[I 220606 01:29:49 <timed exec>:82] auc:0.8496\n",
      "[I 220606 01:29:49 <ipython-input-8-6710d1759379>:19] EarlyStopping counter: 1 out of 3\n",
      "100%|████████████████████████████████████████████████████████| 6547/6547 [16:14<00:00,  6.72it/s, epoch=7, loss=0.3421]\n",
      "100%|████████████████████████████████████████████████████████████████████████████████| 728/728 [00:39<00:00, 18.40it/s]\n",
      "[I 220606 01:46:43 <timed exec>:82] auc:0.8484\n",
      "[I 220606 01:46:43 <ipython-input-8-6710d1759379>:19] EarlyStopping counter: 2 out of 3\n",
      "100%|████████████████████████████████████████████████████████| 6547/6547 [16:14<00:00,  6.72it/s, epoch=8, loss=0.1159]\n",
      "100%|████████████████████████████████████████████████████████████████████████████████| 728/728 [00:39<00:00, 18.56it/s]\n",
      "[I 220606 02:03:37 <timed exec>:82] auc:0.8497\n",
      "[I 220606 02:03:37 <ipython-input-8-6710d1759379>:19] EarlyStopping counter: 3 out of 3\n",
      "[I 220606 02:03:37 <timed exec>:93] Early stopping\n"
     ]
    },
    {
     "data": {
      "image/png": "[encoded data removed]",
      "text/plain": [
       "<Figure size 432x288 with 2 Axes>"
      ]
     },
     "metadata": {
      "needs_background": "light"
     },
     "output_type": "display_data"
    },
    {
     "name": "stdout",
     "output_type": "stream",
     "text": [
      "====== 7 ======\n"
     ]
    },
    {
     "name": "stderr",
     "output_type": "stream",
     "text": [
      "Some weights of the model checkpoint at huggingface/CodeBERTa-small-v1 were not used when initializing RobertaModel: ['lm_head.decoder.weight', 'lm_head.decoder.bias', 'lm_head.bias', 'lm_head.layer_norm.weight', 'lm_head.dense.weight', 'lm_head.dense.bias', 'lm_head.layer_norm.bias']\n",
      "- This IS expected if you are initializing RobertaModel from the checkpoint of a model trained on another task or with another architecture (e.g. initializing a BertForSequenceClassification model from a BertForPreTraining model).\n",
      "- This IS NOT expected if you are initializing RobertaModel from the checkpoint of a model that you expect to be exactly identical (initializing a BertForSequenceClassification model from a BertForSequenceClassification model).\n",
      "100%|████████████████████████████████████████████████████████| 6547/6547 [15:57<00:00,  6.84it/s, epoch=0, loss=0.5676]\n",
      "100%|████████████████████████████████████████████████████████████████████████████████| 728/728 [00:38<00:00, 18.82it/s]\n",
      "[I 220606 02:20:16 <timed exec>:82] auc:0.8167\n",
      "[I 220606 02:20:16 <ipython-input-8-6710d1759379>:29] Validation loss decreased (inf --> -0.816676).  Saving model ...\n",
      "100%|████████████████████████████████████████████████████████| 6547/6547 [15:57<00:00,  6.84it/s, epoch=1, loss=0.3760]\n",
      "100%|████████████████████████████████████████████████████████████████████████████████| 728/728 [00:38<00:00, 18.79it/s]\n",
      "[I 220606 02:36:53 <timed exec>:82] auc:0.8463\n",
      "[I 220606 02:36:53 <ipython-input-8-6710d1759379>:29] Validation loss decreased (-0.816676 --> -0.846302).  Saving model ...\n",
      "100%|████████████████████████████████████████████████████████| 6547/6547 [15:58<00:00,  6.83it/s, epoch=2, loss=0.4116]\n",
      "100%|████████████████████████████████████████████████████████████████████████████████| 728/728 [00:38<00:00, 18.84it/s]\n",
      "[I 220606 02:53:31 <timed exec>:82] auc:0.8567\n",
      "[I 220606 02:53:31 <ipython-input-8-6710d1759379>:29] Validation loss decreased (-0.846302 --> -0.856679).  Saving model ...\n",
      "100%|████████████████████████████████████████████████████████| 6547/6547 [15:58<00:00,  6.83it/s, epoch=3, loss=0.2083]\n",
      "100%|████████████████████████████████████████████████████████████████████████████████| 728/728 [00:38<00:00, 18.83it/s]\n",
      "[I 220606 03:10:09 <timed exec>:82] auc:0.8584\n",
      "[I 220606 03:10:09 <ipython-input-8-6710d1759379>:29] Validation loss decreased (-0.856679 --> -0.858449).  Saving model ...\n",
      "100%|████████████████████████████████████████████████████████| 6547/6547 [15:57<00:00,  6.84it/s, epoch=4, loss=0.2525]\n",
      "100%|████████████████████████████████████████████████████████████████████████████████| 728/728 [00:38<00:00, 18.90it/s]\n",
      "[I 220606 03:26:46 <timed exec>:82] auc:0.8610\n",
      "[I 220606 03:26:46 <ipython-input-8-6710d1759379>:29] Validation loss decreased (-0.858449 --> -0.860988).  Saving model ...\n",
      "100%|████████████████████████████████████████████████████████| 6547/6547 [15:58<00:00,  6.83it/s, epoch=5, loss=0.2375]\n",
      "100%|████████████████████████████████████████████████████████████████████████████████| 728/728 [00:38<00:00, 18.86it/s]\n",
      "[I 220606 03:43:23 <timed exec>:82] auc:0.8580\n",
      "[I 220606 03:43:23 <ipython-input-8-6710d1759379>:19] EarlyStopping counter: 1 out of 3\n",
      "100%|████████████████████████████████████████████████████████| 6547/6547 [15:58<00:00,  6.83it/s, epoch=6, loss=0.2515]\n",
      "100%|████████████████████████████████████████████████████████████████████████████████| 728/728 [00:38<00:00, 18.82it/s]\n",
      "[I 220606 04:00:00 <timed exec>:82] auc:0.8574\n",
      "[I 220606 04:00:00 <ipython-input-8-6710d1759379>:19] EarlyStopping counter: 2 out of 3\n",
      "100%|████████████████████████████████████████████████████████| 6547/6547 [15:58<00:00,  6.83it/s, epoch=7, loss=0.1815]\n",
      "100%|████████████████████████████████████████████████████████████████████████████████| 728/728 [00:38<00:00, 18.82it/s]\n",
      "[I 220606 04:16:37 <timed exec>:82] auc:0.8577\n",
      "[I 220606 04:16:37 <ipython-input-8-6710d1759379>:19] EarlyStopping counter: 3 out of 3\n",
      "[I 220606 04:16:37 <timed exec>:93] Early stopping\n"
     ]
    },
    {
     "data": {
      "image/png": "[encoded data removed]",
      "text/plain": [
       "<Figure size 432x288 with 2 Axes>"
      ]
     },
     "metadata": {
      "needs_background": "light"
     },
     "output_type": "display_data"
    },
    {
     "name": "stdout",
     "output_type": "stream",
     "text": [
      "====== 8 ======\n"
     ]
    },
    {
     "name": "stderr",
     "output_type": "stream",
     "text": [
      "Some weights of the model checkpoint at huggingface/CodeBERTa-small-v1 were not used when initializing RobertaModel: ['lm_head.decoder.weight', 'lm_head.decoder.bias', 'lm_head.bias', 'lm_head.layer_norm.weight', 'lm_head.dense.weight', 'lm_head.dense.bias', 'lm_head.layer_norm.bias']\n",
      "- This IS expected if you are initializing RobertaModel from the checkpoint of a model trained on another task or with another architecture (e.g. initializing a BertForSequenceClassification model from a BertForPreTraining model).\n",
      "- This IS NOT expected if you are initializing RobertaModel from the checkpoint of a model that you expect to be exactly identical (initializing a BertForSequenceClassification model from a BertForSequenceClassification model).\n",
      "100%|████████████████████████████████████████████████████████| 6547/6547 [15:57<00:00,  6.83it/s, epoch=0, loss=0.6659]\n",
      "100%|████████████████████████████████████████████████████████████████████████████████| 728/728 [00:38<00:00, 19.01it/s]\n",
      "[I 220606 04:33:16 <timed exec>:82] auc:0.8125\n",
      "[I 220606 04:33:16 <ipython-input-8-6710d1759379>:29] Validation loss decreased (inf --> -0.812478).  Saving model ...\n",
      "100%|████████████████████████████████████████████████████████| 6547/6547 [15:58<00:00,  6.83it/s, epoch=1, loss=0.5178]\n",
      "100%|████████████████████████████████████████████████████████████████████████████████| 728/728 [00:38<00:00, 18.84it/s]\n",
      "[I 220606 04:49:54 <timed exec>:82] auc:0.8409\n",
      "[I 220606 04:49:54 <ipython-input-8-6710d1759379>:29] Validation loss decreased (-0.812478 --> -0.840924).  Saving model ...\n",
      "100%|████████████████████████████████████████████████████████| 6547/6547 [15:58<00:00,  6.83it/s, epoch=2, loss=0.3370]\n",
      "100%|████████████████████████████████████████████████████████████████████████████████| 728/728 [00:38<00:00, 18.82it/s]\n",
      "[I 220606 05:06:32 <timed exec>:82] auc:0.8496\n",
      "[I 220606 05:06:32 <ipython-input-8-6710d1759379>:29] Validation loss decreased (-0.840924 --> -0.849561).  Saving model ...\n",
      "100%|████████████████████████████████████████████████████████| 6547/6547 [15:58<00:00,  6.83it/s, epoch=3, loss=0.3160]\n",
      "100%|████████████████████████████████████████████████████████████████████████████████| 728/728 [00:38<00:00, 18.83it/s]\n",
      "[I 220606 05:23:09 <timed exec>:82] auc:0.8560\n",
      "[I 220606 05:23:09 <ipython-input-8-6710d1759379>:29] Validation loss decreased (-0.849561 --> -0.856017).  Saving model ...\n",
      "100%|████████████████████████████████████████████████████████| 6547/6547 [15:58<00:00,  6.83it/s, epoch=4, loss=0.2144]\n",
      "100%|████████████████████████████████████████████████████████████████████████████████| 728/728 [00:38<00:00, 18.82it/s]\n",
      "[I 220606 05:39:47 <timed exec>:82] auc:0.8567\n",
      "[I 220606 05:39:47 <ipython-input-8-6710d1759379>:29] Validation loss decreased (-0.856017 --> -0.856667).  Saving model ...\n",
      "100%|████████████████████████████████████████████████████████| 6547/6547 [15:58<00:00,  6.83it/s, epoch=5, loss=0.2660]\n",
      "100%|████████████████████████████████████████████████████████████████████████████████| 728/728 [00:38<00:00, 18.93it/s]\n",
      "[I 220606 05:56:25 <timed exec>:82] auc:0.8588\n",
      "[I 220606 05:56:25 <ipython-input-8-6710d1759379>:29] Validation loss decreased (-0.856667 --> -0.858837).  Saving model ...\n",
      "100%|████████████████████████████████████████████████████████| 6547/6547 [15:55<00:00,  6.85it/s, epoch=6, loss=0.2030]\n",
      "100%|████████████████████████████████████████████████████████████████████████████████| 728/728 [00:38<00:00, 18.83it/s]\n",
      "[I 220606 06:13:00 <timed exec>:82] auc:0.8582\n",
      "[I 220606 06:13:00 <ipython-input-8-6710d1759379>:19] EarlyStopping counter: 1 out of 3\n",
      "100%|████████████████████████████████████████████████████████| 6547/6547 [15:57<00:00,  6.83it/s, epoch=7, loss=0.3164]\n",
      "100%|████████████████████████████████████████████████████████████████████████████████| 728/728 [00:38<00:00, 18.84it/s]\n",
      "[I 220606 06:29:36 <timed exec>:82] auc:0.8549\n",
      "[I 220606 06:29:36 <ipython-input-8-6710d1759379>:19] EarlyStopping counter: 2 out of 3\n",
      "100%|████████████████████████████████████████████████████████| 6547/6547 [15:57<00:00,  6.84it/s, epoch=8, loss=0.0970]\n",
      "100%|████████████████████████████████████████████████████████████████████████████████| 728/728 [00:38<00:00, 18.97it/s]\n",
      "[I 220606 06:46:12 <timed exec>:82] auc:0.8555\n",
      "[I 220606 06:46:12 <ipython-input-8-6710d1759379>:19] EarlyStopping counter: 3 out of 3\n",
      "[I 220606 06:46:12 <timed exec>:93] Early stopping\n"
     ]
    },
    {
     "data": {
      "image/png": "[encoded data removed]",
      "text/plain": [
       "<Figure size 432x288 with 2 Axes>"
      ]
     },
     "metadata": {
      "needs_background": "light"
     },
     "output_type": "display_data"
    },
    {
     "name": "stdout",
     "output_type": "stream",
     "text": [
      "====== 9 ======\n"
     ]
    },
    {
     "name": "stderr",
     "output_type": "stream",
     "text": [
      "Some weights of the model checkpoint at huggingface/CodeBERTa-small-v1 were not used when initializing RobertaModel: ['lm_head.decoder.weight', 'lm_head.decoder.bias', 'lm_head.bias', 'lm_head.layer_norm.weight', 'lm_head.dense.weight', 'lm_head.dense.bias', 'lm_head.layer_norm.bias']\n",
      "- This IS expected if you are initializing RobertaModel from the checkpoint of a model trained on another task or with another architecture (e.g. initializing a BertForSequenceClassification model from a BertForPreTraining model).\n",
      "- This IS NOT expected if you are initializing RobertaModel from the checkpoint of a model that you expect to be exactly identical (initializing a BertForSequenceClassification model from a BertForSequenceClassification model).\n",
      "100%|████████████████████████████████████████████████████████| 6547/6547 [15:58<00:00,  6.83it/s, epoch=0, loss=0.4163]\n",
      "100%|████████████████████████████████████████████████████████████████████████████████| 728/728 [00:38<00:00, 18.82it/s]\n",
      "[I 220606 07:02:52 <timed exec>:82] auc:0.8134\n",
      "[I 220606 07:02:52 <ipython-input-8-6710d1759379>:29] Validation loss decreased (inf --> -0.813435).  Saving model ...\n",
      "100%|████████████████████████████████████████████████████████| 6547/6547 [15:57<00:00,  6.83it/s, epoch=1, loss=0.4008]\n",
      "100%|████████████████████████████████████████████████████████████████████████████████| 728/728 [00:38<00:00, 18.83it/s]\n",
      "[I 220606 07:19:29 <timed exec>:82] auc:0.8435\n",
      "[I 220606 07:19:29 <ipython-input-8-6710d1759379>:29] Validation loss decreased (-0.813435 --> -0.843503).  Saving model ...\n",
      "100%|████████████████████████████████████████████████████████| 6547/6547 [15:58<00:00,  6.83it/s, epoch=2, loss=0.3943]\n",
      "100%|████████████████████████████████████████████████████████████████████████████████| 728/728 [00:38<00:00, 18.83it/s]\n",
      "[I 220606 07:36:07 <timed exec>:82] auc:0.8537\n",
      "[I 220606 07:36:07 <ipython-input-8-6710d1759379>:29] Validation loss decreased (-0.843503 --> -0.853745).  Saving model ...\n",
      "100%|████████████████████████████████████████████████████████| 6547/6547 [15:57<00:00,  6.84it/s, epoch=3, loss=0.3390]\n",
      "100%|████████████████████████████████████████████████████████████████████████████████| 728/728 [00:38<00:00, 18.85it/s]\n",
      "[I 220606 07:52:44 <timed exec>:82] auc:0.8543\n",
      "[I 220606 07:52:44 <ipython-input-8-6710d1759379>:29] Validation loss decreased (-0.853745 --> -0.854307).  Saving model ...\n",
      "100%|████████████████████████████████████████████████████████| 6547/6547 [15:56<00:00,  6.84it/s, epoch=4, loss=0.2386]\n",
      "100%|████████████████████████████████████████████████████████████████████████████████| 728/728 [00:38<00:00, 18.86it/s]\n",
      "[I 220606 08:09:21 <timed exec>:82] auc:0.8554\n",
      "[I 220606 08:09:21 <ipython-input-8-6710d1759379>:29] Validation loss decreased (-0.854307 --> -0.855389).  Saving model ...\n",
      "100%|████████████████████████████████████████████████████████| 6547/6547 [15:58<00:00,  6.83it/s, epoch=5, loss=0.2665]\n",
      "100%|████████████████████████████████████████████████████████████████████████████████| 728/728 [00:38<00:00, 18.82it/s]\n",
      "[I 220606 08:25:58 <timed exec>:82] auc:0.8582\n",
      "[I 220606 08:25:58 <ipython-input-8-6710d1759379>:29] Validation loss decreased (-0.855389 --> -0.858161).  Saving model ...\n",
      "100%|████████████████████████████████████████████████████████| 6547/6547 [15:58<00:00,  6.83it/s, epoch=6, loss=0.1162]\n",
      "100%|████████████████████████████████████████████████████████████████████████████████| 728/728 [00:38<00:00, 18.86it/s]\n",
      "[I 220606 08:42:36 <timed exec>:82] auc:0.8556\n",
      "[I 220606 08:42:36 <ipython-input-8-6710d1759379>:19] EarlyStopping counter: 1 out of 3\n",
      "100%|████████████████████████████████████████████████████████| 6547/6547 [15:58<00:00,  6.83it/s, epoch=7, loss=0.1449]\n",
      "100%|████████████████████████████████████████████████████████████████████████████████| 728/728 [00:38<00:00, 18.84it/s]\n",
      "[I 220606 08:59:13 <timed exec>:82] auc:0.8547\n",
      "[I 220606 08:59:13 <ipython-input-8-6710d1759379>:19] EarlyStopping counter: 2 out of 3\n",
      "100%|████████████████████████████████████████████████████████| 6547/6547 [15:56<00:00,  6.84it/s, epoch=8, loss=0.2402]\n",
      "100%|████████████████████████████████████████████████████████████████████████████████| 728/728 [00:38<00:00, 18.85it/s]\n",
      "[I 220606 09:15:48 <timed exec>:82] auc:0.8551\n",
      "[I 220606 09:15:48 <ipython-input-8-6710d1759379>:19] EarlyStopping counter: 3 out of 3\n",
      "[I 220606 09:15:48 <timed exec>:93] Early stopping\n"
     ]
    },
    {
     "data": {
      "image/png": "[encoded data removed]",
      "text/plain": [
       "<Figure size 432x288 with 2 Axes>"
      ]
     },
     "metadata": {
      "needs_background": "light"
     },
     "output_type": "display_data"
    },
    {
     "name": "stdout",
     "output_type": "stream",
     "text": [
      "Wall time: 22h 48min 37s\n"
     ]
    }
   ],
   "source": [
    "%%time\n",
    "skf = StratifiedKFold(n_splits=Config.N_FOLD, random_state=Config.RANDOM_SATE, shuffle=True)\n",
    "for fold, (train_index, test_index) in enumerate(skf.split(_train_df, _train_df['target'])):\n",
    "    print(f'====== {fold} ======')\n",
    "\n",
    "    net = DistillBERTClass()\n",
    "    net.to(device)\n",
    "\n",
    "    criterion = nn.BCEWithLogitsLoss()\n",
    "    optimizer = optim.AdamW(net.parameters(), lr=Config.LR, weight_decay=1.0e-02)    \n",
    "\n",
    "    _train, _valid = _train_df.iloc[train_index].reset_index(drop=True), _train_df.iloc[test_index].reset_index(drop=True)\n",
    "\n",
    "    training_set = tweet_Dataset(_train, tokenizer, Config.MAX_LEN, data_type='train')\n",
    "    validation_set = tweet_Dataset(_valid, tokenizer, Config.MAX_LEN, data_type='valid')\n",
    "\n",
    "    trainloader = DataLoader(training_set, batch_size=Config.BATCH_SIZE, shuffle=True, drop_last=True)\n",
    "    validloader = DataLoader(validation_set, batch_size=Config.BATCH_SIZE)\n",
    "\n",
    "    early_stopping = EarlyStopping(patience=Config.PATIENCE, verbose=True, fold=fold)\n",
    "    # scheduler = torch.optim.lr_scheduler.OneCycleLR(optimizer, epochs=Config.EPOCH, steps_per_epoch=len(trainloader), max_lr=Config.MAX_LR, pct_start= 0.1, anneal_strategy='cos', div_factor= 1.0e+3, final_div_factor= 1.0e+3)\n",
    "    # scheduler = torch.optim.lr_scheduler.CosineAnnealingLR(optimizer, T_max=Config.T_MAX, eta_min=Config.ETA_MIN)\n",
    "    # scheduler = CosineAnnealingWarmupRestarts(optimizer, first_cycle_steps=int((len(trainloader) * Config.EPOCH) / 5), cycle_mult=1.0, max_lr=Config.LR, min_lr=Config.ETA_MIN, warmup_steps=int((len(trainloader) * Config.EPOCH) / 50), gamma=Config.SCHEDULER_GAMMA)\n",
    "\n",
    "    val_losses = []\n",
    "    val_metrics = []\n",
    "    train_metrics = []\n",
    "    lrs = []\n",
    "\n",
    "    for epoch in range(Config.EPOCH):\n",
    "\n",
    "        running_loss = 0.0\n",
    "        train_rmse_list = []\n",
    "        n_iter = len(trainloader)\n",
    "        with tqdm(enumerate(trainloader), total=n_iter) as pbar:\n",
    "            for i, (data) in pbar:\n",
    "\n",
    "                net.train()\n",
    "\n",
    "                ids = data['ids'].to(device, dtype = torch.long)\n",
    "                mask = data['mask'].to(device, dtype = torch.long)\n",
    "                targets = data['targets'].to(device, dtype = torch.float)\n",
    "\n",
    "\n",
    "                outputs = outputs = net(ids, mask).squeeze()\n",
    "\n",
    "                loss = criterion(outputs, targets)\n",
    "\n",
    "                loss.backward()\n",
    "                optimizer.step()\n",
    "                net.zero_grad()     \n",
    "\n",
    "                # print statistics\n",
    "                running_loss += loss.item()\n",
    "\n",
    "                outputs = outputs.sigmoid()\n",
    "\n",
    "                #auc = roc_auc_score(targets.to('cpu').detach().numpy().copy(), outputs.to('cpu').detach().numpy().copy())\n",
    "\n",
    "                pbar.set_postfix(OrderedDict(\n",
    "                    epoch=\"{:>10}\".format(epoch), loss=\"{:.4f}\".format(loss.item())#, auc='{:.4f}'.format(auc)\n",
    "                ))\n",
    "                #scheduler.step()\n",
    "\n",
    "        val_loss = 0.0\n",
    "        val_lwlrap = 0.0\n",
    "        val_preds = []\n",
    "        n_iter_val = len(validloader)\n",
    "        for i, (data) in tqdm(enumerate(validloader), total=n_iter_val):\n",
    "            net.eval()\n",
    "\n",
    "            with torch.no_grad():\n",
    "\n",
    "                ids = data['ids'].to(device, dtype = torch.long)\n",
    "                mask = data['mask'].to(device, dtype = torch.long)\n",
    "                targets = data['targets'].to(device, dtype = torch.float)\n",
    "                outputs = outputs = net(ids, mask).squeeze()\n",
    "                outputs_np = outputs.to('cpu').detach().numpy().copy()\n",
    "                val_preds.append(outputs_np)\n",
    "\n",
    "\n",
    "        auc = roc_auc_score(_valid['target'], np.hstack(val_preds))\n",
    "        logger.info('auc:{:.4f}'.format(auc))\n",
    "\n",
    "        lr = optimizer.param_groups[0]['lr']\n",
    "\n",
    "        val_metrics.append(auc)\n",
    "        train_metrics.append(np.mean(train_rmse_list))\n",
    "        lrs.append(lr)\n",
    "\n",
    "        early_stopping(-auc, net)\n",
    "\n",
    "        if early_stopping.early_stop:\n",
    "            logger.info(\"Early stopping\")\n",
    "            net.load_state_dict(torch.load(CP_DIR / f'checkpoint_{HOST}_{NB}_{fold}.pt'))\n",
    "            break\n",
    "\n",
    "    fig = plt.figure()\n",
    "    ax1 = fig.add_subplot(111)\n",
    "    ax1.plot(lrs)\n",
    "    ax2 = ax1.twinx()\n",
    "    ax2.plot(val_metrics)\n",
    "    plt.show()\n",
    "\n",
    "    del net, validloader, trainloader, training_set, validation_set\n",
    "    torch.cuda.empty_cache()\n",
    "    gc.collect()\n"
   ]
  },
  {
   "cell_type": "code",
   "execution_count": null,
   "metadata": {},
   "outputs": [],
   "source": []
  },
  {
   "cell_type": "code",
   "execution_count": 28,
   "metadata": {},
   "outputs": [
    {
     "name": "stdout",
     "output_type": "stream",
     "text": [
      "====== 0 ======\n"
     ]
    },
    {
     "name": "stderr",
     "output_type": "stream",
     "text": [
      "Some weights of the model checkpoint at huggingface/CodeBERTa-small-v1 were not used when initializing RobertaModel: ['lm_head.decoder.weight', 'lm_head.decoder.bias', 'lm_head.bias', 'lm_head.layer_norm.weight', 'lm_head.dense.weight', 'lm_head.dense.bias', 'lm_head.layer_norm.bias']\n",
      "- This IS expected if you are initializing RobertaModel from the checkpoint of a model trained on another task or with another architecture (e.g. initializing a BertForSequenceClassification model from a BertForPreTraining model).\n",
      "- This IS NOT expected if you are initializing RobertaModel from the checkpoint of a model that you expect to be exactly identical (initializing a BertForSequenceClassification model from a BertForSequenceClassification model).\n",
      "100%|████████████████████████████████████████████████████████████████████████████████| 728/728 [02:30<00:00,  4.84it/s]\n"
     ]
    },
    {
     "name": "stdout",
     "output_type": "stream",
     "text": [
      "0.8498265992650436\n",
      "====== 1 ======\n"
     ]
    },
    {
     "name": "stderr",
     "output_type": "stream",
     "text": [
      "Some weights of the model checkpoint at huggingface/CodeBERTa-small-v1 were not used when initializing RobertaModel: ['lm_head.decoder.weight', 'lm_head.decoder.bias', 'lm_head.bias', 'lm_head.layer_norm.weight', 'lm_head.dense.weight', 'lm_head.dense.bias', 'lm_head.layer_norm.bias']\n",
      "- This IS expected if you are initializing RobertaModel from the checkpoint of a model trained on another task or with another architecture (e.g. initializing a BertForSequenceClassification model from a BertForPreTraining model).\n",
      "- This IS NOT expected if you are initializing RobertaModel from the checkpoint of a model that you expect to be exactly identical (initializing a BertForSequenceClassification model from a BertForSequenceClassification model).\n",
      "100%|████████████████████████████████████████████████████████████████████████████████| 728/728 [02:32<00:00,  4.76it/s]\n"
     ]
    },
    {
     "name": "stdout",
     "output_type": "stream",
     "text": [
      "0.85731419363444\n",
      "====== 2 ======\n"
     ]
    },
    {
     "name": "stderr",
     "output_type": "stream",
     "text": [
      "Some weights of the model checkpoint at huggingface/CodeBERTa-small-v1 were not used when initializing RobertaModel: ['lm_head.decoder.weight', 'lm_head.decoder.bias', 'lm_head.bias', 'lm_head.layer_norm.weight', 'lm_head.dense.weight', 'lm_head.dense.bias', 'lm_head.layer_norm.bias']\n",
      "- This IS expected if you are initializing RobertaModel from the checkpoint of a model trained on another task or with another architecture (e.g. initializing a BertForSequenceClassification model from a BertForPreTraining model).\n",
      "- This IS NOT expected if you are initializing RobertaModel from the checkpoint of a model that you expect to be exactly identical (initializing a BertForSequenceClassification model from a BertForSequenceClassification model).\n",
      "100%|████████████████████████████████████████████████████████████████████████████████| 728/728 [02:34<00:00,  4.72it/s]\n"
     ]
    },
    {
     "name": "stdout",
     "output_type": "stream",
     "text": [
      "0.8531492285737974\n",
      "====== 3 ======\n"
     ]
    },
    {
     "name": "stderr",
     "output_type": "stream",
     "text": [
      "Some weights of the model checkpoint at huggingface/CodeBERTa-small-v1 were not used when initializing RobertaModel: ['lm_head.decoder.weight', 'lm_head.decoder.bias', 'lm_head.bias', 'lm_head.layer_norm.weight', 'lm_head.dense.weight', 'lm_head.dense.bias', 'lm_head.layer_norm.bias']\n",
      "- This IS expected if you are initializing RobertaModel from the checkpoint of a model trained on another task or with another architecture (e.g. initializing a BertForSequenceClassification model from a BertForPreTraining model).\n",
      "- This IS NOT expected if you are initializing RobertaModel from the checkpoint of a model that you expect to be exactly identical (initializing a BertForSequenceClassification model from a BertForSequenceClassification model).\n",
      "100%|████████████████████████████████████████████████████████████████████████████████| 728/728 [02:32<00:00,  4.76it/s]\n"
     ]
    },
    {
     "name": "stdout",
     "output_type": "stream",
     "text": [
      "0.8569557448536824\n",
      "====== 4 ======\n"
     ]
    },
    {
     "name": "stderr",
     "output_type": "stream",
     "text": [
      "Some weights of the model checkpoint at huggingface/CodeBERTa-small-v1 were not used when initializing RobertaModel: ['lm_head.decoder.weight', 'lm_head.decoder.bias', 'lm_head.bias', 'lm_head.layer_norm.weight', 'lm_head.dense.weight', 'lm_head.dense.bias', 'lm_head.layer_norm.bias']\n",
      "- This IS expected if you are initializing RobertaModel from the checkpoint of a model trained on another task or with another architecture (e.g. initializing a BertForSequenceClassification model from a BertForPreTraining model).\n",
      "- This IS NOT expected if you are initializing RobertaModel from the checkpoint of a model that you expect to be exactly identical (initializing a BertForSequenceClassification model from a BertForSequenceClassification model).\n",
      "100%|████████████████████████████████████████████████████████████████████████████████| 728/728 [02:33<00:00,  4.73it/s]\n"
     ]
    },
    {
     "name": "stdout",
     "output_type": "stream",
     "text": [
      "0.8578241304128024\n",
      "====== 5 ======\n"
     ]
    },
    {
     "name": "stderr",
     "output_type": "stream",
     "text": [
      "Some weights of the model checkpoint at huggingface/CodeBERTa-small-v1 were not used when initializing RobertaModel: ['lm_head.decoder.weight', 'lm_head.decoder.bias', 'lm_head.bias', 'lm_head.layer_norm.weight', 'lm_head.dense.weight', 'lm_head.dense.bias', 'lm_head.layer_norm.bias']\n",
      "- This IS expected if you are initializing RobertaModel from the checkpoint of a model trained on another task or with another architecture (e.g. initializing a BertForSequenceClassification model from a BertForPreTraining model).\n",
      "- This IS NOT expected if you are initializing RobertaModel from the checkpoint of a model that you expect to be exactly identical (initializing a BertForSequenceClassification model from a BertForSequenceClassification model).\n",
      "100%|████████████████████████████████████████████████████████████████████████████████| 728/728 [02:34<00:00,  4.70it/s]\n"
     ]
    },
    {
     "name": "stdout",
     "output_type": "stream",
     "text": [
      "0.8545106357498011\n",
      "====== 6 ======\n"
     ]
    },
    {
     "name": "stderr",
     "output_type": "stream",
     "text": [
      "Some weights of the model checkpoint at huggingface/CodeBERTa-small-v1 were not used when initializing RobertaModel: ['lm_head.decoder.weight', 'lm_head.decoder.bias', 'lm_head.bias', 'lm_head.layer_norm.weight', 'lm_head.dense.weight', 'lm_head.dense.bias', 'lm_head.layer_norm.bias']\n",
      "- This IS expected if you are initializing RobertaModel from the checkpoint of a model trained on another task or with another architecture (e.g. initializing a BertForSequenceClassification model from a BertForPreTraining model).\n",
      "- This IS NOT expected if you are initializing RobertaModel from the checkpoint of a model that you expect to be exactly identical (initializing a BertForSequenceClassification model from a BertForSequenceClassification model).\n",
      "100%|████████████████████████████████████████████████████████████████████████████████| 728/728 [02:35<00:00,  4.67it/s]\n"
     ]
    },
    {
     "name": "stdout",
     "output_type": "stream",
     "text": [
      "0.8518819471497309\n",
      "====== 7 ======\n"
     ]
    },
    {
     "name": "stderr",
     "output_type": "stream",
     "text": [
      "Some weights of the model checkpoint at huggingface/CodeBERTa-small-v1 were not used when initializing RobertaModel: ['lm_head.decoder.weight', 'lm_head.decoder.bias', 'lm_head.bias', 'lm_head.layer_norm.weight', 'lm_head.dense.weight', 'lm_head.dense.bias', 'lm_head.layer_norm.bias']\n",
      "- This IS expected if you are initializing RobertaModel from the checkpoint of a model trained on another task or with another architecture (e.g. initializing a BertForSequenceClassification model from a BertForPreTraining model).\n",
      "- This IS NOT expected if you are initializing RobertaModel from the checkpoint of a model that you expect to be exactly identical (initializing a BertForSequenceClassification model from a BertForSequenceClassification model).\n",
      "100%|████████████████████████████████████████████████████████████████████████████████| 728/728 [02:35<00:00,  4.69it/s]\n"
     ]
    },
    {
     "name": "stdout",
     "output_type": "stream",
     "text": [
      "0.8609876707952742\n",
      "====== 8 ======\n"
     ]
    },
    {
     "name": "stderr",
     "output_type": "stream",
     "text": [
      "Some weights of the model checkpoint at huggingface/CodeBERTa-small-v1 were not used when initializing RobertaModel: ['lm_head.decoder.weight', 'lm_head.decoder.bias', 'lm_head.bias', 'lm_head.layer_norm.weight', 'lm_head.dense.weight', 'lm_head.dense.bias', 'lm_head.layer_norm.bias']\n",
      "- This IS expected if you are initializing RobertaModel from the checkpoint of a model trained on another task or with another architecture (e.g. initializing a BertForSequenceClassification model from a BertForPreTraining model).\n",
      "- This IS NOT expected if you are initializing RobertaModel from the checkpoint of a model that you expect to be exactly identical (initializing a BertForSequenceClassification model from a BertForSequenceClassification model).\n",
      "100%|████████████████████████████████████████████████████████████████████████████████| 728/728 [02:33<00:00,  4.73it/s]\n"
     ]
    },
    {
     "name": "stdout",
     "output_type": "stream",
     "text": [
      "0.8588372041561164\n",
      "====== 9 ======\n"
     ]
    },
    {
     "name": "stderr",
     "output_type": "stream",
     "text": [
      "Some weights of the model checkpoint at huggingface/CodeBERTa-small-v1 were not used when initializing RobertaModel: ['lm_head.decoder.weight', 'lm_head.decoder.bias', 'lm_head.bias', 'lm_head.layer_norm.weight', 'lm_head.dense.weight', 'lm_head.dense.bias', 'lm_head.layer_norm.bias']\n",
      "- This IS expected if you are initializing RobertaModel from the checkpoint of a model trained on another task or with another architecture (e.g. initializing a BertForSequenceClassification model from a BertForPreTraining model).\n",
      "- This IS NOT expected if you are initializing RobertaModel from the checkpoint of a model that you expect to be exactly identical (initializing a BertForSequenceClassification model from a BertForSequenceClassification model).\n",
      "100%|████████████████████████████████████████████████████████████████████████████████| 728/728 [02:34<00:00,  4.71it/s]\n"
     ]
    },
    {
     "name": "stdout",
     "output_type": "stream",
     "text": [
      "0.8581608668187419\n",
      "Wall time: 26min\n"
     ]
    }
   ],
   "source": [
    "%%time\n",
    "cv_scores = {}\n",
    "oof = np.zeros(len(train_df))\n",
    "skf = StratifiedKFold(n_splits=Config.N_FOLD, random_state=Config.RANDOM_SATE, shuffle=True)\n",
    "for fold, (train_index, test_index) in enumerate(skf.split(_train_df, _train_df['target'])):\n",
    "    print(f'====== {fold} ======')\n",
    "\n",
    "    net = DistillBERTClass()\n",
    "    net.to(device)\n",
    "\n",
    "    _train, _valid = _train_df.iloc[train_index].reset_index(drop=True), _train_df.iloc[test_index].reset_index(drop=True)\n",
    "    validation_set = tweet_Dataset(_valid, tokenizer, Config.MAX_LEN, data_type='valid')\n",
    "    validloader = DataLoader(validation_set, batch_size=Config.BATCH_SIZE)\n",
    "\n",
    "    preds = []\n",
    "    n_iter_val = len(validloader)\n",
    "    for i, (data) in tqdm(enumerate(validloader), total=n_iter_val):\n",
    "        net.load_state_dict(torch.load(CP_DIR / f'checkpoint_{HOST}_{NB}_{fold}.pt'))\n",
    "        net.eval()\n",
    "        \n",
    "        with torch.no_grad():\n",
    "\n",
    "            ids = data['ids'].to(device, dtype = torch.long)\n",
    "            mask = data['mask'].to(device, dtype = torch.long)\n",
    "            targets = data['targets'].to(device, dtype = torch.float)\n",
    "            outputs = outputs = net(ids, mask).squeeze()\n",
    "            outputs_np = outputs.to('cpu').detach().numpy().copy()\n",
    "            preds.append(outputs_np)\n",
    "\n",
    "\n",
    "    auc = roc_auc_score(_valid['target'], np.hstack(preds))\n",
    "    print(auc)\n",
    "\n",
    "    oof[test_index] = np.hstack(preds).reshape(-1)\n",
    "    cv_scores[f'cv{fold}'] = auc\n",
    "\n",
    "    del net, validation_set, validloader\n",
    "    torch.cuda.empty_cache()\n",
    "    gc.collect()\n"
   ]
  },
  {
   "cell_type": "code",
   "execution_count": 33,
   "metadata": {},
   "outputs": [
    {
     "data": {
      "text/plain": [
       "0.8559448221409429"
      ]
     },
     "execution_count": 33,
     "metadata": {},
     "output_type": "execute_result"
    }
   ],
   "source": [
    "np.mean([v for k, v in cv_scores.items()])"
   ]
  },
  {
   "cell_type": "code",
   "execution_count": 20,
   "metadata": {},
   "outputs": [
    {
     "name": "stderr",
     "output_type": "stream",
     "text": [
      "Some weights of the model checkpoint at huggingface/CodeBERTa-small-v1 were not used when initializing RobertaModel: ['lm_head.decoder.weight', 'lm_head.decoder.bias', 'lm_head.bias', 'lm_head.layer_norm.weight', 'lm_head.dense.weight', 'lm_head.dense.bias', 'lm_head.layer_norm.bias']\n",
      "- This IS expected if you are initializing RobertaModel from the checkpoint of a model trained on another task or with another architecture (e.g. initializing a BertForSequenceClassification model from a BertForPreTraining model).\n",
      "- This IS NOT expected if you are initializing RobertaModel from the checkpoint of a model that you expect to be exactly identical (initializing a BertForSequenceClassification model from a BertForSequenceClassification model).\n"
     ]
    },
    {
     "name": "stdout",
     "output_type": "stream",
     "text": [
      "..\\output\\checkpoint\\checkpoint_DESKTOP-M3SEAIN_test2_0.pt\n"
     ]
    },
    {
     "name": "stderr",
     "output_type": "stream",
     "text": [
      "100%|██████████████████████████████████████████████████████████████████████████████| 3918/3918 [03:27<00:00, 18.88it/s]\n",
      "Some weights of the model checkpoint at huggingface/CodeBERTa-small-v1 were not used when initializing RobertaModel: ['lm_head.decoder.weight', 'lm_head.decoder.bias', 'lm_head.bias', 'lm_head.layer_norm.weight', 'lm_head.dense.weight', 'lm_head.dense.bias', 'lm_head.layer_norm.bias']\n",
      "- This IS expected if you are initializing RobertaModel from the checkpoint of a model trained on another task or with another architecture (e.g. initializing a BertForSequenceClassification model from a BertForPreTraining model).\n",
      "- This IS NOT expected if you are initializing RobertaModel from the checkpoint of a model that you expect to be exactly identical (initializing a BertForSequenceClassification model from a BertForSequenceClassification model).\n"
     ]
    },
    {
     "name": "stdout",
     "output_type": "stream",
     "text": [
      "..\\output\\checkpoint\\checkpoint_DESKTOP-M3SEAIN_test2_1.pt\n"
     ]
    },
    {
     "name": "stderr",
     "output_type": "stream",
     "text": [
      "100%|██████████████████████████████████████████████████████████████████████████████| 3918/3918 [03:24<00:00, 19.19it/s]\n",
      "Some weights of the model checkpoint at huggingface/CodeBERTa-small-v1 were not used when initializing RobertaModel: ['lm_head.decoder.weight', 'lm_head.decoder.bias', 'lm_head.bias', 'lm_head.layer_norm.weight', 'lm_head.dense.weight', 'lm_head.dense.bias', 'lm_head.layer_norm.bias']\n",
      "- This IS expected if you are initializing RobertaModel from the checkpoint of a model trained on another task or with another architecture (e.g. initializing a BertForSequenceClassification model from a BertForPreTraining model).\n",
      "- This IS NOT expected if you are initializing RobertaModel from the checkpoint of a model that you expect to be exactly identical (initializing a BertForSequenceClassification model from a BertForSequenceClassification model).\n"
     ]
    },
    {
     "name": "stdout",
     "output_type": "stream",
     "text": [
      "..\\output\\checkpoint\\checkpoint_DESKTOP-M3SEAIN_test2_2.pt\n"
     ]
    },
    {
     "name": "stderr",
     "output_type": "stream",
     "text": [
      "100%|██████████████████████████████████████████████████████████████████████████████| 3918/3918 [03:27<00:00, 18.89it/s]\n",
      "Some weights of the model checkpoint at huggingface/CodeBERTa-small-v1 were not used when initializing RobertaModel: ['lm_head.decoder.weight', 'lm_head.decoder.bias', 'lm_head.bias', 'lm_head.layer_norm.weight', 'lm_head.dense.weight', 'lm_head.dense.bias', 'lm_head.layer_norm.bias']\n",
      "- This IS expected if you are initializing RobertaModel from the checkpoint of a model trained on another task or with another architecture (e.g. initializing a BertForSequenceClassification model from a BertForPreTraining model).\n",
      "- This IS NOT expected if you are initializing RobertaModel from the checkpoint of a model that you expect to be exactly identical (initializing a BertForSequenceClassification model from a BertForSequenceClassification model).\n"
     ]
    },
    {
     "name": "stdout",
     "output_type": "stream",
     "text": [
      "..\\output\\checkpoint\\checkpoint_DESKTOP-M3SEAIN_test2_3.pt\n"
     ]
    },
    {
     "name": "stderr",
     "output_type": "stream",
     "text": [
      "100%|██████████████████████████████████████████████████████████████████████████████| 3918/3918 [03:25<00:00, 19.09it/s]\n",
      "Some weights of the model checkpoint at huggingface/CodeBERTa-small-v1 were not used when initializing RobertaModel: ['lm_head.decoder.weight', 'lm_head.decoder.bias', 'lm_head.bias', 'lm_head.layer_norm.weight', 'lm_head.dense.weight', 'lm_head.dense.bias', 'lm_head.layer_norm.bias']\n",
      "- This IS expected if you are initializing RobertaModel from the checkpoint of a model trained on another task or with another architecture (e.g. initializing a BertForSequenceClassification model from a BertForPreTraining model).\n",
      "- This IS NOT expected if you are initializing RobertaModel from the checkpoint of a model that you expect to be exactly identical (initializing a BertForSequenceClassification model from a BertForSequenceClassification model).\n"
     ]
    },
    {
     "name": "stdout",
     "output_type": "stream",
     "text": [
      "..\\output\\checkpoint\\checkpoint_DESKTOP-M3SEAIN_test2_4.pt\n"
     ]
    },
    {
     "name": "stderr",
     "output_type": "stream",
     "text": [
      "100%|██████████████████████████████████████████████████████████████████████████████| 3918/3918 [03:25<00:00, 19.03it/s]\n",
      "Some weights of the model checkpoint at huggingface/CodeBERTa-small-v1 were not used when initializing RobertaModel: ['lm_head.decoder.weight', 'lm_head.decoder.bias', 'lm_head.bias', 'lm_head.layer_norm.weight', 'lm_head.dense.weight', 'lm_head.dense.bias', 'lm_head.layer_norm.bias']\n",
      "- This IS expected if you are initializing RobertaModel from the checkpoint of a model trained on another task or with another architecture (e.g. initializing a BertForSequenceClassification model from a BertForPreTraining model).\n",
      "- This IS NOT expected if you are initializing RobertaModel from the checkpoint of a model that you expect to be exactly identical (initializing a BertForSequenceClassification model from a BertForSequenceClassification model).\n"
     ]
    },
    {
     "name": "stdout",
     "output_type": "stream",
     "text": [
      "..\\output\\checkpoint\\checkpoint_DESKTOP-M3SEAIN_test2_5.pt\n"
     ]
    },
    {
     "name": "stderr",
     "output_type": "stream",
     "text": [
      "100%|██████████████████████████████████████████████████████████████████████████████| 3918/3918 [03:24<00:00, 19.12it/s]\n",
      "Some weights of the model checkpoint at huggingface/CodeBERTa-small-v1 were not used when initializing RobertaModel: ['lm_head.decoder.weight', 'lm_head.decoder.bias', 'lm_head.bias', 'lm_head.layer_norm.weight', 'lm_head.dense.weight', 'lm_head.dense.bias', 'lm_head.layer_norm.bias']\n",
      "- This IS expected if you are initializing RobertaModel from the checkpoint of a model trained on another task or with another architecture (e.g. initializing a BertForSequenceClassification model from a BertForPreTraining model).\n",
      "- This IS NOT expected if you are initializing RobertaModel from the checkpoint of a model that you expect to be exactly identical (initializing a BertForSequenceClassification model from a BertForSequenceClassification model).\n"
     ]
    },
    {
     "name": "stdout",
     "output_type": "stream",
     "text": [
      "..\\output\\checkpoint\\checkpoint_DESKTOP-M3SEAIN_test2_6.pt\n"
     ]
    },
    {
     "name": "stderr",
     "output_type": "stream",
     "text": [
      "100%|██████████████████████████████████████████████████████████████████████████████| 3918/3918 [03:26<00:00, 19.00it/s]\n",
      "Some weights of the model checkpoint at huggingface/CodeBERTa-small-v1 were not used when initializing RobertaModel: ['lm_head.decoder.weight', 'lm_head.decoder.bias', 'lm_head.bias', 'lm_head.layer_norm.weight', 'lm_head.dense.weight', 'lm_head.dense.bias', 'lm_head.layer_norm.bias']\n",
      "- This IS expected if you are initializing RobertaModel from the checkpoint of a model trained on another task or with another architecture (e.g. initializing a BertForSequenceClassification model from a BertForPreTraining model).\n",
      "- This IS NOT expected if you are initializing RobertaModel from the checkpoint of a model that you expect to be exactly identical (initializing a BertForSequenceClassification model from a BertForSequenceClassification model).\n"
     ]
    },
    {
     "name": "stdout",
     "output_type": "stream",
     "text": [
      "..\\output\\checkpoint\\checkpoint_DESKTOP-M3SEAIN_test2_7.pt\n"
     ]
    },
    {
     "name": "stderr",
     "output_type": "stream",
     "text": [
      "100%|██████████████████████████████████████████████████████████████████████████████| 3918/3918 [03:24<00:00, 19.18it/s]\n",
      "Some weights of the model checkpoint at huggingface/CodeBERTa-small-v1 were not used when initializing RobertaModel: ['lm_head.decoder.weight', 'lm_head.decoder.bias', 'lm_head.bias', 'lm_head.layer_norm.weight', 'lm_head.dense.weight', 'lm_head.dense.bias', 'lm_head.layer_norm.bias']\n",
      "- This IS expected if you are initializing RobertaModel from the checkpoint of a model trained on another task or with another architecture (e.g. initializing a BertForSequenceClassification model from a BertForPreTraining model).\n",
      "- This IS NOT expected if you are initializing RobertaModel from the checkpoint of a model that you expect to be exactly identical (initializing a BertForSequenceClassification model from a BertForSequenceClassification model).\n"
     ]
    },
    {
     "name": "stdout",
     "output_type": "stream",
     "text": [
      "..\\output\\checkpoint\\checkpoint_DESKTOP-M3SEAIN_test2_8.pt\n"
     ]
    },
    {
     "name": "stderr",
     "output_type": "stream",
     "text": [
      "100%|██████████████████████████████████████████████████████████████████████████████| 3918/3918 [03:24<00:00, 19.14it/s]\n",
      "Some weights of the model checkpoint at huggingface/CodeBERTa-small-v1 were not used when initializing RobertaModel: ['lm_head.decoder.weight', 'lm_head.decoder.bias', 'lm_head.bias', 'lm_head.layer_norm.weight', 'lm_head.dense.weight', 'lm_head.dense.bias', 'lm_head.layer_norm.bias']\n",
      "- This IS expected if you are initializing RobertaModel from the checkpoint of a model trained on another task or with another architecture (e.g. initializing a BertForSequenceClassification model from a BertForPreTraining model).\n",
      "- This IS NOT expected if you are initializing RobertaModel from the checkpoint of a model that you expect to be exactly identical (initializing a BertForSequenceClassification model from a BertForSequenceClassification model).\n"
     ]
    },
    {
     "name": "stdout",
     "output_type": "stream",
     "text": [
      "..\\output\\checkpoint\\checkpoint_DESKTOP-M3SEAIN_test2_9.pt\n"
     ]
    },
    {
     "name": "stderr",
     "output_type": "stream",
     "text": [
      "100%|██████████████████████████████████████████████████████████████████████████████| 3918/3918 [03:28<00:00, 18.82it/s]\n"
     ]
    }
   ],
   "source": [
    "y_preds = np.zeros(len(test_df))\n",
    "\n",
    "test_set = tweet_Dataset(_test_df, tokenizer, Config.MAX_LEN, data_type='test')\n",
    "testloader = DataLoader(test_set, batch_size=Config.BATCH_SIZE)\n",
    "\n",
    "for fold in range(Config.N_FOLD):\n",
    "\n",
    "    net = DistillBERTClass()\n",
    "    net.to(device)\n",
    "    print(CP_DIR / f'checkpoint_{HOST}_{NB}_{fold}.pt')\n",
    "    net.load_state_dict(torch.load(CP_DIR / f'checkpoint_{HOST}_{NB}_{fold}.pt'))\n",
    "\n",
    "    fold_preds = []\n",
    "    for i, (data) in tqdm(enumerate(testloader), total=len(testloader)):\n",
    "        net.eval()\n",
    "        with torch.no_grad():\n",
    "            \n",
    "            ids = data['ids'].to(device, dtype = torch.long)\n",
    "            mask = data['mask'].to(device, dtype = torch.long)\n",
    "            targets = data['targets'].to(device, dtype = torch.float)\n",
    "            outputs = outputs = net(ids, mask).squeeze()\n",
    "            outputs_np = outputs.to('cpu').detach().numpy().copy()\n",
    "\n",
    "            fold_preds.append(outputs_np)\n",
    "    \n",
    "    y_preds += np.hstack(fold_preds).reshape(-1) / Config.N_FOLD"
   ]
  },
  {
   "cell_type": "code",
   "execution_count": 23,
   "metadata": {
    "_cell_guid": "33db69ee-e322-4324-ab31-ee61c3dacb83",
    "_uuid": "5756f350-a8cf-4200-a9bd-8ce8f3177020"
   },
   "outputs": [],
   "source": [
    "test_df['label'] = np.hstack(y_preds)\n",
    "test_df[['id', 'label']].to_csv(OUTPUT_DIR / 'roberta_10foldcv.csv', index=False)"
   ]
  },
  {
   "cell_type": "code",
   "execution_count": null,
   "metadata": {},
   "outputs": [],
   "source": []
  }
 ],
 "metadata": {
  "kernelspec": {
   "display_name": "Python 3",
   "language": "python",
   "name": "python3"
  },
  "language_info": {
   "codemirror_mode": {
    "name": "ipython",
    "version": 3
   },
   "file_extension": ".py",
   "mimetype": "text/x-python",
   "name": "python",
   "nbconvert_exporter": "python",
   "pygments_lexer": "ipython3",
   "version": "3.8.5"
  }
 },
 "nbformat": 4,
 "nbformat_minor": 4
}
