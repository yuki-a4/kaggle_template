{
 "cells": [
  {
   "cell_type": "code",
   "execution_count": 1,
   "metadata": {},
   "outputs": [
    {
     "data": {
      "text/plain": [
       "'DESKTOP-7KHT10A'"
      ]
     },
     "execution_count": 1,
     "metadata": {},
     "output_type": "execute_result"
    }
   ],
   "source": [
    "import socket\n",
    "\n",
    "NB='test2'\n",
    "DESCRIPTION='test notebook'\n",
    "HOST = socket.gethostname()\n",
    "HOST"
   ]
  },
  {
   "cell_type": "code",
   "execution_count": 2,
   "metadata": {
    "_cell_guid": "cb66dccf-f288-4344-a4a7-2d5474f5c0bd",
    "_uuid": "65968c2b-6aff-41eb-a0c7-0c60069a7038"
   },
   "outputs": [],
   "source": [
    "import pandas as pd\n",
    "import matplotlib.pyplot as plt\n",
    "import torch\n",
    "import transformers\n",
    "import torch.optim as optim\n",
    "import torch\n",
    "from torch.utils.data import Dataset, DataLoader\n",
    "import torch.nn as nn\n",
    "from sklearn.model_selection import StratifiedKFold, StratifiedGroupKFold, KFold\n",
    "from transformers import DistilBertModel, DistilBertTokenizer\n",
    "from sklearn import metrics\n",
    "from sklearn.metrics import roc_auc_score\n",
    "from tqdm import tqdm\n",
    "from collections import OrderedDict\n",
    "import numpy as np\n",
    "import re\n",
    "from pathlib import Path\n",
    "import pickle\n",
    "from transformers import AutoTokenizer, AutoConfig\n",
    "import random\n",
    "from logzero import logger\n",
    "import os\n",
    "import gc\n",
    "import warnings\n",
    "warnings.simplefilter('ignore')\n",
    "\n",
    "ROOT_DIR = Path('../')\n",
    "DATA_DIR = ROOT_DIR / 'data'\n",
    "OUTPUT_DIR = Path('../') / 'output'\n",
    "CP_DIR = OUTPUT_DIR / 'checkpoint'\n",
    "\n",
    "def to_pickle(filename, obj):\n",
    "    with open(filename, mode='wb') as f:\n",
    "        pickle.dump(obj, f)\n",
    "        \n",
    "def unpickle(filename):\n",
    "    with open(filename, mode='rb') as fo:\n",
    "        p = pickle.load(fo)\n",
    "    return p "
   ]
  },
  {
   "cell_type": "code",
   "execution_count": 3,
   "metadata": {},
   "outputs": [],
   "source": [
    "class Config:\n",
    "    N_LABEL = 1\n",
    "    N_FOLD = 5\n",
    "    RANDOM_SATE = 42\n",
    "    LR = 1.0e-05\n",
    "    MAX_LR = 3.0e-5\n",
    "    PATIENCE = 3\n",
    "    EPOCH = 10\n",
    "    BATCH_SIZE = 16\n",
    "    SKIP_EVALUATE_NUM = 0\n",
    "    MODEL_NAME = 'huggingface/CodeBERTa-small-v1'\n",
    "    RUN_FOLD_COUNT = 10\n",
    "    IMG_SIZE=384\n",
    "    T_MAX=20\n",
    "    ETA_MIN=3.0e-7\n",
    "    SCHEDULER_GAMMA=1.0\n",
    "    ACCUMULATION_STEMP=2\n",
    "    \n",
    "    MAX_LEN = 256\n",
    "    \n",
    "def seed_everything(seed=1234):\n",
    "    random.seed(seed)\n",
    "    os.environ['PYTHONHASHSEED'] = str(seed)\n",
    "    np.random.seed(seed)\n",
    "    torch.manual_seed(seed)\n",
    "    torch.cuda.manual_seed(seed)\n",
    "    torch.backends.cudnn.deterministic = True\n",
    "    torch.backends.cudnn.benchmark = False\n",
    "\n",
    "seed_everything(seed=Config.RANDOM_SATE)"
   ]
  },
  {
   "cell_type": "code",
   "execution_count": 4,
   "metadata": {},
   "outputs": [
    {
     "data": {
      "text/plain": [
       "(7613, 5)"
      ]
     },
     "metadata": {},
     "output_type": "display_data"
    },
    {
     "data": {
      "text/plain": [
       "(3263, 4)"
      ]
     },
     "metadata": {},
     "output_type": "display_data"
    },
    {
     "data": {
      "text/html": [
       "<div>\n",
       "<style scoped>\n",
       "    .dataframe tbody tr th:only-of-type {\n",
       "        vertical-align: middle;\n",
       "    }\n",
       "\n",
       "    .dataframe tbody tr th {\n",
       "        vertical-align: top;\n",
       "    }\n",
       "\n",
       "    .dataframe thead th {\n",
       "        text-align: right;\n",
       "    }\n",
       "</style>\n",
       "<table border=\"1\" class=\"dataframe\">\n",
       "  <thead>\n",
       "    <tr style=\"text-align: right;\">\n",
       "      <th></th>\n",
       "      <th>id</th>\n",
       "      <th>keyword</th>\n",
       "      <th>location</th>\n",
       "      <th>text</th>\n",
       "      <th>target</th>\n",
       "    </tr>\n",
       "  </thead>\n",
       "  <tbody>\n",
       "    <tr>\n",
       "      <th>0</th>\n",
       "      <td>1</td>\n",
       "      <td>NaN</td>\n",
       "      <td>NaN</td>\n",
       "      <td>Our Deeds are the Reason of this #earthquake M...</td>\n",
       "      <td>1</td>\n",
       "    </tr>\n",
       "    <tr>\n",
       "      <th>1</th>\n",
       "      <td>4</td>\n",
       "      <td>NaN</td>\n",
       "      <td>NaN</td>\n",
       "      <td>Forest fire near La Ronge Sask. Canada</td>\n",
       "      <td>1</td>\n",
       "    </tr>\n",
       "    <tr>\n",
       "      <th>2</th>\n",
       "      <td>5</td>\n",
       "      <td>NaN</td>\n",
       "      <td>NaN</td>\n",
       "      <td>All residents asked to 'shelter in place' are ...</td>\n",
       "      <td>1</td>\n",
       "    </tr>\n",
       "  </tbody>\n",
       "</table>\n",
       "</div>"
      ],
      "text/plain": [
       "   id keyword location                                               text  \\\n",
       "0   1     NaN      NaN  Our Deeds are the Reason of this #earthquake M...   \n",
       "1   4     NaN      NaN             Forest fire near La Ronge Sask. Canada   \n",
       "2   5     NaN      NaN  All residents asked to 'shelter in place' are ...   \n",
       "\n",
       "   target  \n",
       "0       1  \n",
       "1       1  \n",
       "2       1  "
      ]
     },
     "metadata": {},
     "output_type": "display_data"
    },
    {
     "data": {
      "text/html": [
       "<div>\n",
       "<style scoped>\n",
       "    .dataframe tbody tr th:only-of-type {\n",
       "        vertical-align: middle;\n",
       "    }\n",
       "\n",
       "    .dataframe tbody tr th {\n",
       "        vertical-align: top;\n",
       "    }\n",
       "\n",
       "    .dataframe thead th {\n",
       "        text-align: right;\n",
       "    }\n",
       "</style>\n",
       "<table border=\"1\" class=\"dataframe\">\n",
       "  <thead>\n",
       "    <tr style=\"text-align: right;\">\n",
       "      <th></th>\n",
       "      <th>id</th>\n",
       "      <th>keyword</th>\n",
       "      <th>location</th>\n",
       "      <th>text</th>\n",
       "    </tr>\n",
       "  </thead>\n",
       "  <tbody>\n",
       "    <tr>\n",
       "      <th>0</th>\n",
       "      <td>0</td>\n",
       "      <td>NaN</td>\n",
       "      <td>NaN</td>\n",
       "      <td>Just happened a terrible car crash</td>\n",
       "    </tr>\n",
       "    <tr>\n",
       "      <th>1</th>\n",
       "      <td>2</td>\n",
       "      <td>NaN</td>\n",
       "      <td>NaN</td>\n",
       "      <td>Heard about #earthquake is different cities, s...</td>\n",
       "    </tr>\n",
       "    <tr>\n",
       "      <th>2</th>\n",
       "      <td>3</td>\n",
       "      <td>NaN</td>\n",
       "      <td>NaN</td>\n",
       "      <td>there is a forest fire at spot pond, geese are...</td>\n",
       "    </tr>\n",
       "  </tbody>\n",
       "</table>\n",
       "</div>"
      ],
      "text/plain": [
       "   id keyword location                                               text\n",
       "0   0     NaN      NaN                 Just happened a terrible car crash\n",
       "1   2     NaN      NaN  Heard about #earthquake is different cities, s...\n",
       "2   3     NaN      NaN  there is a forest fire at spot pond, geese are..."
      ]
     },
     "metadata": {},
     "output_type": "display_data"
    }
   ],
   "source": [
    "train_df = pd.read_csv(DATA_DIR / 'tweet_train.csv')\n",
    "#_train_df = train_df[['code', 'label']]\n",
    "#_train_df.columns = ['text', 'target']\n",
    "\n",
    "test_df = pd.read_csv(DATA_DIR / 'tweet_test.csv')\n",
    "#_test_df = test_df[['code']]\n",
    "#_test_df.columns = ['text']\n",
    "\n",
    "display(train_df.shape)\n",
    "display(test_df.shape)\n",
    "\n",
    "display(train_df.head(3))\n",
    "display(test_df.head(3))"
   ]
  },
  {
   "cell_type": "code",
   "execution_count": 5,
   "metadata": {},
   "outputs": [],
   "source": [
    "tokenizer = AutoTokenizer.from_pretrained(\n",
    "    Config.MODEL_NAME,\n",
    "    do_lower_case=True,\n",
    "    truncation=True\n",
    ")"
   ]
  },
  {
   "cell_type": "code",
   "execution_count": 6,
   "metadata": {},
   "outputs": [],
   "source": [
    "class BERTDataset(Dataset):\n",
    "    def __init__(self, dataframe, tokenizer, max_len, data_type='train'):\n",
    "        self.data = dataframe\n",
    "        self.tokenizer = tokenizer\n",
    "        self.max_len = max_len\n",
    "        self.data_type = data_type\n",
    "        \n",
    "    def __getitem__(self, index):\n",
    "        txt = str(self.data.text[index])\n",
    "        inputs = self.tokenizer.encode_plus(\n",
    "            txt,\n",
    "            None,\n",
    "            add_special_tokens=True,\n",
    "            max_length=self.max_len,\n",
    "            pad_to_max_length=True,\n",
    "            return_token_type_ids=True,\n",
    "            truncation=True\n",
    "        )\n",
    "        ids = inputs['input_ids']\n",
    "        mask = inputs['attention_mask']\n",
    "        \n",
    "        if self.data_type == 'test':\n",
    "            targets = -1\n",
    "        else:\n",
    "            targets = torch.tensor(self.data.target[index], dtype=torch.float)\n",
    "        \n",
    "        return {\n",
    "            'ids': torch.tensor(ids, dtype=torch.long),\n",
    "            'mask': torch.tensor(mask, dtype=torch.long),\n",
    "            'targets': targets\n",
    "        }\n",
    "        \n",
    "    def __len__(self):\n",
    "        return len(self.data)"
   ]
  },
  {
   "cell_type": "code",
   "execution_count": 7,
   "metadata": {},
   "outputs": [],
   "source": [
    "class BERTClass(torch.nn.Module):\n",
    "    def __init__(self):\n",
    "        super().__init__()\n",
    "        self.config = AutoConfig.from_pretrained(Config.MODEL_NAME)\n",
    "        self.bert = transformers.AutoModel.from_pretrained(Config.MODEL_NAME)\n",
    "        self.drop = torch.nn.Dropout(0.3)\n",
    "        self.out = torch.nn.Linear(self.config.hidden_size, 1)\n",
    "    \n",
    "    def forward(self, ids, mask):\n",
    "        distilbert_output = self.bert(ids, mask)\n",
    "        hidden_state = distilbert_output[0]  # (bs, seq_len, dim)\n",
    "        pooled_output = hidden_state[:, 0]  # (bs, dim)\n",
    "        output_1 = self.drop(pooled_output)\n",
    "        output = self.out(output_1)\n",
    "        return output"
   ]
  },
  {
   "cell_type": "code",
   "execution_count": 8,
   "metadata": {},
   "outputs": [],
   "source": [
    "class EarlyStopping:\n",
    "    def __init__(self, patience=7, verbose=False, delta=0, fold=''):\n",
    "        self.patience = patience\n",
    "        self.verbose = verbose\n",
    "        self.counter = 0\n",
    "        self.best_score = None\n",
    "        self.early_stop = False\n",
    "        self.val_loss_min = np.Inf\n",
    "        self.delta = delta\n",
    "\n",
    "    def __call__(self, val_loss, model):\n",
    "        score = -val_loss\n",
    "\n",
    "        if self.best_score is None:\n",
    "            self.best_score = score\n",
    "            self.save_checkpoint(val_loss, model)\n",
    "        elif score < self.best_score + self.delta:\n",
    "            self.counter += 1\n",
    "            logger.info(f'EarlyStopping counter: {self.counter} out of {self.patience}')\n",
    "            if self.counter >= self.patience:\n",
    "                self.early_stop = True\n",
    "        else:\n",
    "            self.best_score = score\n",
    "            self.save_checkpoint(val_loss, model)\n",
    "            self.counter = 0\n",
    "\n",
    "    def save_checkpoint(self, val_loss, model):\n",
    "        if self.verbose:\n",
    "            logger.info(f'Validation loss decreased ({self.val_loss_min:.6f} --> {val_loss:.6f}).  Saving model ...')\n",
    "        torch.save(model.state_dict(), CP_DIR / f'checkpoint_{HOST}_{NB}_{fold}.pt')\n",
    "        self.val_loss_min = val_loss"
   ]
  },
  {
   "cell_type": "code",
   "execution_count": 9,
   "metadata": {},
   "outputs": [
    {
     "data": {
      "text/plain": [
       "device(type='cuda')"
      ]
     },
     "execution_count": 9,
     "metadata": {},
     "output_type": "execute_result"
    }
   ],
   "source": [
    "device = torch.device(\"cuda\" if torch.cuda.is_available() else \"cpu\")\n",
    "device"
   ]
  },
  {
   "cell_type": "code",
   "execution_count": null,
   "metadata": {},
   "outputs": [],
   "source": []
  },
  {
   "cell_type": "code",
   "execution_count": 10,
   "metadata": {},
   "outputs": [
    {
     "name": "stdout",
     "output_type": "stream",
     "text": [
      "====== 0 ======\n"
     ]
    },
    {
     "name": "stderr",
     "output_type": "stream",
     "text": [
      "Some weights of the model checkpoint at huggingface/CodeBERTa-small-v1 were not used when initializing RobertaModel: ['lm_head.bias', 'lm_head.decoder.weight', 'lm_head.layer_norm.weight', 'lm_head.decoder.bias', 'lm_head.dense.weight', 'lm_head.layer_norm.bias', 'lm_head.dense.bias']\n",
      "- This IS expected if you are initializing RobertaModel from the checkpoint of a model trained on another task or with another architecture (e.g. initializing a BertForSequenceClassification model from a BertForPreTraining model).\n",
      "- This IS NOT expected if you are initializing RobertaModel from the checkpoint of a model that you expect to be exactly identical (initializing a BertForSequenceClassification model from a BertForSequenceClassification model).\n",
      "100%|██████████████████████████████████████████████████████████| 380/380 [01:32<00:00,  4.10it/s, epoch=0, loss=0.8551]\n",
      "100%|██████████████████████████████████████████████████████████████████████████████████| 96/96 [00:07<00:00, 12.46it/s]\n",
      "[I 220916 00:59:25 <timed exec>:80] auc:0.7980\n",
      "[I 220916 00:59:25 <ipython-input-8-6710d1759379>:29] Validation loss decreased (inf --> -0.798025).  Saving model ...\n",
      "100%|██████████████████████████████████████████████████████████| 380/380 [01:37<00:00,  3.90it/s, epoch=1, loss=0.5834]\n",
      "100%|██████████████████████████████████████████████████████████████████████████████████| 96/96 [00:08<00:00, 11.90it/s]\n",
      "[I 220916 01:01:13 <timed exec>:80] auc:0.8324\n",
      "[I 220916 01:01:13 <ipython-input-8-6710d1759379>:29] Validation loss decreased (-0.798025 --> -0.832374).  Saving model ...\n",
      "100%|██████████████████████████████████████████████████████████| 380/380 [01:39<00:00,  3.82it/s, epoch=2, loss=0.2004]\n",
      "100%|██████████████████████████████████████████████████████████████████████████████████| 96/96 [00:08<00:00, 11.77it/s]\n",
      "[I 220916 01:03:01 <timed exec>:80] auc:0.8356\n",
      "[I 220916 01:03:01 <ipython-input-8-6710d1759379>:29] Validation loss decreased (-0.832374 --> -0.835607).  Saving model ...\n",
      "100%|██████████████████████████████████████████████████████████| 380/380 [01:40<00:00,  3.79it/s, epoch=3, loss=0.0926]\n",
      "100%|██████████████████████████████████████████████████████████████████████████████████| 96/96 [00:08<00:00, 11.74it/s]\n",
      "[I 220916 01:04:50 <timed exec>:80] auc:0.8415\n",
      "[I 220916 01:04:50 <ipython-input-8-6710d1759379>:29] Validation loss decreased (-0.835607 --> -0.841469).  Saving model ...\n",
      "100%|██████████████████████████████████████████████████████████| 380/380 [01:40<00:00,  3.76it/s, epoch=4, loss=0.1939]\n",
      "100%|██████████████████████████████████████████████████████████████████████████████████| 96/96 [00:08<00:00, 11.66it/s]\n",
      "[I 220916 01:06:41 <timed exec>:80] auc:0.8422\n",
      "[I 220916 01:06:41 <ipython-input-8-6710d1759379>:29] Validation loss decreased (-0.841469 --> -0.842234).  Saving model ...\n",
      "100%|██████████████████████████████████████████████████████████| 380/380 [01:41<00:00,  3.75it/s, epoch=5, loss=0.1331]\n",
      "100%|██████████████████████████████████████████████████████████████████████████████████| 96/96 [00:08<00:00, 11.61it/s]\n",
      "[I 220916 01:08:31 <timed exec>:80] auc:0.8295\n",
      "[I 220916 01:08:31 <ipython-input-8-6710d1759379>:19] EarlyStopping counter: 1 out of 3\n",
      "100%|██████████████████████████████████████████████████████████| 380/380 [01:41<00:00,  3.74it/s, epoch=6, loss=0.0149]\n",
      "100%|██████████████████████████████████████████████████████████████████████████████████| 96/96 [00:08<00:00, 11.66it/s]\n",
      "[I 220916 01:10:21 <timed exec>:80] auc:0.8311\n",
      "[I 220916 01:10:21 <ipython-input-8-6710d1759379>:19] EarlyStopping counter: 2 out of 3\n",
      "100%|██████████████████████████████████████████████████████████| 380/380 [01:41<00:00,  3.74it/s, epoch=7, loss=0.1064]\n",
      "100%|██████████████████████████████████████████████████████████████████████████████████| 96/96 [00:08<00:00, 11.55it/s]\n",
      "[I 220916 01:12:11 <timed exec>:80] auc:0.8322\n",
      "[I 220916 01:12:11 <ipython-input-8-6710d1759379>:19] EarlyStopping counter: 3 out of 3\n",
      "[I 220916 01:12:11 <timed exec>:91] Early stopping\n"
     ]
    },
    {
     "data": {
      "image/png": "[encoded data removed]",
      "text/plain": [
       "<Figure size 432x288 with 2 Axes>"
      ]
     },
     "metadata": {
      "needs_background": "light"
     },
     "output_type": "display_data"
    },
    {
     "name": "stdout",
     "output_type": "stream",
     "text": [
      "====== 1 ======\n"
     ]
    },
    {
     "name": "stderr",
     "output_type": "stream",
     "text": [
      "Some weights of the model checkpoint at huggingface/CodeBERTa-small-v1 were not used when initializing RobertaModel: ['lm_head.bias', 'lm_head.decoder.weight', 'lm_head.layer_norm.weight', 'lm_head.decoder.bias', 'lm_head.dense.weight', 'lm_head.layer_norm.bias', 'lm_head.dense.bias']\n",
      "- This IS expected if you are initializing RobertaModel from the checkpoint of a model trained on another task or with another architecture (e.g. initializing a BertForSequenceClassification model from a BertForPreTraining model).\n",
      "- This IS NOT expected if you are initializing RobertaModel from the checkpoint of a model that you expect to be exactly identical (initializing a BertForSequenceClassification model from a BertForSequenceClassification model).\n",
      "100%|██████████████████████████████████████████████████████████| 380/380 [01:40<00:00,  3.77it/s, epoch=0, loss=0.4983]\n",
      "100%|██████████████████████████████████████████████████████████████████████████████████| 96/96 [00:08<00:00, 11.63it/s]\n",
      "[I 220916 01:14:03 <timed exec>:80] auc:0.7875\n",
      "[I 220916 01:14:03 <ipython-input-8-6710d1759379>:29] Validation loss decreased (inf --> -0.787508).  Saving model ...\n",
      "100%|██████████████████████████████████████████████████████████| 380/380 [01:41<00:00,  3.75it/s, epoch=1, loss=0.2983]\n",
      "100%|██████████████████████████████████████████████████████████████████████████████████| 96/96 [00:08<00:00, 11.60it/s]\n",
      "[I 220916 01:15:53 <timed exec>:80] auc:0.8154\n",
      "[I 220916 01:15:53 <ipython-input-8-6710d1759379>:29] Validation loss decreased (-0.787508 --> -0.815440).  Saving model ...\n",
      "100%|██████████████████████████████████████████████████████████| 380/380 [01:41<00:00,  3.74it/s, epoch=2, loss=0.4414]\n",
      "100%|██████████████████████████████████████████████████████████████████████████████████| 96/96 [00:08<00:00, 11.54it/s]\n",
      "[I 220916 01:17:44 <timed exec>:80] auc:0.8281\n",
      "[I 220916 01:17:44 <ipython-input-8-6710d1759379>:29] Validation loss decreased (-0.815440 --> -0.828139).  Saving model ...\n",
      "100%|██████████████████████████████████████████████████████████| 380/380 [01:41<00:00,  3.73it/s, epoch=3, loss=0.2533]\n",
      "100%|██████████████████████████████████████████████████████████████████████████████████| 96/96 [00:08<00:00, 11.49it/s]\n",
      "[I 220916 01:19:35 <timed exec>:80] auc:0.8306\n",
      "[I 220916 01:19:35 <ipython-input-8-6710d1759379>:29] Validation loss decreased (-0.828139 --> -0.830602).  Saving model ...\n",
      "100%|██████████████████████████████████████████████████████████| 380/380 [01:42<00:00,  3.72it/s, epoch=4, loss=0.5767]\n",
      "100%|██████████████████████████████████████████████████████████████████████████████████| 96/96 [00:08<00:00, 11.51it/s]\n",
      "[I 220916 01:21:27 <timed exec>:80] auc:0.8313\n",
      "[I 220916 01:21:27 <ipython-input-8-6710d1759379>:29] Validation loss decreased (-0.830602 --> -0.831329).  Saving model ...\n",
      "100%|██████████████████████████████████████████████████████████| 380/380 [01:41<00:00,  3.73it/s, epoch=5, loss=0.0176]\n",
      "100%|██████████████████████████████████████████████████████████████████████████████████| 96/96 [00:08<00:00, 11.53it/s]\n",
      "[I 220916 01:23:18 <timed exec>:80] auc:0.8227\n",
      "[I 220916 01:23:18 <ipython-input-8-6710d1759379>:19] EarlyStopping counter: 1 out of 3\n",
      "100%|██████████████████████████████████████████████████████████| 380/380 [01:41<00:00,  3.73it/s, epoch=6, loss=0.0557]\n",
      "100%|██████████████████████████████████████████████████████████████████████████████████| 96/96 [00:08<00:00, 11.56it/s]\n",
      "[I 220916 01:25:08 <timed exec>:80] auc:0.8291\n",
      "[I 220916 01:25:08 <ipython-input-8-6710d1759379>:19] EarlyStopping counter: 2 out of 3\n",
      "100%|██████████████████████████████████████████████████████████| 380/380 [01:41<00:00,  3.73it/s, epoch=7, loss=0.0733]\n",
      "100%|██████████████████████████████████████████████████████████████████████████████████| 96/96 [00:08<00:00, 11.54it/s]\n",
      "[I 220916 01:26:58 <timed exec>:80] auc:0.8247\n",
      "[I 220916 01:26:58 <ipython-input-8-6710d1759379>:19] EarlyStopping counter: 3 out of 3\n",
      "[I 220916 01:26:58 <timed exec>:91] Early stopping\n"
     ]
    },
    {
     "data": {
      "image/png": "[encoded data removed]",
      "text/plain": [
       "<Figure size 432x288 with 2 Axes>"
      ]
     },
     "metadata": {
      "needs_background": "light"
     },
     "output_type": "display_data"
    },
    {
     "name": "stdout",
     "output_type": "stream",
     "text": [
      "====== 2 ======\n"
     ]
    },
    {
     "name": "stderr",
     "output_type": "stream",
     "text": [
      "Some weights of the model checkpoint at huggingface/CodeBERTa-small-v1 were not used when initializing RobertaModel: ['lm_head.bias', 'lm_head.decoder.weight', 'lm_head.layer_norm.weight', 'lm_head.decoder.bias', 'lm_head.dense.weight', 'lm_head.layer_norm.bias', 'lm_head.dense.bias']\n",
      "- This IS expected if you are initializing RobertaModel from the checkpoint of a model trained on another task or with another architecture (e.g. initializing a BertForSequenceClassification model from a BertForPreTraining model).\n",
      "- This IS NOT expected if you are initializing RobertaModel from the checkpoint of a model that you expect to be exactly identical (initializing a BertForSequenceClassification model from a BertForSequenceClassification model).\n",
      "100%|██████████████████████████████████████████████████████████| 380/380 [01:41<00:00,  3.75it/s, epoch=0, loss=0.6849]\n",
      "100%|██████████████████████████████████████████████████████████████████████████████████| 96/96 [00:08<00:00, 11.57it/s]\n",
      "[I 220916 01:28:51 <timed exec>:80] auc:0.7990\n",
      "[I 220916 01:28:51 <ipython-input-8-6710d1759379>:29] Validation loss decreased (inf --> -0.798979).  Saving model ...\n",
      "100%|██████████████████████████████████████████████████████████| 380/380 [01:41<00:00,  3.74it/s, epoch=1, loss=0.6472]\n",
      "100%|██████████████████████████████████████████████████████████████████████████████████| 96/96 [00:08<00:00, 11.55it/s]\n",
      "[I 220916 01:30:42 <timed exec>:80] auc:0.8279\n",
      "[I 220916 01:30:42 <ipython-input-8-6710d1759379>:29] Validation loss decreased (-0.798979 --> -0.827904).  Saving model ...\n",
      "100%|██████████████████████████████████████████████████████████| 380/380 [01:41<00:00,  3.74it/s, epoch=2, loss=0.2107]\n",
      "100%|██████████████████████████████████████████████████████████████████████████████████| 96/96 [00:08<00:00, 11.55it/s]\n",
      "[I 220916 01:32:33 <timed exec>:80] auc:0.8385\n",
      "[I 220916 01:32:33 <ipython-input-8-6710d1759379>:29] Validation loss decreased (-0.827904 --> -0.838472).  Saving model ...\n",
      "100%|██████████████████████████████████████████████████████████| 380/380 [01:41<00:00,  3.73it/s, epoch=3, loss=0.4585]\n",
      "100%|██████████████████████████████████████████████████████████████████████████████████| 96/96 [00:08<00:00, 11.52it/s]\n",
      "[I 220916 01:34:24 <timed exec>:80] auc:0.8356\n",
      "[I 220916 01:34:24 <ipython-input-8-6710d1759379>:19] EarlyStopping counter: 1 out of 3\n",
      "100%|██████████████████████████████████████████████████████████| 380/380 [01:42<00:00,  3.72it/s, epoch=4, loss=0.3698]\n",
      "100%|██████████████████████████████████████████████████████████████████████████████████| 96/96 [00:08<00:00, 11.50it/s]\n",
      "[I 220916 01:36:14 <timed exec>:80] auc:0.8352\n",
      "[I 220916 01:36:14 <ipython-input-8-6710d1759379>:19] EarlyStopping counter: 2 out of 3\n",
      "100%|██████████████████████████████████████████████████████████| 380/380 [01:42<00:00,  3.72it/s, epoch=5, loss=0.2312]\n",
      "100%|██████████████████████████████████████████████████████████████████████████████████| 96/96 [00:08<00:00, 11.46it/s]\n",
      "[I 220916 01:38:05 <timed exec>:80] auc:0.8362\n",
      "[I 220916 01:38:05 <ipython-input-8-6710d1759379>:19] EarlyStopping counter: 3 out of 3\n",
      "[I 220916 01:38:05 <timed exec>:91] Early stopping\n"
     ]
    },
    {
     "data": {
      "image/png": "[encoded data removed]",
      "text/plain": [
       "<Figure size 432x288 with 2 Axes>"
      ]
     },
     "metadata": {
      "needs_background": "light"
     },
     "output_type": "display_data"
    },
    {
     "name": "stdout",
     "output_type": "stream",
     "text": [
      "====== 3 ======\n"
     ]
    },
    {
     "name": "stderr",
     "output_type": "stream",
     "text": [
      "Some weights of the model checkpoint at huggingface/CodeBERTa-small-v1 were not used when initializing RobertaModel: ['lm_head.bias', 'lm_head.decoder.weight', 'lm_head.layer_norm.weight', 'lm_head.decoder.bias', 'lm_head.dense.weight', 'lm_head.layer_norm.bias', 'lm_head.dense.bias']\n",
      "- This IS expected if you are initializing RobertaModel from the checkpoint of a model trained on another task or with another architecture (e.g. initializing a BertForSequenceClassification model from a BertForPreTraining model).\n",
      "- This IS NOT expected if you are initializing RobertaModel from the checkpoint of a model that you expect to be exactly identical (initializing a BertForSequenceClassification model from a BertForSequenceClassification model).\n",
      "100%|██████████████████████████████████████████████████████████| 380/380 [01:41<00:00,  3.73it/s, epoch=0, loss=0.7980]\n",
      "100%|██████████████████████████████████████████████████████████████████████████████████| 96/96 [00:08<00:00, 11.52it/s]\n",
      "[I 220916 01:39:58 <timed exec>:80] auc:0.8004\n",
      "[I 220916 01:39:58 <ipython-input-8-6710d1759379>:29] Validation loss decreased (inf --> -0.800409).  Saving model ...\n",
      "100%|██████████████████████████████████████████████████████████| 380/380 [01:42<00:00,  3.72it/s, epoch=1, loss=0.4017]\n",
      "100%|██████████████████████████████████████████████████████████████████████████████████| 96/96 [00:08<00:00, 11.49it/s]\n",
      "[I 220916 01:41:49 <timed exec>:80] auc:0.8225\n",
      "[I 220916 01:41:49 <ipython-input-8-6710d1759379>:29] Validation loss decreased (-0.800409 --> -0.822529).  Saving model ...\n",
      "100%|██████████████████████████████████████████████████████████| 380/380 [01:41<00:00,  3.73it/s, epoch=2, loss=0.5649]\n",
      "100%|██████████████████████████████████████████████████████████████████████████████████| 96/96 [00:08<00:00, 11.54it/s]\n",
      "[I 220916 01:43:40 <timed exec>:80] auc:0.8263\n",
      "[I 220916 01:43:40 <ipython-input-8-6710d1759379>:29] Validation loss decreased (-0.822529 --> -0.826274).  Saving model ...\n",
      "100%|██████████████████████████████████████████████████████████| 380/380 [01:41<00:00,  3.73it/s, epoch=3, loss=0.3643]\n",
      "100%|██████████████████████████████████████████████████████████████████████████████████| 96/96 [00:08<00:00, 11.53it/s]\n",
      "[I 220916 01:45:32 <timed exec>:80] auc:0.8265\n",
      "[I 220916 01:45:32 <ipython-input-8-6710d1759379>:29] Validation loss decreased (-0.826274 --> -0.826482).  Saving model ...\n",
      "100%|██████████████████████████████████████████████████████████| 380/380 [01:41<00:00,  3.73it/s, epoch=4, loss=0.3474]\n",
      "100%|██████████████████████████████████████████████████████████████████████████████████| 96/96 [00:08<00:00, 11.51it/s]\n",
      "[I 220916 01:47:23 <timed exec>:80] auc:0.8199\n",
      "[I 220916 01:47:23 <ipython-input-8-6710d1759379>:19] EarlyStopping counter: 1 out of 3\n",
      "100%|██████████████████████████████████████████████████████████| 380/380 [01:42<00:00,  3.72it/s, epoch=5, loss=0.0386]\n",
      "100%|██████████████████████████████████████████████████████████████████████████████████| 96/96 [00:08<00:00, 11.54it/s]\n",
      "[I 220916 01:49:13 <timed exec>:80] auc:0.8233\n",
      "[I 220916 01:49:13 <ipython-input-8-6710d1759379>:19] EarlyStopping counter: 2 out of 3\n",
      "100%|██████████████████████████████████████████████████████████| 380/380 [01:42<00:00,  3.73it/s, epoch=6, loss=0.1409]\n",
      "100%|██████████████████████████████████████████████████████████████████████████████████| 96/96 [00:08<00:00, 11.50it/s]\n",
      "[I 220916 01:51:03 <timed exec>:80] auc:0.8147\n",
      "[I 220916 01:51:03 <ipython-input-8-6710d1759379>:19] EarlyStopping counter: 3 out of 3\n",
      "[I 220916 01:51:03 <timed exec>:91] Early stopping\n"
     ]
    },
    {
     "data": {
      "image/png": "[encoded data removed]",
      "text/plain": [
       "<Figure size 432x288 with 2 Axes>"
      ]
     },
     "metadata": {
      "needs_background": "light"
     },
     "output_type": "display_data"
    },
    {
     "name": "stdout",
     "output_type": "stream",
     "text": [
      "====== 4 ======\n"
     ]
    },
    {
     "name": "stderr",
     "output_type": "stream",
     "text": [
      "Some weights of the model checkpoint at huggingface/CodeBERTa-small-v1 were not used when initializing RobertaModel: ['lm_head.bias', 'lm_head.decoder.weight', 'lm_head.layer_norm.weight', 'lm_head.decoder.bias', 'lm_head.dense.weight', 'lm_head.layer_norm.bias', 'lm_head.dense.bias']\n",
      "- This IS expected if you are initializing RobertaModel from the checkpoint of a model trained on another task or with another architecture (e.g. initializing a BertForSequenceClassification model from a BertForPreTraining model).\n",
      "- This IS NOT expected if you are initializing RobertaModel from the checkpoint of a model that you expect to be exactly identical (initializing a BertForSequenceClassification model from a BertForSequenceClassification model).\n",
      "100%|██████████████████████████████████████████████████████████| 380/380 [01:41<00:00,  3.74it/s, epoch=0, loss=0.8420]\n",
      "100%|██████████████████████████████████████████████████████████████████████████████████| 96/96 [00:08<00:00, 11.54it/s]\n",
      "[I 220916 01:52:57 <timed exec>:80] auc:0.8096\n",
      "[I 220916 01:52:57 <ipython-input-8-6710d1759379>:29] Validation loss decreased (inf --> -0.809636).  Saving model ...\n",
      "100%|██████████████████████████████████████████████████████████| 380/380 [01:41<00:00,  3.74it/s, epoch=1, loss=0.3755]\n",
      "100%|██████████████████████████████████████████████████████████████████████████████████| 96/96 [00:08<00:00, 11.50it/s]\n",
      "[I 220916 01:54:47 <timed exec>:80] auc:0.8428\n",
      "[I 220916 01:54:47 <ipython-input-8-6710d1759379>:29] Validation loss decreased (-0.809636 --> -0.842759).  Saving model ...\n",
      "100%|██████████████████████████████████████████████████████████| 380/380 [01:41<00:00,  3.73it/s, epoch=2, loss=0.5033]\n",
      "100%|██████████████████████████████████████████████████████████████████████████████████| 96/96 [00:08<00:00, 11.52it/s]\n",
      "[I 220916 01:56:39 <timed exec>:80] auc:0.8491\n",
      "[I 220916 01:56:39 <ipython-input-8-6710d1759379>:29] Validation loss decreased (-0.842759 --> -0.849077).  Saving model ...\n",
      "100%|██████████████████████████████████████████████████████████| 380/380 [01:42<00:00,  3.73it/s, epoch=3, loss=0.6319]\n",
      "100%|██████████████████████████████████████████████████████████████████████████████████| 96/96 [00:08<00:00, 11.48it/s]\n",
      "[I 220916 01:58:30 <timed exec>:80] auc:0.8451\n",
      "[I 220916 01:58:30 <ipython-input-8-6710d1759379>:19] EarlyStopping counter: 1 out of 3\n",
      "100%|██████████████████████████████████████████████████████████| 380/380 [01:43<00:00,  3.68it/s, epoch=4, loss=0.0797]\n",
      "100%|██████████████████████████████████████████████████████████████████████████████████| 96/96 [00:08<00:00, 11.31it/s]\n",
      "[I 220916 02:00:22 <timed exec>:80] auc:0.8413\n",
      "[I 220916 02:00:22 <ipython-input-8-6710d1759379>:19] EarlyStopping counter: 2 out of 3\n",
      "100%|██████████████████████████████████████████████████████████| 380/380 [01:43<00:00,  3.68it/s, epoch=5, loss=0.2359]\n",
      "100%|██████████████████████████████████████████████████████████████████████████████████| 96/96 [00:08<00:00, 11.50it/s]\n",
      "[I 220916 02:02:13 <timed exec>:80] auc:0.8316\n",
      "[I 220916 02:02:13 <ipython-input-8-6710d1759379>:19] EarlyStopping counter: 3 out of 3\n",
      "[I 220916 02:02:13 <timed exec>:91] Early stopping\n"
     ]
    },
    {
     "data": {
      "image/png": "[encoded data removed]",
      "text/plain": [
       "<Figure size 432x288 with 2 Axes>"
      ]
     },
     "metadata": {
      "needs_background": "light"
     },
     "output_type": "display_data"
    },
    {
     "name": "stdout",
     "output_type": "stream",
     "text": [
      "Wall time: 1h 4min 32s\n"
     ]
    }
   ],
   "source": [
    "%%time\n",
    "skf = StratifiedKFold(n_splits=Config.N_FOLD, random_state=Config.RANDOM_SATE, shuffle=True)\n",
    "for fold, (train_index, test_index) in enumerate(skf.split(train_df, train_df['target'])):\n",
    "    print(f'====== {fold} ======')\n",
    "\n",
    "    net = BERTClass()\n",
    "    net.to(device)\n",
    "\n",
    "    criterion = nn.BCEWithLogitsLoss()\n",
    "    optimizer = optim.AdamW(net.parameters(), lr=Config.LR, weight_decay=1.0e-02)    \n",
    "\n",
    "    _train, _valid = train_df.iloc[train_index].reset_index(drop=True), train_df.iloc[test_index].reset_index(drop=True)\n",
    "\n",
    "    training_set = BERTDataset(_train, tokenizer, Config.MAX_LEN, data_type='train')\n",
    "    validation_set = BERTDataset(_valid, tokenizer, Config.MAX_LEN, data_type='valid')\n",
    "\n",
    "    trainloader = DataLoader(training_set, batch_size=Config.BATCH_SIZE, shuffle=True, drop_last=True)\n",
    "    validloader = DataLoader(validation_set, batch_size=Config.BATCH_SIZE)\n",
    "\n",
    "    early_stopping = EarlyStopping(patience=Config.PATIENCE, verbose=True, fold=fold)\n",
    "    # scheduler = torch.optim.lr_scheduler.OneCycleLR(optimizer, epochs=Config.EPOCH, steps_per_epoch=len(trainloader), max_lr=Config.MAX_LR, pct_start= 0.1, anneal_strategy='cos', div_factor= 1.0e+3, final_div_factor= 1.0e+3)\n",
    "    # scheduler = torch.optim.lr_scheduler.CosineAnnealingLR(optimizer, T_max=Config.T_MAX, eta_min=Config.ETA_MIN)\n",
    "    # scheduler = CosineAnnealingWarmupRestarts(optimizer, first_cycle_steps=int((len(trainloader) * Config.EPOCH) / 5), cycle_mult=1.0, max_lr=Config.LR, min_lr=Config.ETA_MIN, warmup_steps=int((len(trainloader) * Config.EPOCH) / 50), gamma=Config.SCHEDULER_GAMMA)\n",
    "\n",
    "    val_losses = []\n",
    "    val_metrics = []\n",
    "    train_metrics = []\n",
    "    lrs = []\n",
    "\n",
    "    for epoch in range(Config.EPOCH):\n",
    "\n",
    "        running_loss = 0.0\n",
    "        train_rmse_list = []\n",
    "        n_iter = len(trainloader)\n",
    "        with tqdm(enumerate(trainloader), total=n_iter) as pbar:\n",
    "            for i, (data) in pbar:\n",
    "\n",
    "                net.train()\n",
    "\n",
    "                ids = data['ids'].to(device, dtype = torch.long)\n",
    "                mask = data['mask'].to(device, dtype = torch.long)\n",
    "                targets = data['targets'].to(device, dtype = torch.float)\n",
    "\n",
    "\n",
    "                outputs = outputs = net(ids, mask).squeeze()\n",
    "\n",
    "                loss = criterion(outputs, targets)\n",
    "\n",
    "                loss.backward()\n",
    "                optimizer.step()\n",
    "                net.zero_grad()     \n",
    "\n",
    "                # print statistics\n",
    "                running_loss += loss.item()\n",
    "\n",
    "                outputs = outputs.sigmoid()\n",
    "\n",
    "                pbar.set_postfix(OrderedDict(\n",
    "                    epoch=\"{:>10}\".format(epoch), loss=\"{:.4f}\".format(loss.item())#, auc='{:.4f}'.format(auc)\n",
    "                ))\n",
    "                #scheduler.step()\n",
    "\n",
    "        val_loss = 0.0\n",
    "        val_lwlrap = 0.0\n",
    "        val_preds = []\n",
    "        n_iter_val = len(validloader)\n",
    "        for i, (data) in tqdm(enumerate(validloader), total=n_iter_val):\n",
    "            net.eval()\n",
    "\n",
    "            with torch.no_grad():\n",
    "\n",
    "                ids = data['ids'].to(device, dtype = torch.long)\n",
    "                mask = data['mask'].to(device, dtype = torch.long)\n",
    "                targets = data['targets'].to(device, dtype = torch.float)\n",
    "                outputs = outputs = net(ids, mask).squeeze()\n",
    "                outputs_np = outputs.to('cpu').detach().numpy().copy()\n",
    "                val_preds.append(outputs_np)\n",
    "\n",
    "\n",
    "        auc = roc_auc_score(_valid['target'], np.hstack(val_preds))\n",
    "        logger.info('auc:{:.4f}'.format(auc))\n",
    "\n",
    "        lr = optimizer.param_groups[0]['lr']\n",
    "\n",
    "        val_metrics.append(auc)\n",
    "        train_metrics.append(np.mean(train_rmse_list))\n",
    "        lrs.append(lr)\n",
    "\n",
    "        early_stopping(-auc, net)\n",
    "\n",
    "        if early_stopping.early_stop:\n",
    "            logger.info(\"Early stopping\")\n",
    "            net.load_state_dict(torch.load(CP_DIR / f'checkpoint_{HOST}_{NB}_{fold}.pt'))\n",
    "            break\n",
    "\n",
    "    fig = plt.figure()\n",
    "    ax1 = fig.add_subplot(111)\n",
    "    ax1.plot(lrs)\n",
    "    ax2 = ax1.twinx()\n",
    "    ax2.plot(val_metrics)\n",
    "    plt.show()\n",
    "\n",
    "    del net, validloader, trainloader, training_set, validation_set\n",
    "    torch.cuda.empty_cache()\n",
    "    gc.collect()\n"
   ]
  },
  {
   "cell_type": "code",
   "execution_count": null,
   "metadata": {},
   "outputs": [],
   "source": []
  },
  {
   "cell_type": "code",
   "execution_count": 14,
   "metadata": {},
   "outputs": [
    {
     "name": "stdout",
     "output_type": "stream",
     "text": [
      "====== 0 ======\n"
     ]
    },
    {
     "name": "stderr",
     "output_type": "stream",
     "text": [
      "Some weights of the model checkpoint at huggingface/CodeBERTa-small-v1 were not used when initializing RobertaModel: ['lm_head.bias', 'lm_head.decoder.weight', 'lm_head.layer_norm.weight', 'lm_head.decoder.bias', 'lm_head.dense.weight', 'lm_head.layer_norm.bias', 'lm_head.dense.bias']\n",
      "- This IS expected if you are initializing RobertaModel from the checkpoint of a model trained on another task or with another architecture (e.g. initializing a BertForSequenceClassification model from a BertForPreTraining model).\n",
      "- This IS NOT expected if you are initializing RobertaModel from the checkpoint of a model that you expect to be exactly identical (initializing a BertForSequenceClassification model from a BertForSequenceClassification model).\n",
      "100%|██████████████████████████████████████████████████████████████████████████████████| 96/96 [00:22<00:00,  4.19it/s]\n"
     ]
    },
    {
     "name": "stdout",
     "output_type": "stream",
     "text": [
      "0.8422344953741161\n",
      "====== 1 ======\n"
     ]
    },
    {
     "name": "stderr",
     "output_type": "stream",
     "text": [
      "Some weights of the model checkpoint at huggingface/CodeBERTa-small-v1 were not used when initializing RobertaModel: ['lm_head.bias', 'lm_head.decoder.weight', 'lm_head.layer_norm.weight', 'lm_head.decoder.bias', 'lm_head.dense.weight', 'lm_head.layer_norm.bias', 'lm_head.dense.bias']\n",
      "- This IS expected if you are initializing RobertaModel from the checkpoint of a model trained on another task or with another architecture (e.g. initializing a BertForSequenceClassification model from a BertForPreTraining model).\n",
      "- This IS NOT expected if you are initializing RobertaModel from the checkpoint of a model that you expect to be exactly identical (initializing a BertForSequenceClassification model from a BertForSequenceClassification model).\n",
      "100%|██████████████████████████████████████████████████████████████████████████████████| 96/96 [00:23<00:00,  4.14it/s]\n"
     ]
    },
    {
     "name": "stdout",
     "output_type": "stream",
     "text": [
      "0.8313292019017254\n",
      "====== 2 ======\n"
     ]
    },
    {
     "name": "stderr",
     "output_type": "stream",
     "text": [
      "Some weights of the model checkpoint at huggingface/CodeBERTa-small-v1 were not used when initializing RobertaModel: ['lm_head.bias', 'lm_head.decoder.weight', 'lm_head.layer_norm.weight', 'lm_head.decoder.bias', 'lm_head.dense.weight', 'lm_head.layer_norm.bias', 'lm_head.dense.bias']\n",
      "- This IS expected if you are initializing RobertaModel from the checkpoint of a model trained on another task or with another architecture (e.g. initializing a BertForSequenceClassification model from a BertForPreTraining model).\n",
      "- This IS NOT expected if you are initializing RobertaModel from the checkpoint of a model that you expect to be exactly identical (initializing a BertForSequenceClassification model from a BertForSequenceClassification model).\n",
      "100%|██████████████████████████████████████████████████████████████████████████████████| 96/96 [00:23<00:00,  4.11it/s]\n"
     ]
    },
    {
     "name": "stdout",
     "output_type": "stream",
     "text": [
      "0.8384721093175396\n",
      "====== 3 ======\n"
     ]
    },
    {
     "name": "stderr",
     "output_type": "stream",
     "text": [
      "Some weights of the model checkpoint at huggingface/CodeBERTa-small-v1 were not used when initializing RobertaModel: ['lm_head.bias', 'lm_head.decoder.weight', 'lm_head.layer_norm.weight', 'lm_head.decoder.bias', 'lm_head.dense.weight', 'lm_head.layer_norm.bias', 'lm_head.dense.bias']\n",
      "- This IS expected if you are initializing RobertaModel from the checkpoint of a model trained on another task or with another architecture (e.g. initializing a BertForSequenceClassification model from a BertForPreTraining model).\n",
      "- This IS NOT expected if you are initializing RobertaModel from the checkpoint of a model that you expect to be exactly identical (initializing a BertForSequenceClassification model from a BertForSequenceClassification model).\n",
      "100%|██████████████████████████████████████████████████████████████████████████████████| 96/96 [00:23<00:00,  4.13it/s]\n"
     ]
    },
    {
     "name": "stdout",
     "output_type": "stream",
     "text": [
      "0.8264816654687919\n",
      "====== 4 ======\n"
     ]
    },
    {
     "name": "stderr",
     "output_type": "stream",
     "text": [
      "Some weights of the model checkpoint at huggingface/CodeBERTa-small-v1 were not used when initializing RobertaModel: ['lm_head.bias', 'lm_head.decoder.weight', 'lm_head.layer_norm.weight', 'lm_head.decoder.bias', 'lm_head.dense.weight', 'lm_head.layer_norm.bias', 'lm_head.dense.bias']\n",
      "- This IS expected if you are initializing RobertaModel from the checkpoint of a model trained on another task or with another architecture (e.g. initializing a BertForSequenceClassification model from a BertForPreTraining model).\n",
      "- This IS NOT expected if you are initializing RobertaModel from the checkpoint of a model that you expect to be exactly identical (initializing a BertForSequenceClassification model from a BertForSequenceClassification model).\n",
      "100%|██████████████████████████████████████████████████████████████████████████████████| 96/96 [00:22<00:00,  4.20it/s]\n"
     ]
    },
    {
     "name": "stdout",
     "output_type": "stream",
     "text": [
      "0.8490774602235094\n",
      "Wall time: 2min 9s\n"
     ]
    }
   ],
   "source": [
    "%%time\n",
    "cv_scores = {}\n",
    "oof = np.zeros(len(train_df))\n",
    "skf = StratifiedKFold(n_splits=Config.N_FOLD, random_state=Config.RANDOM_SATE, shuffle=True)\n",
    "for fold, (train_index, test_index) in enumerate(skf.split(train_df, train_df['target'])):\n",
    "    print(f'====== {fold} ======')\n",
    "\n",
    "    net = BERTClass()\n",
    "    net.to(device)\n",
    "\n",
    "    _train, _valid = train_df.iloc[train_index].reset_index(drop=True), train_df.iloc[test_index].reset_index(drop=True)\n",
    "    validation_set = BERTDataset(_valid, tokenizer, Config.MAX_LEN, data_type='valid')\n",
    "    validloader = DataLoader(validation_set, batch_size=Config.BATCH_SIZE)\n",
    "\n",
    "    preds = []\n",
    "    n_iter_val = len(validloader)\n",
    "    for i, (data) in tqdm(enumerate(validloader), total=n_iter_val):\n",
    "        net.load_state_dict(torch.load(CP_DIR / f'checkpoint_{HOST}_{NB}_{fold}.pt'))\n",
    "        net.eval()\n",
    "        \n",
    "        with torch.no_grad():\n",
    "\n",
    "            ids = data['ids'].to(device, dtype = torch.long)\n",
    "            mask = data['mask'].to(device, dtype = torch.long)\n",
    "            targets = data['targets'].to(device, dtype = torch.float)\n",
    "            outputs = outputs = net(ids, mask).squeeze()\n",
    "            outputs_np = outputs.to('cpu').detach().numpy().copy()\n",
    "            preds.append(outputs_np)\n",
    "\n",
    "\n",
    "    auc = roc_auc_score(_valid['target'], np.hstack(preds))\n",
    "    print(auc)\n",
    "\n",
    "    oof[test_index] = np.hstack(preds).reshape(-1)\n",
    "    cv_scores[f'cv{fold}'] = auc\n",
    "\n",
    "    del net, validation_set, validloader\n",
    "    torch.cuda.empty_cache()\n",
    "    gc.collect()\n"
   ]
  },
  {
   "cell_type": "code",
   "execution_count": 17,
   "metadata": {},
   "outputs": [
    {
     "data": {
      "text/plain": [
       "0.8294407000029994"
      ]
     },
     "execution_count": 17,
     "metadata": {},
     "output_type": "execute_result"
    }
   ],
   "source": [
    "roc_auc_score(train_df['target'], oof)"
   ]
  },
  {
   "cell_type": "code",
   "execution_count": 19,
   "metadata": {},
   "outputs": [
    {
     "name": "stderr",
     "output_type": "stream",
     "text": [
      "Some weights of the model checkpoint at huggingface/CodeBERTa-small-v1 were not used when initializing RobertaModel: ['lm_head.bias', 'lm_head.decoder.weight', 'lm_head.layer_norm.weight', 'lm_head.decoder.bias', 'lm_head.dense.weight', 'lm_head.layer_norm.bias', 'lm_head.dense.bias']\n",
      "- This IS expected if you are initializing RobertaModel from the checkpoint of a model trained on another task or with another architecture (e.g. initializing a BertForSequenceClassification model from a BertForPreTraining model).\n",
      "- This IS NOT expected if you are initializing RobertaModel from the checkpoint of a model that you expect to be exactly identical (initializing a BertForSequenceClassification model from a BertForSequenceClassification model).\n"
     ]
    },
    {
     "name": "stdout",
     "output_type": "stream",
     "text": [
      "..\\output\\checkpoint\\checkpoint_DESKTOP-7KHT10A_test2_0.pt\n"
     ]
    },
    {
     "name": "stderr",
     "output_type": "stream",
     "text": [
      "100%|████████████████████████████████████████████████████████████████████████████████| 204/204 [00:15<00:00, 12.94it/s]\n",
      "Some weights of the model checkpoint at huggingface/CodeBERTa-small-v1 were not used when initializing RobertaModel: ['lm_head.bias', 'lm_head.decoder.weight', 'lm_head.layer_norm.weight', 'lm_head.decoder.bias', 'lm_head.dense.weight', 'lm_head.layer_norm.bias', 'lm_head.dense.bias']\n",
      "- This IS expected if you are initializing RobertaModel from the checkpoint of a model trained on another task or with another architecture (e.g. initializing a BertForSequenceClassification model from a BertForPreTraining model).\n",
      "- This IS NOT expected if you are initializing RobertaModel from the checkpoint of a model that you expect to be exactly identical (initializing a BertForSequenceClassification model from a BertForSequenceClassification model).\n"
     ]
    },
    {
     "name": "stdout",
     "output_type": "stream",
     "text": [
      "..\\output\\checkpoint\\checkpoint_DESKTOP-7KHT10A_test2_1.pt\n"
     ]
    },
    {
     "name": "stderr",
     "output_type": "stream",
     "text": [
      "100%|████████████████████████████████████████████████████████████████████████████████| 204/204 [00:15<00:00, 12.88it/s]\n",
      "Some weights of the model checkpoint at huggingface/CodeBERTa-small-v1 were not used when initializing RobertaModel: ['lm_head.bias', 'lm_head.decoder.weight', 'lm_head.layer_norm.weight', 'lm_head.decoder.bias', 'lm_head.dense.weight', 'lm_head.layer_norm.bias', 'lm_head.dense.bias']\n",
      "- This IS expected if you are initializing RobertaModel from the checkpoint of a model trained on another task or with another architecture (e.g. initializing a BertForSequenceClassification model from a BertForPreTraining model).\n",
      "- This IS NOT expected if you are initializing RobertaModel from the checkpoint of a model that you expect to be exactly identical (initializing a BertForSequenceClassification model from a BertForSequenceClassification model).\n"
     ]
    },
    {
     "name": "stdout",
     "output_type": "stream",
     "text": [
      "..\\output\\checkpoint\\checkpoint_DESKTOP-7KHT10A_test2_2.pt\n"
     ]
    },
    {
     "name": "stderr",
     "output_type": "stream",
     "text": [
      "100%|████████████████████████████████████████████████████████████████████████████████| 204/204 [00:16<00:00, 12.70it/s]\n",
      "Some weights of the model checkpoint at huggingface/CodeBERTa-small-v1 were not used when initializing RobertaModel: ['lm_head.bias', 'lm_head.decoder.weight', 'lm_head.layer_norm.weight', 'lm_head.decoder.bias', 'lm_head.dense.weight', 'lm_head.layer_norm.bias', 'lm_head.dense.bias']\n",
      "- This IS expected if you are initializing RobertaModel from the checkpoint of a model trained on another task or with another architecture (e.g. initializing a BertForSequenceClassification model from a BertForPreTraining model).\n",
      "- This IS NOT expected if you are initializing RobertaModel from the checkpoint of a model that you expect to be exactly identical (initializing a BertForSequenceClassification model from a BertForSequenceClassification model).\n"
     ]
    },
    {
     "name": "stdout",
     "output_type": "stream",
     "text": [
      "..\\output\\checkpoint\\checkpoint_DESKTOP-7KHT10A_test2_3.pt\n"
     ]
    },
    {
     "name": "stderr",
     "output_type": "stream",
     "text": [
      "100%|████████████████████████████████████████████████████████████████████████████████| 204/204 [00:16<00:00, 12.59it/s]\n",
      "Some weights of the model checkpoint at huggingface/CodeBERTa-small-v1 were not used when initializing RobertaModel: ['lm_head.bias', 'lm_head.decoder.weight', 'lm_head.layer_norm.weight', 'lm_head.decoder.bias', 'lm_head.dense.weight', 'lm_head.layer_norm.bias', 'lm_head.dense.bias']\n",
      "- This IS expected if you are initializing RobertaModel from the checkpoint of a model trained on another task or with another architecture (e.g. initializing a BertForSequenceClassification model from a BertForPreTraining model).\n",
      "- This IS NOT expected if you are initializing RobertaModel from the checkpoint of a model that you expect to be exactly identical (initializing a BertForSequenceClassification model from a BertForSequenceClassification model).\n"
     ]
    },
    {
     "name": "stdout",
     "output_type": "stream",
     "text": [
      "..\\output\\checkpoint\\checkpoint_DESKTOP-7KHT10A_test2_4.pt\n"
     ]
    },
    {
     "name": "stderr",
     "output_type": "stream",
     "text": [
      "100%|████████████████████████████████████████████████████████████████████████████████| 204/204 [00:16<00:00, 12.48it/s]\n"
     ]
    }
   ],
   "source": [
    "y_preds = np.zeros(len(test_df))\n",
    "\n",
    "test_set = BERTDataset(test_df, tokenizer, Config.MAX_LEN, data_type='test')\n",
    "testloader = DataLoader(test_set, batch_size=Config.BATCH_SIZE)\n",
    "\n",
    "for fold in range(Config.N_FOLD):\n",
    "\n",
    "    net = BERTClass()\n",
    "    net.to(device)\n",
    "    print(CP_DIR / f'checkpoint_{HOST}_{NB}_{fold}.pt')\n",
    "    net.load_state_dict(torch.load(CP_DIR / f'checkpoint_{HOST}_{NB}_{fold}.pt'))\n",
    "\n",
    "    fold_preds = []\n",
    "    for i, (data) in tqdm(enumerate(testloader), total=len(testloader)):\n",
    "        net.eval()\n",
    "        with torch.no_grad():\n",
    "            \n",
    "            ids = data['ids'].to(device, dtype = torch.long)\n",
    "            mask = data['mask'].to(device, dtype = torch.long)\n",
    "            targets = data['targets'].to(device, dtype = torch.float)\n",
    "            outputs = outputs = net(ids, mask).squeeze()\n",
    "            outputs_np = outputs.to('cpu').detach().numpy().copy()\n",
    "\n",
    "            fold_preds.append(outputs_np)\n",
    "    \n",
    "    y_preds += np.hstack(fold_preds).reshape(-1) / Config.N_FOLD"
   ]
  },
  {
   "cell_type": "code",
   "execution_count": 20,
   "metadata": {
    "_cell_guid": "33db69ee-e322-4324-ab31-ee61c3dacb83",
    "_uuid": "5756f350-a8cf-4200-a9bd-8ce8f3177020"
   },
   "outputs": [],
   "source": [
    "test_df['label'] = np.hstack(y_preds)\n",
    "test_df[['id', 'label']].to_csv(OUTPUT_DIR / f'sub_{HOST}_{NB}.csv', index=False)"
   ]
  },
  {
   "cell_type": "code",
   "execution_count": null,
   "metadata": {},
   "outputs": [],
   "source": []
  }
 ],
 "metadata": {
  "kernelspec": {
   "display_name": "Python 3",
   "language": "python",
   "name": "python3"
  },
  "language_info": {
   "codemirror_mode": {
    "name": "ipython",
    "version": 3
   },
   "file_extension": ".py",
   "mimetype": "text/x-python",
   "name": "python",
   "nbconvert_exporter": "python",
   "pygments_lexer": "ipython3",
   "version": "3.8.3"
  }
 },
 "nbformat": 4,
 "nbformat_minor": 4
}
