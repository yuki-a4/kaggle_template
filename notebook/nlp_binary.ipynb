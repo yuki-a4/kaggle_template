{
 "cells": [
  {
   "cell_type": "code",
   "execution_count": 1,
   "metadata": {},
   "outputs": [
    {
     "data": {
      "text/plain": [
       "('c20bcc15152c', 'test2')"
      ]
     },
     "execution_count": 1,
     "metadata": {},
     "output_type": "execute_result"
    }
   ],
   "source": [
    "import socket\n",
    "\n",
    "NB='test2'\n",
    "DESCRIPTION='test notebook'\n",
    "HOST = socket.gethostname()\n",
    "HOST, NB"
   ]
  },
  {
   "cell_type": "code",
   "execution_count": 2,
   "metadata": {},
   "outputs": [
    {
     "name": "stdout",
     "output_type": "stream",
     "text": [
      "Sat Mar  4 16:04:16 2023       \n",
      "+-----------------------------------------------------------------------------+\n",
      "| NVIDIA-SMI 525.85.05    Driver Version: 525.85.05    CUDA Version: 12.0     |\n",
      "|-------------------------------+----------------------+----------------------+\n",
      "| GPU  Name        Persistence-M| Bus-Id        Disp.A | Volatile Uncorr. ECC |\n",
      "| Fan  Temp  Perf  Pwr:Usage/Cap|         Memory-Usage | GPU-Util  Compute M. |\n",
      "|                               |                      |               MIG M. |\n",
      "|===============================+======================+======================|\n",
      "|   0  NVIDIA GeForce ...  Off  | 00000000:0A:00.0  On |                  N/A |\n",
      "| 61%   62C    P2   119W / 350W |   1864MiB / 24576MiB |     16%      Default |\n",
      "|                               |                      |                  N/A |\n",
      "+-------------------------------+----------------------+----------------------+\n",
      "                                                                               \n",
      "+-----------------------------------------------------------------------------+\n",
      "| Processes:                                                                  |\n",
      "|  GPU   GI   CI        PID   Type   Process name                  GPU Memory |\n",
      "|        ID   ID                                                   Usage      |\n",
      "|=============================================================================|\n",
      "+-----------------------------------------------------------------------------+\n"
     ]
    }
   ],
   "source": [
    "!nvidia-smi"
   ]
  },
  {
   "cell_type": "code",
   "execution_count": 3,
   "metadata": {
    "_cell_guid": "cb66dccf-f288-4344-a4a7-2d5474f5c0bd",
    "_uuid": "65968c2b-6aff-41eb-a0c7-0c60069a7038"
   },
   "outputs": [],
   "source": [
    "import pandas as pd\n",
    "import matplotlib.pyplot as plt\n",
    "import torch\n",
    "import transformers\n",
    "import torch.optim as optim\n",
    "import torch\n",
    "from torch.utils.data import Dataset, DataLoader\n",
    "import torch.nn as nn\n",
    "from sklearn.model_selection import StratifiedKFold, StratifiedGroupKFold, KFold\n",
    "from transformers import DistilBertModel, DistilBertTokenizer\n",
    "from sklearn import metrics\n",
    "from sklearn.metrics import roc_auc_score\n",
    "from tqdm import tqdm\n",
    "from collections import OrderedDict\n",
    "import numpy as np\n",
    "import re\n",
    "from pathlib import Path\n",
    "import pickle\n",
    "from transformers import AutoTokenizer, AutoConfig\n",
    "import random\n",
    "from logzero import logger\n",
    "import os\n",
    "import gc\n",
    "import warnings\n",
    "warnings.simplefilter('ignore')\n",
    "\n",
    "ROOT_DIR = Path('../')\n",
    "DATA_DIR = ROOT_DIR / 'data'\n",
    "OUTPUT_DIR = Path('../') / 'output'\n",
    "CP_DIR = OUTPUT_DIR / 'checkpoint'\n",
    "\n",
    "def to_pickle(filename, obj):\n",
    "    with open(filename, mode='wb') as f:\n",
    "        pickle.dump(obj, f)\n",
    "        \n",
    "def unpickle(filename):\n",
    "    with open(filename, mode='rb') as fo:\n",
    "        p = pickle.load(fo)\n",
    "    return p "
   ]
  },
  {
   "cell_type": "code",
   "execution_count": 4,
   "metadata": {},
   "outputs": [
    {
     "name": "stdout",
     "output_type": "stream",
     "text": [
      "cpu count: 32\n"
     ]
    }
   ],
   "source": [
    "import multiprocessing\n",
    "print('cpu count:', multiprocessing.cpu_count())\n",
    "\n",
    "class Config:\n",
    "    N_LABEL = 1\n",
    "    N_FOLD = 5\n",
    "    RANDOM_SATE = 42\n",
    "    LR = 1.0e-05\n",
    "    MAX_LR = 3.0e-5\n",
    "    PATIENCE = 10\n",
    "    EPOCH = 3\n",
    "    BATCH_SIZE = 128\n",
    "    SKIP_EVALUATE_NUM = 0\n",
    "    MODEL_NAME = 'huggingface/CodeBERTa-small-v1'\n",
    "    RUN_FOLD_COUNT = 10\n",
    "    T_MAX=20\n",
    "    ETA_MIN=3.0e-7\n",
    "    SCHEDULER_GAMMA=1.0\n",
    "    ACCUMULATION_STEMP=2\n",
    "    NUM_WORKERS=multiprocessing.cpu_count()\n",
    "    \n",
    "    MAX_LEN = 256\n",
    "    \n",
    "def seed_everything(seed=1234):\n",
    "    random.seed(seed)\n",
    "    os.environ['PYTHONHASHSEED'] = str(seed)\n",
    "    np.random.seed(seed)\n",
    "    torch.manual_seed(seed)\n",
    "    torch.cuda.manual_seed(seed)\n",
    "    torch.backends.cudnn.deterministic = True\n",
    "    torch.backends.cudnn.benchmark = False\n",
    "\n",
    "seed_everything(seed=Config.RANDOM_SATE)"
   ]
  },
  {
   "cell_type": "code",
   "execution_count": 5,
   "metadata": {},
   "outputs": [
    {
     "data": {
      "text/plain": [
       "(7613, 5)"
      ]
     },
     "metadata": {},
     "output_type": "display_data"
    },
    {
     "data": {
      "text/plain": [
       "(3263, 4)"
      ]
     },
     "metadata": {},
     "output_type": "display_data"
    },
    {
     "data": {
      "text/html": [
       "<div>\n",
       "<style scoped>\n",
       "    .dataframe tbody tr th:only-of-type {\n",
       "        vertical-align: middle;\n",
       "    }\n",
       "\n",
       "    .dataframe tbody tr th {\n",
       "        vertical-align: top;\n",
       "    }\n",
       "\n",
       "    .dataframe thead th {\n",
       "        text-align: right;\n",
       "    }\n",
       "</style>\n",
       "<table border=\"1\" class=\"dataframe\">\n",
       "  <thead>\n",
       "    <tr style=\"text-align: right;\">\n",
       "      <th></th>\n",
       "      <th>id</th>\n",
       "      <th>keyword</th>\n",
       "      <th>location</th>\n",
       "      <th>text</th>\n",
       "      <th>target</th>\n",
       "    </tr>\n",
       "  </thead>\n",
       "  <tbody>\n",
       "    <tr>\n",
       "      <th>0</th>\n",
       "      <td>1</td>\n",
       "      <td>NaN</td>\n",
       "      <td>NaN</td>\n",
       "      <td>Our Deeds are the Reason of this #earthquake M...</td>\n",
       "      <td>1</td>\n",
       "    </tr>\n",
       "    <tr>\n",
       "      <th>1</th>\n",
       "      <td>4</td>\n",
       "      <td>NaN</td>\n",
       "      <td>NaN</td>\n",
       "      <td>Forest fire near La Ronge Sask. Canada</td>\n",
       "      <td>1</td>\n",
       "    </tr>\n",
       "    <tr>\n",
       "      <th>2</th>\n",
       "      <td>5</td>\n",
       "      <td>NaN</td>\n",
       "      <td>NaN</td>\n",
       "      <td>All residents asked to 'shelter in place' are ...</td>\n",
       "      <td>1</td>\n",
       "    </tr>\n",
       "  </tbody>\n",
       "</table>\n",
       "</div>"
      ],
      "text/plain": [
       "   id keyword location                                               text  \\\n",
       "0   1     NaN      NaN  Our Deeds are the Reason of this #earthquake M...   \n",
       "1   4     NaN      NaN             Forest fire near La Ronge Sask. Canada   \n",
       "2   5     NaN      NaN  All residents asked to 'shelter in place' are ...   \n",
       "\n",
       "   target  \n",
       "0       1  \n",
       "1       1  \n",
       "2       1  "
      ]
     },
     "metadata": {},
     "output_type": "display_data"
    },
    {
     "data": {
      "text/html": [
       "<div>\n",
       "<style scoped>\n",
       "    .dataframe tbody tr th:only-of-type {\n",
       "        vertical-align: middle;\n",
       "    }\n",
       "\n",
       "    .dataframe tbody tr th {\n",
       "        vertical-align: top;\n",
       "    }\n",
       "\n",
       "    .dataframe thead th {\n",
       "        text-align: right;\n",
       "    }\n",
       "</style>\n",
       "<table border=\"1\" class=\"dataframe\">\n",
       "  <thead>\n",
       "    <tr style=\"text-align: right;\">\n",
       "      <th></th>\n",
       "      <th>id</th>\n",
       "      <th>keyword</th>\n",
       "      <th>location</th>\n",
       "      <th>text</th>\n",
       "    </tr>\n",
       "  </thead>\n",
       "  <tbody>\n",
       "    <tr>\n",
       "      <th>0</th>\n",
       "      <td>0</td>\n",
       "      <td>NaN</td>\n",
       "      <td>NaN</td>\n",
       "      <td>Just happened a terrible car crash</td>\n",
       "    </tr>\n",
       "    <tr>\n",
       "      <th>1</th>\n",
       "      <td>2</td>\n",
       "      <td>NaN</td>\n",
       "      <td>NaN</td>\n",
       "      <td>Heard about #earthquake is different cities, s...</td>\n",
       "    </tr>\n",
       "    <tr>\n",
       "      <th>2</th>\n",
       "      <td>3</td>\n",
       "      <td>NaN</td>\n",
       "      <td>NaN</td>\n",
       "      <td>there is a forest fire at spot pond, geese are...</td>\n",
       "    </tr>\n",
       "  </tbody>\n",
       "</table>\n",
       "</div>"
      ],
      "text/plain": [
       "   id keyword location                                               text\n",
       "0   0     NaN      NaN                 Just happened a terrible car crash\n",
       "1   2     NaN      NaN  Heard about #earthquake is different cities, s...\n",
       "2   3     NaN      NaN  there is a forest fire at spot pond, geese are..."
      ]
     },
     "metadata": {},
     "output_type": "display_data"
    }
   ],
   "source": [
    "train_df = pd.read_csv(DATA_DIR / 'tweet_train.csv')\n",
    "#_train_df = train_df[['code', 'label']]\n",
    "#_train_df.columns = ['text', 'target']\n",
    "\n",
    "test_df = pd.read_csv(DATA_DIR / 'tweet_test.csv')\n",
    "#_test_df = test_df[['code']]\n",
    "#_test_df.columns = ['text']\n",
    "\n",
    "display(train_df.shape)\n",
    "display(test_df.shape)\n",
    "\n",
    "display(train_df.head(3))\n",
    "display(test_df.head(3))"
   ]
  },
  {
   "cell_type": "code",
   "execution_count": 6,
   "metadata": {},
   "outputs": [],
   "source": [
    "tokenizer = AutoTokenizer.from_pretrained(\n",
    "    Config.MODEL_NAME,\n",
    "    do_lower_case=True,\n",
    "    truncation=True\n",
    ")"
   ]
  },
  {
   "cell_type": "code",
   "execution_count": 7,
   "metadata": {},
   "outputs": [],
   "source": [
    "class BERTDataset(Dataset):\n",
    "    def __init__(self, dataframe, tokenizer, max_len, data_type='train'):\n",
    "        self.data = dataframe\n",
    "        self.tokenizer = tokenizer\n",
    "        self.max_len = max_len\n",
    "        self.data_type = data_type\n",
    "        \n",
    "    def __getitem__(self, index):\n",
    "        txt = str(self.data.text[index])\n",
    "        inputs = self.tokenizer.encode_plus(\n",
    "            txt,\n",
    "            None,\n",
    "            add_special_tokens=True,\n",
    "            max_length=self.max_len,\n",
    "            pad_to_max_length=True,\n",
    "            return_token_type_ids=True,\n",
    "            truncation=True\n",
    "        )\n",
    "        ids = inputs['input_ids']\n",
    "        mask = inputs['attention_mask']\n",
    "        \n",
    "        if self.data_type == 'test':\n",
    "            targets = -1\n",
    "        else:\n",
    "            targets = torch.tensor(self.data.target[index], dtype=torch.float)\n",
    "        \n",
    "        return {\n",
    "            'ids': torch.tensor(ids, dtype=torch.long),\n",
    "            'mask': torch.tensor(mask, dtype=torch.long),\n",
    "            'targets': targets\n",
    "        }\n",
    "        \n",
    "    def __len__(self):\n",
    "        return len(self.data)"
   ]
  },
  {
   "cell_type": "code",
   "execution_count": 8,
   "metadata": {},
   "outputs": [],
   "source": [
    "class BERTClass(torch.nn.Module):\n",
    "    def __init__(self):\n",
    "        super().__init__()\n",
    "        self.config = AutoConfig.from_pretrained(Config.MODEL_NAME)\n",
    "        self.bert = transformers.AutoModel.from_pretrained(Config.MODEL_NAME)\n",
    "        self.drop = torch.nn.Dropout(0.3)\n",
    "        self.out = torch.nn.Linear(self.config.hidden_size, 1)\n",
    "    \n",
    "    def forward(self, ids, mask):\n",
    "        distilbert_output = self.bert(ids, mask)\n",
    "        hidden_state = distilbert_output[0]  # (bs, seq_len, dim)\n",
    "        pooled_output = hidden_state[:, 0]  # (bs, dim)\n",
    "        output_1 = self.drop(pooled_output)\n",
    "        output = self.out(output_1)\n",
    "        return output"
   ]
  },
  {
   "cell_type": "code",
   "execution_count": 9,
   "metadata": {},
   "outputs": [],
   "source": [
    "class EarlyStopping:\n",
    "    def __init__(self, patience=7, verbose=False, delta=0, fold=''):\n",
    "        self.patience = patience\n",
    "        self.verbose = verbose\n",
    "        self.counter = 0\n",
    "        self.best_score = None\n",
    "        self.early_stop = False\n",
    "        self.val_loss_min = np.Inf\n",
    "        self.delta = delta\n",
    "\n",
    "    def __call__(self, val_loss, model):\n",
    "\n",
    "        score = -val_loss\n",
    "\n",
    "        if self.best_score is None:\n",
    "            self.best_score = score\n",
    "            self.save_checkpoint(val_loss, model)\n",
    "        elif score < self.best_score + self.delta:\n",
    "            self.counter += 1\n",
    "            logger.info(f'EarlyStopping counter: {self.counter} out of {self.patience}')\n",
    "            if self.counter >= self.patience:\n",
    "                self.early_stop = True\n",
    "        else:\n",
    "            self.best_score = score\n",
    "            self.save_checkpoint(val_loss, model)\n",
    "            self.counter = 0\n",
    "\n",
    "    def save_checkpoint(self, val_loss, model):\n",
    "        '''Saves model when validation loss decrease.'''\n",
    "        if self.verbose:\n",
    "            logger.info(f'Validation loss decreased ({self.val_loss_min:.6f} --> {val_loss:.6f}).  Saving model ...')\n",
    "            \n",
    "        #if os.path.exists(CP_DIR / f'checkpoint_{NB}_{fold}.pt'):\n",
    "        #    shutil.move(CP_DIR / f'checkpoint_{NB}_{fold}.pt', CP_DIR / f'checkpoint_{NB}_{fold}-2.pt')\n",
    "        torch.save(model.state_dict(), CP_DIR / f'{HOST}_{NB}_checkpoint_{fold}.pt')\n",
    "        self.val_loss_min = val_loss"
   ]
  },
  {
   "cell_type": "code",
   "execution_count": 10,
   "metadata": {},
   "outputs": [
    {
     "data": {
      "text/plain": [
       "device(type='cuda')"
      ]
     },
     "execution_count": 10,
     "metadata": {},
     "output_type": "execute_result"
    }
   ],
   "source": [
    "device = torch.device(\"cuda\" if torch.cuda.is_available() else \"cpu\")\n",
    "device"
   ]
  },
  {
   "cell_type": "code",
   "execution_count": null,
   "metadata": {},
   "outputs": [],
   "source": []
  },
  {
   "cell_type": "code",
   "execution_count": 11,
   "metadata": {},
   "outputs": [
    {
     "name": "stdout",
     "output_type": "stream",
     "text": [
      "====== 0 ======\n"
     ]
    },
    {
     "name": "stderr",
     "output_type": "stream",
     "text": [
      "Some weights of the model checkpoint at huggingface/CodeBERTa-small-v1 were not used when initializing RobertaModel: ['lm_head.dense.bias', 'lm_head.bias', 'lm_head.decoder.weight', 'lm_head.dense.weight', 'lm_head.decoder.bias', 'lm_head.layer_norm.weight', 'lm_head.layer_norm.bias']\n",
      "- This IS expected if you are initializing RobertaModel from the checkpoint of a model trained on another task or with another architecture (e.g. initializing a BertForSequenceClassification model from a BertForPreTraining model).\n",
      "- This IS NOT expected if you are initializing RobertaModel from the checkpoint of a model that you expect to be exactly identical (initializing a BertForSequenceClassification model from a BertForSequenceClassification model).\n",
      "100% 47/47 [00:22<00:00,  2.05it/s, epoch=0, loss=0.6233]\n",
      "100% 12/12 [00:02<00:00,  5.34it/s]\n",
      "[I 230304 16:04:58 <timed exec>:80] auc:0.7719\n",
      "[I 230304 16:04:58 3624789395:31] Validation loss decreased (inf --> -0.771944).  Saving model ...\n",
      "100% 47/47 [00:23<00:00,  2.02it/s, epoch=1, loss=0.5130]\n",
      "100% 12/12 [00:02<00:00,  5.64it/s]\n",
      "[I 230304 16:05:28 <timed exec>:80] auc:0.7885\n",
      "[I 230304 16:05:28 3624789395:31] Validation loss decreased (-0.771944 --> -0.788530).  Saving model ...\n",
      "100% 47/47 [00:23<00:00,  2.02it/s, epoch=2, loss=0.5894]\n",
      "100% 12/12 [00:02<00:00,  5.42it/s]\n",
      "[I 230304 16:05:58 <timed exec>:80] auc:0.8064\n",
      "[I 230304 16:05:58 3624789395:31] Validation loss decreased (-0.788530 --> -0.806431).  Saving model ...\n"
     ]
    },
    {
     "data": {
      "image/png": "[encoded data removed]",
      "text/plain": [
       "<Figure size 432x288 with 2 Axes>"
      ]
     },
     "metadata": {
      "needs_background": "light"
     },
     "output_type": "display_data"
    },
    {
     "name": "stdout",
     "output_type": "stream",
     "text": [
      "====== 1 ======\n"
     ]
    },
    {
     "name": "stderr",
     "output_type": "stream",
     "text": [
      "Some weights of the model checkpoint at huggingface/CodeBERTa-small-v1 were not used when initializing RobertaModel: ['lm_head.dense.bias', 'lm_head.bias', 'lm_head.decoder.weight', 'lm_head.dense.weight', 'lm_head.decoder.bias', 'lm_head.layer_norm.weight', 'lm_head.layer_norm.bias']\n",
      "- This IS expected if you are initializing RobertaModel from the checkpoint of a model trained on another task or with another architecture (e.g. initializing a BertForSequenceClassification model from a BertForPreTraining model).\n",
      "- This IS NOT expected if you are initializing RobertaModel from the checkpoint of a model that you expect to be exactly identical (initializing a BertForSequenceClassification model from a BertForSequenceClassification model).\n",
      "100% 47/47 [00:23<00:00,  2.03it/s, epoch=0, loss=0.6901]\n",
      "100% 12/12 [00:02<00:00,  5.50it/s]\n",
      "[I 230304 16:06:31 <timed exec>:80] auc:0.7662\n",
      "[I 230304 16:06:31 3624789395:31] Validation loss decreased (inf --> -0.766220).  Saving model ...\n",
      "100% 47/47 [00:23<00:00,  2.01it/s, epoch=1, loss=0.5119]\n",
      "100% 12/12 [00:02<00:00,  5.70it/s]\n",
      "[I 230304 16:07:00 <timed exec>:80] auc:0.7937\n",
      "[I 230304 16:07:00 3624789395:31] Validation loss decreased (-0.766220 --> -0.793712).  Saving model ...\n",
      "100% 47/47 [00:22<00:00,  2.05it/s, epoch=2, loss=0.4750]\n",
      "100% 12/12 [00:02<00:00,  5.61it/s]\n",
      "[I 230304 16:07:30 <timed exec>:80] auc:0.8125\n",
      "[I 230304 16:07:30 3624789395:31] Validation loss decreased (-0.793712 --> -0.812520).  Saving model ...\n"
     ]
    },
    {
     "data": {
      "image/png": "[encoded data removed]",
      "text/plain": [
       "<Figure size 432x288 with 2 Axes>"
      ]
     },
     "metadata": {
      "needs_background": "light"
     },
     "output_type": "display_data"
    },
    {
     "name": "stdout",
     "output_type": "stream",
     "text": [
      "====== 2 ======\n"
     ]
    },
    {
     "name": "stderr",
     "output_type": "stream",
     "text": [
      "Some weights of the model checkpoint at huggingface/CodeBERTa-small-v1 were not used when initializing RobertaModel: ['lm_head.dense.bias', 'lm_head.bias', 'lm_head.decoder.weight', 'lm_head.dense.weight', 'lm_head.decoder.bias', 'lm_head.layer_norm.weight', 'lm_head.layer_norm.bias']\n",
      "- This IS expected if you are initializing RobertaModel from the checkpoint of a model trained on another task or with another architecture (e.g. initializing a BertForSequenceClassification model from a BertForPreTraining model).\n",
      "- This IS NOT expected if you are initializing RobertaModel from the checkpoint of a model that you expect to be exactly identical (initializing a BertForSequenceClassification model from a BertForSequenceClassification model).\n",
      "100% 47/47 [00:22<00:00,  2.08it/s, epoch=0, loss=0.5454]\n",
      "100% 12/12 [00:02<00:00,  5.78it/s]\n",
      "[I 230304 16:08:02 <timed exec>:80] auc:0.7558\n",
      "[I 230304 16:08:02 3624789395:31] Validation loss decreased (inf --> -0.755777).  Saving model ...\n",
      "100% 47/47 [00:22<00:00,  2.09it/s, epoch=1, loss=0.5117]\n",
      "100% 12/12 [00:02<00:00,  5.77it/s]\n",
      "[I 230304 16:08:31 <timed exec>:80] auc:0.7950\n",
      "[I 230304 16:08:31 3624789395:31] Validation loss decreased (-0.755777 --> -0.795013).  Saving model ...\n",
      "100% 47/47 [00:22<00:00,  2.11it/s, epoch=2, loss=0.5042]\n",
      "100% 12/12 [00:02<00:00,  5.90it/s]\n",
      "[I 230304 16:08:59 <timed exec>:80] auc:0.8110\n",
      "[I 230304 16:08:59 3624789395:31] Validation loss decreased (-0.795013 --> -0.810972).  Saving model ...\n"
     ]
    },
    {
     "data": {
      "image/png": "[encoded data removed]",
      "text/plain": [
       "<Figure size 432x288 with 2 Axes>"
      ]
     },
     "metadata": {
      "needs_background": "light"
     },
     "output_type": "display_data"
    },
    {
     "name": "stdout",
     "output_type": "stream",
     "text": [
      "====== 3 ======\n"
     ]
    },
    {
     "name": "stderr",
     "output_type": "stream",
     "text": [
      "Some weights of the model checkpoint at huggingface/CodeBERTa-small-v1 were not used when initializing RobertaModel: ['lm_head.dense.bias', 'lm_head.bias', 'lm_head.decoder.weight', 'lm_head.dense.weight', 'lm_head.decoder.bias', 'lm_head.layer_norm.weight', 'lm_head.layer_norm.bias']\n",
      "- This IS expected if you are initializing RobertaModel from the checkpoint of a model trained on another task or with another architecture (e.g. initializing a BertForSequenceClassification model from a BertForPreTraining model).\n",
      "- This IS NOT expected if you are initializing RobertaModel from the checkpoint of a model that you expect to be exactly identical (initializing a BertForSequenceClassification model from a BertForSequenceClassification model).\n",
      "100% 47/47 [00:22<00:00,  2.11it/s, epoch=0, loss=0.6012]\n",
      "100% 12/12 [00:02<00:00,  5.88it/s]\n",
      "[I 230304 16:09:31 <timed exec>:80] auc:0.7529\n",
      "[I 230304 16:09:31 3624789395:31] Validation loss decreased (inf --> -0.752937).  Saving model ...\n",
      "100% 47/47 [00:22<00:00,  2.11it/s, epoch=1, loss=0.6233]\n",
      "100% 12/12 [00:02<00:00,  5.86it/s]\n",
      "[I 230304 16:09:59 <timed exec>:80] auc:0.7842\n",
      "[I 230304 16:09:59 3624789395:31] Validation loss decreased (-0.752937 --> -0.784172).  Saving model ...\n",
      "100% 47/47 [00:22<00:00,  2.12it/s, epoch=2, loss=0.5213]\n",
      "100% 12/12 [00:02<00:00,  5.86it/s]\n",
      "[I 230304 16:10:28 <timed exec>:80] auc:0.7976\n",
      "[I 230304 16:10:28 3624789395:31] Validation loss decreased (-0.784172 --> -0.797615).  Saving model ...\n"
     ]
    },
    {
     "data": {
      "image/png": "[encoded data removed]",
      "text/plain": [
       "<Figure size 432x288 with 2 Axes>"
      ]
     },
     "metadata": {
      "needs_background": "light"
     },
     "output_type": "display_data"
    },
    {
     "name": "stdout",
     "output_type": "stream",
     "text": [
      "====== 4 ======\n"
     ]
    },
    {
     "name": "stderr",
     "output_type": "stream",
     "text": [
      "Some weights of the model checkpoint at huggingface/CodeBERTa-small-v1 were not used when initializing RobertaModel: ['lm_head.dense.bias', 'lm_head.bias', 'lm_head.decoder.weight', 'lm_head.dense.weight', 'lm_head.decoder.bias', 'lm_head.layer_norm.weight', 'lm_head.layer_norm.bias']\n",
      "- This IS expected if you are initializing RobertaModel from the checkpoint of a model trained on another task or with another architecture (e.g. initializing a BertForSequenceClassification model from a BertForPreTraining model).\n",
      "- This IS NOT expected if you are initializing RobertaModel from the checkpoint of a model that you expect to be exactly identical (initializing a BertForSequenceClassification model from a BertForSequenceClassification model).\n",
      "100% 47/47 [00:22<00:00,  2.11it/s, epoch=0, loss=0.6971]\n",
      "100% 12/12 [00:02<00:00,  5.91it/s]\n",
      "[I 230304 16:11:00 <timed exec>:80] auc:0.7617\n",
      "[I 230304 16:11:00 3624789395:31] Validation loss decreased (inf --> -0.761666).  Saving model ...\n",
      "100% 47/47 [00:22<00:00,  2.11it/s, epoch=1, loss=0.5956]\n",
      "100% 12/12 [00:02<00:00,  5.90it/s]\n",
      "[I 230304 16:11:28 <timed exec>:80] auc:0.7871\n",
      "[I 230304 16:11:28 3624789395:31] Validation loss decreased (-0.761666 --> -0.787139).  Saving model ...\n",
      "100% 47/47 [00:22<00:00,  2.12it/s, epoch=2, loss=0.5374]\n",
      "100% 12/12 [00:02<00:00,  5.89it/s]\n",
      "[I 230304 16:11:56 <timed exec>:80] auc:0.8075\n",
      "[I 230304 16:11:56 3624789395:31] Validation loss decreased (-0.787139 --> -0.807487).  Saving model ...\n"
     ]
    },
    {
     "data": {
      "image/png": "[encoded data removed]",
      "text/plain": [
       "<Figure size 432x288 with 2 Axes>"
      ]
     },
     "metadata": {
      "needs_background": "light"
     },
     "output_type": "display_data"
    },
    {
     "name": "stdout",
     "output_type": "stream",
     "text": [
      "CPU times: user 6min 19s, sys: 1min 12s, total: 7min 31s\n",
      "Wall time: 7min 32s\n"
     ]
    }
   ],
   "source": [
    "%%time\n",
    "skf = StratifiedKFold(n_splits=Config.N_FOLD, random_state=Config.RANDOM_SATE, shuffle=True)\n",
    "for fold, (train_index, test_index) in enumerate(skf.split(train_df, train_df['target'])):\n",
    "    print(f'====== {fold} ======')\n",
    "\n",
    "    net = BERTClass()\n",
    "    net.to(device)\n",
    "\n",
    "    criterion = nn.BCEWithLogitsLoss()\n",
    "    optimizer = optim.AdamW(net.parameters(), lr=Config.LR, weight_decay=1.0e-02)    \n",
    "\n",
    "    _train, _valid = train_df.iloc[train_index].reset_index(drop=True), train_df.iloc[test_index].reset_index(drop=True)\n",
    "\n",
    "    training_set = BERTDataset(_train, tokenizer, Config.MAX_LEN, data_type='train')\n",
    "    validation_set = BERTDataset(_valid, tokenizer, Config.MAX_LEN, data_type='valid')\n",
    "\n",
    "    trainloader = DataLoader(training_set, batch_size=Config.BATCH_SIZE, pin_memory=True, shuffle=True, drop_last=True, num_workers=Config.NUM_WORKERS)\n",
    "    validloader = DataLoader(validation_set, batch_size=Config.BATCH_SIZE, pin_memory=True, num_workers=Config.NUM_WORKERS)\n",
    "\n",
    "    early_stopping = EarlyStopping(patience=Config.PATIENCE, verbose=True, fold=fold)\n",
    "    # scheduler = torch.optim.lr_scheduler.OneCycleLR(optimizer, epochs=Config.EPOCH, steps_per_epoch=len(trainloader), max_lr=Config.MAX_LR, pct_start= 0.1, anneal_strategy='cos', div_factor= 1.0e+3, final_div_factor= 1.0e+3)\n",
    "    # scheduler = torch.optim.lr_scheduler.CosineAnnealingLR(optimizer, T_max=Config.T_MAX, eta_min=Config.ETA_MIN)\n",
    "    # scheduler = CosineAnnealingWarmupRestarts(optimizer, first_cycle_steps=int((len(trainloader) * Config.EPOCH) / 5), cycle_mult=1.0, max_lr=Config.LR, min_lr=Config.ETA_MIN, warmup_steps=int((len(trainloader) * Config.EPOCH) / 50), gamma=Config.SCHEDULER_GAMMA)\n",
    "\n",
    "    val_losses = []\n",
    "    val_metrics = []\n",
    "    train_metrics = []\n",
    "    lrs = []\n",
    "\n",
    "    for epoch in range(Config.EPOCH):\n",
    "\n",
    "        running_loss = 0.0\n",
    "        train_rmse_list = []\n",
    "        n_iter = len(trainloader)\n",
    "        with tqdm(enumerate(trainloader), total=n_iter) as pbar:\n",
    "            for i, (data) in pbar:\n",
    "\n",
    "                net.train()\n",
    "\n",
    "                ids = data['ids'].to(device, dtype = torch.long)\n",
    "                mask = data['mask'].to(device, dtype = torch.long)\n",
    "                targets = data['targets'].to(device, dtype = torch.float)\n",
    "\n",
    "\n",
    "                outputs = outputs = net(ids, mask).squeeze()\n",
    "\n",
    "                loss = criterion(outputs, targets)\n",
    "\n",
    "                loss.backward()\n",
    "                optimizer.step()\n",
    "                net.zero_grad()     \n",
    "\n",
    "                # print statistics\n",
    "                running_loss += loss.item()\n",
    "\n",
    "                outputs = outputs.sigmoid()\n",
    "\n",
    "                pbar.set_postfix(OrderedDict(\n",
    "                    epoch=\"{:>10}\".format(epoch), loss=\"{:.4f}\".format(loss.item())#, auc='{:.4f}'.format(auc)\n",
    "                ))\n",
    "                #scheduler.step()\n",
    "\n",
    "        val_loss = 0.0\n",
    "        val_lwlrap = 0.0\n",
    "        val_preds = []\n",
    "        n_iter_val = len(validloader)\n",
    "        for i, (data) in tqdm(enumerate(validloader), total=n_iter_val):\n",
    "            net.eval()\n",
    "\n",
    "            with torch.no_grad():\n",
    "\n",
    "                ids = data['ids'].to(device, dtype = torch.long)\n",
    "                mask = data['mask'].to(device, dtype = torch.long)\n",
    "                targets = data['targets'].to(device, dtype = torch.float)\n",
    "                outputs = outputs = net(ids, mask).squeeze()\n",
    "                outputs_np = outputs.to('cpu').detach().numpy().copy()\n",
    "                val_preds.append(outputs_np)\n",
    "\n",
    "\n",
    "        auc = roc_auc_score(_valid['target'], np.hstack(val_preds))\n",
    "        logger.info('auc:{:.4f}'.format(auc))\n",
    "\n",
    "        lr = optimizer.param_groups[0]['lr']\n",
    "\n",
    "        val_metrics.append(auc)\n",
    "        train_metrics.append(np.mean(train_rmse_list))\n",
    "        lrs.append(lr)\n",
    "\n",
    "        early_stopping(-auc, net)\n",
    "\n",
    "        if early_stopping.early_stop:\n",
    "            logger.info(\"Early stopping\")\n",
    "            #net.load_state_dict(torch.load(CP_DIR / f'checkpoint_{HOST}_{NB}_{fold}.pt'))\n",
    "            break\n",
    "\n",
    "    fig = plt.figure()\n",
    "    ax1 = fig.add_subplot(111)\n",
    "    ax1.plot(lrs)\n",
    "    ax2 = ax1.twinx()\n",
    "    ax2.plot(val_metrics)\n",
    "    plt.show()\n",
    "\n",
    "    del net, validloader, trainloader, training_set, validation_set\n",
    "    torch.cuda.empty_cache()\n",
    "    gc.collect()\n"
   ]
  },
  {
   "cell_type": "code",
   "execution_count": null,
   "metadata": {},
   "outputs": [],
   "source": []
  },
  {
   "cell_type": "code",
   "execution_count": 16,
   "metadata": {},
   "outputs": [
    {
     "name": "stdout",
     "output_type": "stream",
     "text": [
      "====== 0 ======\n"
     ]
    },
    {
     "name": "stderr",
     "output_type": "stream",
     "text": [
      "Some weights of the model checkpoint at huggingface/CodeBERTa-small-v1 were not used when initializing RobertaModel: ['lm_head.dense.bias', 'lm_head.bias', 'lm_head.decoder.weight', 'lm_head.dense.weight', 'lm_head.decoder.bias', 'lm_head.layer_norm.weight', 'lm_head.layer_norm.bias']\n",
      "- This IS expected if you are initializing RobertaModel from the checkpoint of a model trained on another task or with another architecture (e.g. initializing a BertForSequenceClassification model from a BertForPreTraining model).\n",
      "- This IS NOT expected if you are initializing RobertaModel from the checkpoint of a model that you expect to be exactly identical (initializing a BertForSequenceClassification model from a BertForSequenceClassification model).\n",
      "100% 12/12 [00:03<00:00,  3.47it/s]\n"
     ]
    },
    {
     "name": "stdout",
     "output_type": "stream",
     "text": [
      "0.8064305062088859\n",
      "====== 1 ======\n"
     ]
    },
    {
     "name": "stderr",
     "output_type": "stream",
     "text": [
      "Some weights of the model checkpoint at huggingface/CodeBERTa-small-v1 were not used when initializing RobertaModel: ['lm_head.dense.bias', 'lm_head.bias', 'lm_head.decoder.weight', 'lm_head.dense.weight', 'lm_head.decoder.bias', 'lm_head.layer_norm.weight', 'lm_head.layer_norm.bias']\n",
      "- This IS expected if you are initializing RobertaModel from the checkpoint of a model trained on another task or with another architecture (e.g. initializing a BertForSequenceClassification model from a BertForPreTraining model).\n",
      "- This IS NOT expected if you are initializing RobertaModel from the checkpoint of a model that you expect to be exactly identical (initializing a BertForSequenceClassification model from a BertForSequenceClassification model).\n",
      "100% 12/12 [00:03<00:00,  3.50it/s]\n"
     ]
    },
    {
     "name": "stdout",
     "output_type": "stream",
     "text": [
      "0.8125195750326396\n",
      "====== 2 ======\n"
     ]
    },
    {
     "name": "stderr",
     "output_type": "stream",
     "text": [
      "Some weights of the model checkpoint at huggingface/CodeBERTa-small-v1 were not used when initializing RobertaModel: ['lm_head.dense.bias', 'lm_head.bias', 'lm_head.decoder.weight', 'lm_head.dense.weight', 'lm_head.decoder.bias', 'lm_head.layer_norm.weight', 'lm_head.layer_norm.bias']\n",
      "- This IS expected if you are initializing RobertaModel from the checkpoint of a model trained on another task or with another architecture (e.g. initializing a BertForSequenceClassification model from a BertForPreTraining model).\n",
      "- This IS NOT expected if you are initializing RobertaModel from the checkpoint of a model that you expect to be exactly identical (initializing a BertForSequenceClassification model from a BertForSequenceClassification model).\n",
      "100% 12/12 [00:03<00:00,  3.52it/s]\n"
     ]
    },
    {
     "name": "stdout",
     "output_type": "stream",
     "text": [
      "0.8109720477331672\n",
      "====== 3 ======\n"
     ]
    },
    {
     "name": "stderr",
     "output_type": "stream",
     "text": [
      "Some weights of the model checkpoint at huggingface/CodeBERTa-small-v1 were not used when initializing RobertaModel: ['lm_head.dense.bias', 'lm_head.bias', 'lm_head.decoder.weight', 'lm_head.dense.weight', 'lm_head.decoder.bias', 'lm_head.layer_norm.weight', 'lm_head.layer_norm.bias']\n",
      "- This IS expected if you are initializing RobertaModel from the checkpoint of a model trained on another task or with another architecture (e.g. initializing a BertForSequenceClassification model from a BertForPreTraining model).\n",
      "- This IS NOT expected if you are initializing RobertaModel from the checkpoint of a model that you expect to be exactly identical (initializing a BertForSequenceClassification model from a BertForSequenceClassification model).\n",
      "100% 12/12 [00:03<00:00,  3.52it/s]\n"
     ]
    },
    {
     "name": "stdout",
     "output_type": "stream",
     "text": [
      "0.79761464366747\n",
      "====== 4 ======\n"
     ]
    },
    {
     "name": "stderr",
     "output_type": "stream",
     "text": [
      "Some weights of the model checkpoint at huggingface/CodeBERTa-small-v1 were not used when initializing RobertaModel: ['lm_head.dense.bias', 'lm_head.bias', 'lm_head.decoder.weight', 'lm_head.dense.weight', 'lm_head.decoder.bias', 'lm_head.layer_norm.weight', 'lm_head.layer_norm.bias']\n",
      "- This IS expected if you are initializing RobertaModel from the checkpoint of a model trained on another task or with another architecture (e.g. initializing a BertForSequenceClassification model from a BertForPreTraining model).\n",
      "- This IS NOT expected if you are initializing RobertaModel from the checkpoint of a model that you expect to be exactly identical (initializing a BertForSequenceClassification model from a BertForSequenceClassification model).\n",
      "100% 12/12 [00:03<00:00,  3.53it/s]\n"
     ]
    },
    {
     "name": "stdout",
     "output_type": "stream",
     "text": [
      "0.8074865415239787\n",
      "CPU times: user 17 s, sys: 15.9 s, total: 33 s\n",
      "Wall time: 41.7 s\n"
     ]
    }
   ],
   "source": [
    "%%time\n",
    "cv_scores = {}\n",
    "oof = np.zeros(len(train_df))\n",
    "skf = StratifiedKFold(n_splits=Config.N_FOLD, random_state=Config.RANDOM_SATE, shuffle=True)\n",
    "for fold, (train_index, test_index) in enumerate(skf.split(train_df, train_df['target'])):\n",
    "    print(f'====== {fold} ======')\n",
    "\n",
    "    net = BERTClass()\n",
    "    net.to(device)\n",
    "\n",
    "    _train, _valid = train_df.iloc[train_index].reset_index(drop=True), train_df.iloc[test_index].reset_index(drop=True)\n",
    "    validation_set = BERTDataset(_valid, tokenizer, Config.MAX_LEN, data_type='valid')\n",
    "    validloader = DataLoader(validation_set, batch_size=Config.BATCH_SIZE, pin_memory=True, num_workers=Config.NUM_WORKERS)\n",
    "\n",
    "    preds = []\n",
    "    n_iter_val = len(validloader)\n",
    "    for i, (data) in tqdm(enumerate(validloader), total=n_iter_val):\n",
    "        net.load_state_dict(torch.load(CP_DIR / f'{HOST}_{NB}_checkpoint_{fold}.pt'))\n",
    "        net.eval()\n",
    "        \n",
    "        with torch.no_grad():\n",
    "\n",
    "            ids = data['ids'].to(device, dtype = torch.long)\n",
    "            mask = data['mask'].to(device, dtype = torch.long)\n",
    "            targets = data['targets'].to(device, dtype = torch.float)\n",
    "            outputs = outputs = net(ids, mask).squeeze()\n",
    "            outputs_np = outputs.to('cpu').detach().numpy().copy()\n",
    "            preds.append(outputs_np)\n",
    "\n",
    "\n",
    "    auc = roc_auc_score(_valid['target'], np.hstack(preds))\n",
    "    print(auc)\n",
    "\n",
    "    oof[test_index] = np.hstack(preds).reshape(-1)\n",
    "    cv_scores[f'cv{fold}'] = auc\n",
    "\n",
    "    del net, validation_set, validloader\n",
    "    torch.cuda.empty_cache()\n",
    "    gc.collect()\n"
   ]
  },
  {
   "cell_type": "code",
   "execution_count": 17,
   "metadata": {},
   "outputs": [
    {
     "data": {
      "text/plain": [
       "0.8048955471931287"
      ]
     },
     "execution_count": 17,
     "metadata": {},
     "output_type": "execute_result"
    }
   ],
   "source": [
    "roc_auc_score(train_df['target'], oof)"
   ]
  },
  {
   "cell_type": "code",
   "execution_count": 18,
   "metadata": {},
   "outputs": [
    {
     "name": "stderr",
     "output_type": "stream",
     "text": [
      "Some weights of the model checkpoint at huggingface/CodeBERTa-small-v1 were not used when initializing RobertaModel: ['lm_head.dense.bias', 'lm_head.bias', 'lm_head.decoder.weight', 'lm_head.dense.weight', 'lm_head.decoder.bias', 'lm_head.layer_norm.weight', 'lm_head.layer_norm.bias']\n",
      "- This IS expected if you are initializing RobertaModel from the checkpoint of a model trained on another task or with another architecture (e.g. initializing a BertForSequenceClassification model from a BertForPreTraining model).\n",
      "- This IS NOT expected if you are initializing RobertaModel from the checkpoint of a model that you expect to be exactly identical (initializing a BertForSequenceClassification model from a BertForSequenceClassification model).\n",
      "Some weights of the model checkpoint at huggingface/CodeBERTa-small-v1 were not used when initializing RobertaModel: ['lm_head.dense.bias', 'lm_head.bias', 'lm_head.decoder.weight', 'lm_head.dense.weight', 'lm_head.decoder.bias', 'lm_head.layer_norm.weight', 'lm_head.layer_norm.bias']\n",
      "- This IS expected if you are initializing RobertaModel from the checkpoint of a model trained on another task or with another architecture (e.g. initializing a BertForSequenceClassification model from a BertForPreTraining model).\n",
      "- This IS NOT expected if you are initializing RobertaModel from the checkpoint of a model that you expect to be exactly identical (initializing a BertForSequenceClassification model from a BertForSequenceClassification model).\n",
      "Some weights of the model checkpoint at huggingface/CodeBERTa-small-v1 were not used when initializing RobertaModel: ['lm_head.dense.bias', 'lm_head.bias', 'lm_head.decoder.weight', 'lm_head.dense.weight', 'lm_head.decoder.bias', 'lm_head.layer_norm.weight', 'lm_head.layer_norm.bias']\n",
      "- This IS expected if you are initializing RobertaModel from the checkpoint of a model trained on another task or with another architecture (e.g. initializing a BertForSequenceClassification model from a BertForPreTraining model).\n",
      "- This IS NOT expected if you are initializing RobertaModel from the checkpoint of a model that you expect to be exactly identical (initializing a BertForSequenceClassification model from a BertForSequenceClassification model).\n",
      "Some weights of the model checkpoint at huggingface/CodeBERTa-small-v1 were not used when initializing RobertaModel: ['lm_head.dense.bias', 'lm_head.bias', 'lm_head.decoder.weight', 'lm_head.dense.weight', 'lm_head.decoder.bias', 'lm_head.layer_norm.weight', 'lm_head.layer_norm.bias']\n",
      "- This IS expected if you are initializing RobertaModel from the checkpoint of a model trained on another task or with another architecture (e.g. initializing a BertForSequenceClassification model from a BertForPreTraining model).\n",
      "- This IS NOT expected if you are initializing RobertaModel from the checkpoint of a model that you expect to be exactly identical (initializing a BertForSequenceClassification model from a BertForSequenceClassification model).\n",
      "Some weights of the model checkpoint at huggingface/CodeBERTa-small-v1 were not used when initializing RobertaModel: ['lm_head.dense.bias', 'lm_head.bias', 'lm_head.decoder.weight', 'lm_head.dense.weight', 'lm_head.decoder.bias', 'lm_head.layer_norm.weight', 'lm_head.layer_norm.bias']\n",
      "- This IS expected if you are initializing RobertaModel from the checkpoint of a model trained on another task or with another architecture (e.g. initializing a BertForSequenceClassification model from a BertForPreTraining model).\n",
      "- This IS NOT expected if you are initializing RobertaModel from the checkpoint of a model that you expect to be exactly identical (initializing a BertForSequenceClassification model from a BertForSequenceClassification model).\n",
      "100% 26/26 [00:20<00:00,  1.25it/s]\n"
     ]
    }
   ],
   "source": [
    "y_preds = np.zeros(len(test_df))\n",
    "\n",
    "test_set = BERTDataset(test_df, tokenizer, Config.MAX_LEN, data_type='test')\n",
    "testloader = DataLoader(test_set, batch_size=Config.BATCH_SIZE, pin_memory=True, num_workers=Config.NUM_WORKERS)\n",
    "\n",
    "nets = []\n",
    "for fold in range(Config.N_FOLD):\n",
    "    net = BERTClass()\n",
    "    net.to(device)\n",
    "    net.load_state_dict(torch.load(CP_DIR / f'{HOST}_{NB}_checkpoint_{fold}.pt'))\n",
    "    nets.append(net)\n",
    "\n",
    "fold_preds = []\n",
    "for i, (data) in tqdm(enumerate(testloader), total=len(testloader)):\n",
    "    net.eval()\n",
    "    with torch.no_grad():\n",
    "\n",
    "        ids = data['ids'].to(device, dtype = torch.long)\n",
    "        mask = data['mask'].to(device, dtype = torch.long)\n",
    "        targets = data['targets'].to(device, dtype = torch.float)\n",
    "        \n",
    "        \n",
    "        outputs_nps = []\n",
    "        for net in nets:\n",
    "            outputs = net(ids, mask).squeeze()\n",
    "            outputs_np_fold = outputs.to('cpu').detach().numpy().copy()\n",
    "            outputs_nps.append(outputs_np_fold)\n",
    "\n",
    "        fold_preds.append(np.mean(outputs_nps, axis=0))\n",
    "\n",
    "y_preds = np.hstack(fold_preds).reshape(-1)"
   ]
  },
  {
   "cell_type": "code",
   "execution_count": 19,
   "metadata": {
    "_cell_guid": "33db69ee-e322-4324-ab31-ee61c3dacb83",
    "_uuid": "5756f350-a8cf-4200-a9bd-8ce8f3177020"
   },
   "outputs": [],
   "source": [
    "test_df['label'] = np.hstack(y_preds)\n",
    "test_df[['id', 'label']].to_csv(OUTPUT_DIR / f'sub_{HOST}_{NB}.csv', index=False)"
   ]
  },
  {
   "cell_type": "code",
   "execution_count": 22,
   "metadata": {},
   "outputs": [
    {
     "data": {
      "text/plain": [
       "(array([ 19., 193., 549., 711., 632., 444., 349., 236., 106.,  24.]),\n",
       " array([-4.3425126 , -3.4780247 , -2.613537  , -1.7490492 , -0.8845614 ,\n",
       "        -0.02007365,  0.8444141 ,  1.7089019 ,  2.5733898 ,  3.4378774 ,\n",
       "         4.3023653 ], dtype=float32),\n",
       " <BarContainer object of 10 artists>)"
      ]
     },
     "execution_count": 22,
     "metadata": {},
     "output_type": "execute_result"
    },
    {
     "data": {
      "image/png": "[encoded data removed]",
      "text/plain": [
       "<Figure size 432x288 with 1 Axes>"
      ]
     },
     "metadata": {
      "needs_background": "light"
     },
     "output_type": "display_data"
    }
   ],
   "source": [
    "plt.hist(y_preds)"
   ]
  },
  {
   "cell_type": "code",
   "execution_count": null,
   "metadata": {},
   "outputs": [],
   "source": []
  }
 ],
 "metadata": {
  "kernelspec": {
   "display_name": "Python 3 (ipykernel)",
   "language": "python",
   "name": "python3"
  },
  "language_info": {
   "codemirror_mode": {
    "name": "ipython",
    "version": 3
   },
   "file_extension": ".py",
   "mimetype": "text/x-python",
   "name": "python",
   "nbconvert_exporter": "python",
   "pygments_lexer": "ipython3",
   "version": "3.7.12"
  }
 },
 "nbformat": 4,
 "nbformat_minor": 4
}
